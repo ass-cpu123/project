{
 "cells": [
  {
   "cell_type": "markdown",
   "id": "eb5deb4b",
   "metadata": {},
   "source": [
    "# 一、基于词袋模型（SVM）"
   ]
  },
  {
   "cell_type": "markdown",
   "id": "10ae03cd",
   "metadata": {},
   "source": [
    "## 导入相关的库"
   ]
  },
  {
   "cell_type": "code",
   "execution_count": 3,
   "id": "c50957a4",
   "metadata": {},
   "outputs": [
    {
     "name": "stderr",
     "output_type": "stream",
     "text": [
      "D:\\Software\\python\\Lib\\site-packages\\gensim\\similarities\\__init__.py:15: UserWarning: The gensim.similarities.levenshtein submodule is disabled, because the optional Levenshtein package <https://pypi.org/project/python-Levenshtein/> is unavailable. Install Levenhstein (e.g. `pip install python-Levenshtein`) to suppress this warning.\n",
      "  warnings.warn(msg)\n"
     ]
    }
   ],
   "source": [
    "import pandas as pd \n",
    "import numpy as np\n",
    "import nltk\n",
    "from nltk.corpus import brown\n",
    "from nltk import WordNetLemmatizer\n",
    "from nltk.stem import SnowballStemmer\n",
    "from nltk import FreqDist\n",
    "from gensim.models.word2vec import Word2Vec\n",
    "import joblib\n",
    "import jieba\n",
    "from nltk.corpus import stopwords\n",
    "#词云图必备库\n",
    "import wordcloud\n",
    "from wordcloud import WordCloud\n",
    "import matplotlib as plt\n",
    "from matplotlib import pyplot as plt\n",
    "import imageio"
   ]
  },
  {
   "cell_type": "markdown",
   "id": "1a6a9194",
   "metadata": {},
   "source": [
    "## 导入爬取的数据"
   ]
  },
  {
   "cell_type": "code",
   "execution_count": 4,
   "id": "ead339b8",
   "metadata": {},
   "outputs": [
    {
     "data": {
      "text/html": [
       "<div>\n",
       "<style scoped>\n",
       "    .dataframe tbody tr th:only-of-type {\n",
       "        vertical-align: middle;\n",
       "    }\n",
       "\n",
       "    .dataframe tbody tr th {\n",
       "        vertical-align: top;\n",
       "    }\n",
       "\n",
       "    .dataframe thead th {\n",
       "        text-align: right;\n",
       "    }\n",
       "</style>\n",
       "<table border=\"1\" class=\"dataframe\">\n",
       "  <thead>\n",
       "    <tr style=\"text-align: right;\">\n",
       "      <th></th>\n",
       "      <th>评价</th>\n",
       "      <th>y</th>\n",
       "    </tr>\n",
       "  </thead>\n",
       "  <tbody>\n",
       "    <tr>\n",
       "      <th>0</th>\n",
       "      <td>之前看过草枕，京东购书还是不错的，特别是有活动的时候，99块10本，选到自己喜欢的书籍，可以...</td>\n",
       "      <td>1</td>\n",
       "    </tr>\n",
       "    <tr>\n",
       "      <th>1</th>\n",
       "      <td>京东发货速度还是没个说的。这次活动很给力，一下选了40多本，大人小孩都够看一段时间了。书柜也...</td>\n",
       "      <td>1</td>\n",
       "    </tr>\n",
       "    <tr>\n",
       "      <th>2</th>\n",
       "      <td>京东品类丰富，物品保真，包装完善，价格公道，优惠活动多多。\\n产品品质有保证，款式新颖，自营...</td>\n",
       "      <td>1</td>\n",
       "    </tr>\n",
       "    <tr>\n",
       "      <th>3</th>\n",
       "      <td>首先，发货算是挺及时。\\n其次，快递非常快，楼下有快递站，拿也挺方便的。包装也很好，没损坏。...</td>\n",
       "      <td>1</td>\n",
       "    </tr>\n",
       "    <tr>\n",
       "      <th>4</th>\n",
       "      <td>书很不错，字体清晰大小合适，排班整洁易于阅读。很好读起来很畅快。书本身精彩有趣，笔触优美，很...</td>\n",
       "      <td>1</td>\n",
       "    </tr>\n",
       "    <tr>\n",
       "      <th>...</th>\n",
       "      <td>...</td>\n",
       "      <td>...</td>\n",
       "    </tr>\n",
       "    <tr>\n",
       "      <th>544</th>\n",
       "      <td>一直在京东买书，价格还算可以，所以基本没带孩子如果书店，这个比较失败。家里有小宝宝，真心走不...</td>\n",
       "      <td>1</td>\n",
       "    </tr>\n",
       "    <tr>\n",
       "      <th>545</th>\n",
       "      <td>希望宝宝可以喜欢这些书    养成看书的好习惯   书的质量非常好  值得购买</td>\n",
       "      <td>1</td>\n",
       "    </tr>\n",
       "    <tr>\n",
       "      <th>546</th>\n",
       "      <td>书的质量很好，是正版，快递一天就到了。黑泽明的电影看过了，看看书</td>\n",
       "      <td>1</td>\n",
       "    </tr>\n",
       "    <tr>\n",
       "      <th>547</th>\n",
       "      <td>京东物流很快，购物方便，活动时间买书很划算，书也不错，好评！</td>\n",
       "      <td>1</td>\n",
       "    </tr>\n",
       "    <tr>\n",
       "      <th>548</th>\n",
       "      <td>好书一本，一到就看了，纸质很好</td>\n",
       "      <td>1</td>\n",
       "    </tr>\n",
       "  </tbody>\n",
       "</table>\n",
       "<p>549 rows × 2 columns</p>\n",
       "</div>"
      ],
      "text/plain": [
       "                                                    评价  y\n",
       "0    之前看过草枕，京东购书还是不错的，特别是有活动的时候，99块10本，选到自己喜欢的书籍，可以...  1\n",
       "1    京东发货速度还是没个说的。这次活动很给力，一下选了40多本，大人小孩都够看一段时间了。书柜也...  1\n",
       "2    京东品类丰富，物品保真，包装完善，价格公道，优惠活动多多。\\n产品品质有保证，款式新颖，自营...  1\n",
       "3    首先，发货算是挺及时。\\n其次，快递非常快，楼下有快递站，拿也挺方便的。包装也很好，没损坏。...  1\n",
       "4    书很不错，字体清晰大小合适，排班整洁易于阅读。很好读起来很畅快。书本身精彩有趣，笔触优美，很...  1\n",
       "..                                                 ... ..\n",
       "544  一直在京东买书，价格还算可以，所以基本没带孩子如果书店，这个比较失败。家里有小宝宝，真心走不...  1\n",
       "545            希望宝宝可以喜欢这些书    养成看书的好习惯   书的质量非常好  值得购买  1\n",
       "546                   书的质量很好，是正版，快递一天就到了。黑泽明的电影看过了，看看书  1\n",
       "547                     京东物流很快，购物方便，活动时间买书很划算，书也不错，好评！  1\n",
       "548                                    好书一本，一到就看了，纸质很好  1\n",
       "\n",
       "[549 rows x 2 columns]"
      ]
     },
     "execution_count": 4,
     "metadata": {},
     "output_type": "execute_result"
    }
   ],
   "source": [
    "comment_positive = pd.read_csv('D:/jd_good_comment.csv',encoding=\"gb18030\")\n",
    "comment_positive[\"y\"] = 1\n",
    "comment_positive.drop([\"颜色\",'型号'],axis = 1)\n",
    "# df0 = comment_positive.append()"
   ]
  },
  {
   "cell_type": "code",
   "execution_count": 5,
   "id": "3e167d43",
   "metadata": {},
   "outputs": [
    {
     "data": {
      "text/html": [
       "<div>\n",
       "<style scoped>\n",
       "    .dataframe tbody tr th:only-of-type {\n",
       "        vertical-align: middle;\n",
       "    }\n",
       "\n",
       "    .dataframe tbody tr th {\n",
       "        vertical-align: top;\n",
       "    }\n",
       "\n",
       "    .dataframe thead th {\n",
       "        text-align: right;\n",
       "    }\n",
       "</style>\n",
       "<table border=\"1\" class=\"dataframe\">\n",
       "  <thead>\n",
       "    <tr style=\"text-align: right;\">\n",
       "      <th></th>\n",
       "      <th>评价</th>\n",
       "      <th>y</th>\n",
       "    </tr>\n",
       "  </thead>\n",
       "  <tbody>\n",
       "    <tr>\n",
       "      <th>0</th>\n",
       "      <td>书都快出来了！！！</td>\n",
       "      <td>0</td>\n",
       "    </tr>\n",
       "    <tr>\n",
       "      <th>1</th>\n",
       "      <td>一次买了十本书，就这本书质量最差，无数的空白页，一看就是盗版，决不要在他家买书了！！！</td>\n",
       "      <td>0</td>\n",
       "    </tr>\n",
       "    <tr>\n",
       "      <th>2</th>\n",
       "      <td>真的不敢恭维，你告诉我这是保证正版图书？纸张薄的要命，内容还有串了的，如果不是过了你们自己所...</td>\n",
       "      <td>0</td>\n",
       "    </tr>\n",
       "    <tr>\n",
       "      <th>3</th>\n",
       "      <td>说实话，这个99十本书有点坑。。。果然是便宜没好货，看着图片很不错，实际书都是那种劣质纸张做...</td>\n",
       "      <td>0</td>\n",
       "    </tr>\n",
       "    <tr>\n",
       "      <th>4</th>\n",
       "      <td>一言难尽不知道你懂不懂，这盗版书不能再盗版了，99十本书有点坑。看着图片不错，实际书都是那种...</td>\n",
       "      <td>0</td>\n",
       "    </tr>\n",
       "    <tr>\n",
       "      <th>...</th>\n",
       "      <td>...</td>\n",
       "      <td>...</td>\n",
       "    </tr>\n",
       "    <tr>\n",
       "      <th>247</th>\n",
       "      <td>为什么是删减版</td>\n",
       "      <td>0</td>\n",
       "    </tr>\n",
       "    <tr>\n",
       "      <th>248</th>\n",
       "      <td>一点也不好</td>\n",
       "      <td>0</td>\n",
       "    </tr>\n",
       "    <tr>\n",
       "      <th>249</th>\n",
       "      <td>差评，书写到一半就没了，连个句号都没有</td>\n",
       "      <td>0</td>\n",
       "    </tr>\n",
       "    <tr>\n",
       "      <th>250</th>\n",
       "      <td>是短片小说，不好看，欣赏不来。</td>\n",
       "      <td>0</td>\n",
       "    </tr>\n",
       "    <tr>\n",
       "      <th>251</th>\n",
       "      <td>假书，从内容到外表，跟原版太差了，退货</td>\n",
       "      <td>0</td>\n",
       "    </tr>\n",
       "  </tbody>\n",
       "</table>\n",
       "<p>198 rows × 2 columns</p>\n",
       "</div>"
      ],
      "text/plain": [
       "                                                    评价  y\n",
       "0                                            书都快出来了！！！  0\n",
       "1          一次买了十本书，就这本书质量最差，无数的空白页，一看就是盗版，决不要在他家买书了！！！  0\n",
       "2    真的不敢恭维，你告诉我这是保证正版图书？纸张薄的要命，内容还有串了的，如果不是过了你们自己所...  0\n",
       "3    说实话，这个99十本书有点坑。。。果然是便宜没好货，看着图片很不错，实际书都是那种劣质纸张做...  0\n",
       "4    一言难尽不知道你懂不懂，这盗版书不能再盗版了，99十本书有点坑。看着图片不错，实际书都是那种...  0\n",
       "..                                                 ... ..\n",
       "247                                            为什么是删减版  0\n",
       "248                                              一点也不好  0\n",
       "249                                差评，书写到一半就没了，连个句号都没有  0\n",
       "250                                    是短片小说，不好看，欣赏不来。  0\n",
       "251                                假书，从内容到外表，跟原版太差了，退货  0\n",
       "\n",
       "[198 rows x 2 columns]"
      ]
     },
     "execution_count": 5,
     "metadata": {},
     "output_type": "execute_result"
    }
   ],
   "source": [
    "comment_negative = pd.read_csv('D:/jd_bad_comment.csv',encoding=\"gb18030\")\n",
    "comment_negative = comment_negative.drop_duplicates()\n",
    "comment_negative['y'] = 0\n",
    "comment_negative\n",
    "comment_negative.drop(columns = [\"颜色\",\"型号\"],axis = 1)"
   ]
  },
  {
   "cell_type": "markdown",
   "id": "6788f742",
   "metadata": {},
   "source": [
    "将好评和差评数据合并到一个表格中"
   ]
  },
  {
   "cell_type": "code",
   "execution_count": 6,
   "id": "a2b330db",
   "metadata": {
    "scrolled": true
   },
   "outputs": [
    {
     "data": {
      "text/html": [
       "<div>\n",
       "<style scoped>\n",
       "    .dataframe tbody tr th:only-of-type {\n",
       "        vertical-align: middle;\n",
       "    }\n",
       "\n",
       "    .dataframe tbody tr th {\n",
       "        vertical-align: top;\n",
       "    }\n",
       "\n",
       "    .dataframe thead th {\n",
       "        text-align: right;\n",
       "    }\n",
       "</style>\n",
       "<table border=\"1\" class=\"dataframe\">\n",
       "  <thead>\n",
       "    <tr style=\"text-align: right;\">\n",
       "      <th></th>\n",
       "      <th>评价</th>\n",
       "      <th>颜色</th>\n",
       "      <th>型号</th>\n",
       "      <th>y</th>\n",
       "      <th>0</th>\n",
       "    </tr>\n",
       "  </thead>\n",
       "  <tbody>\n",
       "    <tr>\n",
       "      <th>0</th>\n",
       "      <td>之前看过草枕，京东购书还是不错的，特别是有活动的时候，99块10本，选到自己喜欢的书籍，可以...</td>\n",
       "      <td>我是猫</td>\n",
       "      <td>NaN</td>\n",
       "      <td>1</td>\n",
       "      <td></td>\n",
       "    </tr>\n",
       "    <tr>\n",
       "      <th>1</th>\n",
       "      <td>京东发货速度还是没个说的。这次活动很给力，一下选了40多本，大人小孩都够看一段时间了。书柜也...</td>\n",
       "      <td>了不起的盖茨比</td>\n",
       "      <td>NaN</td>\n",
       "      <td>1</td>\n",
       "      <td></td>\n",
       "    </tr>\n",
       "    <tr>\n",
       "      <th>2</th>\n",
       "      <td>京东品类丰富，物品保真，包装完善，价格公道，优惠活动多多。\\n产品品质有保证，款式新颖，自营...</td>\n",
       "      <td>鲁滨孙漂流记</td>\n",
       "      <td>NaN</td>\n",
       "      <td>1</td>\n",
       "      <td></td>\n",
       "    </tr>\n",
       "    <tr>\n",
       "      <th>3</th>\n",
       "      <td>首先，发货算是挺及时。\\n其次，快递非常快，楼下有快递站，拿也挺方便的。包装也很好，没损坏。...</td>\n",
       "      <td>纳兰词</td>\n",
       "      <td>NaN</td>\n",
       "      <td>1</td>\n",
       "      <td></td>\n",
       "    </tr>\n",
       "    <tr>\n",
       "      <th>4</th>\n",
       "      <td>书很不错，字体清晰大小合适，排班整洁易于阅读。很好读起来很畅快。书本身精彩有趣，笔触优美，很...</td>\n",
       "      <td>了不起的盖茨比</td>\n",
       "      <td>NaN</td>\n",
       "      <td>1</td>\n",
       "      <td></td>\n",
       "    </tr>\n",
       "    <tr>\n",
       "      <th>...</th>\n",
       "      <td>...</td>\n",
       "      <td>...</td>\n",
       "      <td>...</td>\n",
       "      <td>...</td>\n",
       "      <td>...</td>\n",
       "    </tr>\n",
       "    <tr>\n",
       "      <th>742</th>\n",
       "      <td>为什么是删减版</td>\n",
       "      <td>双城记</td>\n",
       "      <td>NaN</td>\n",
       "      <td>0</td>\n",
       "      <td></td>\n",
       "    </tr>\n",
       "    <tr>\n",
       "      <th>743</th>\n",
       "      <td>一点也不好</td>\n",
       "      <td>居里夫人自传</td>\n",
       "      <td>NaN</td>\n",
       "      <td>0</td>\n",
       "      <td></td>\n",
       "    </tr>\n",
       "    <tr>\n",
       "      <th>744</th>\n",
       "      <td>差评，书写到一半就没了，连个句号都没有</td>\n",
       "      <td>居里夫人自传</td>\n",
       "      <td>NaN</td>\n",
       "      <td>0</td>\n",
       "      <td></td>\n",
       "    </tr>\n",
       "    <tr>\n",
       "      <th>745</th>\n",
       "      <td>是短片小说，不好看，欣赏不来。</td>\n",
       "      <td>罗生门</td>\n",
       "      <td>NaN</td>\n",
       "      <td>0</td>\n",
       "      <td></td>\n",
       "    </tr>\n",
       "    <tr>\n",
       "      <th>746</th>\n",
       "      <td>假书，从内容到外表，跟原版太差了，退货</td>\n",
       "      <td>居里夫人自传</td>\n",
       "      <td>NaN</td>\n",
       "      <td>0</td>\n",
       "      <td></td>\n",
       "    </tr>\n",
       "  </tbody>\n",
       "</table>\n",
       "<p>747 rows × 5 columns</p>\n",
       "</div>"
      ],
      "text/plain": [
       "                                                    评价       颜色   型号  y  0\n",
       "0    之前看过草枕，京东购书还是不错的，特别是有活动的时候，99块10本，选到自己喜欢的书籍，可以...      我是猫  NaN  1   \n",
       "1    京东发货速度还是没个说的。这次活动很给力，一下选了40多本，大人小孩都够看一段时间了。书柜也...  了不起的盖茨比  NaN  1   \n",
       "2    京东品类丰富，物品保真，包装完善，价格公道，优惠活动多多。\\n产品品质有保证，款式新颖，自营...   鲁滨孙漂流记  NaN  1   \n",
       "3    首先，发货算是挺及时。\\n其次，快递非常快，楼下有快递站，拿也挺方便的。包装也很好，没损坏。...      纳兰词  NaN  1   \n",
       "4    书很不错，字体清晰大小合适，排班整洁易于阅读。很好读起来很畅快。书本身精彩有趣，笔触优美，很...  了不起的盖茨比  NaN  1   \n",
       "..                                                 ...      ...  ... .. ..\n",
       "742                                            为什么是删减版      双城记  NaN  0   \n",
       "743                                              一点也不好   居里夫人自传  NaN  0   \n",
       "744                                差评，书写到一半就没了，连个句号都没有   居里夫人自传  NaN  0   \n",
       "745                                    是短片小说，不好看，欣赏不来。      罗生门  NaN  0   \n",
       "746                                假书，从内容到外表，跟原版太差了，退货   居里夫人自传  NaN  0   \n",
       "\n",
       "[747 rows x 5 columns]"
      ]
     },
     "execution_count": 6,
     "metadata": {},
     "output_type": "execute_result"
    }
   ],
   "source": [
    "comment_sum = comment_positive.append(comment_negative,ignore_index=True)\n",
    "comment_sum[\"0\"] = \" \"\n",
    "comment_sum"
   ]
  },
  {
   "cell_type": "markdown",
   "id": "83ceb83e",
   "metadata": {},
   "source": [
    "使用jieba.lcut()进行分词处理，由于很多语气词也算情感词，因此这里不导入停用词"
   ]
  },
  {
   "cell_type": "code",
   "execution_count": 7,
   "id": "6da4aed5",
   "metadata": {},
   "outputs": [
    {
     "data": {
      "text/plain": [
       "<function __main__.<lambda>(x)>"
      ]
     },
     "execution_count": 7,
     "metadata": {},
     "output_type": "execute_result"
    }
   ],
   "source": [
    "cut_word = lambda x :\" \".join(jieba.lcut(x))\n",
    "cut_word"
   ]
  },
  {
   "cell_type": "markdown",
   "id": "18f38ee2",
   "metadata": {},
   "source": [
    "将分词结果导入到表表格中"
   ]
  },
  {
   "cell_type": "code",
   "execution_count": 8,
   "id": "0771bb39",
   "metadata": {
    "tags": []
   },
   "outputs": [
    {
     "name": "stderr",
     "output_type": "stream",
     "text": [
      "Building prefix dict from the default dictionary ...\n",
      "Dumping model to file cache D:\\temps\\jieba.cache\n",
      "Loading model cost 0.686 seconds.\n",
      "Prefix dict has been built successfully.\n"
     ]
    },
    {
     "data": {
      "text/html": [
       "<div>\n",
       "<style scoped>\n",
       "    .dataframe tbody tr th:only-of-type {\n",
       "        vertical-align: middle;\n",
       "    }\n",
       "\n",
       "    .dataframe tbody tr th {\n",
       "        vertical-align: top;\n",
       "    }\n",
       "\n",
       "    .dataframe thead th {\n",
       "        text-align: right;\n",
       "    }\n",
       "</style>\n",
       "<table border=\"1\" class=\"dataframe\">\n",
       "  <thead>\n",
       "    <tr style=\"text-align: right;\">\n",
       "      <th></th>\n",
       "      <th>评价</th>\n",
       "      <th>颜色</th>\n",
       "      <th>型号</th>\n",
       "      <th>y</th>\n",
       "      <th>0</th>\n",
       "      <th>clean_text</th>\n",
       "    </tr>\n",
       "  </thead>\n",
       "  <tbody>\n",
       "    <tr>\n",
       "      <th>0</th>\n",
       "      <td>之前看过草枕，京东购书还是不错的，特别是有活动的时候，99块10本，选到自己喜欢的书籍，可以...</td>\n",
       "      <td>我是猫</td>\n",
       "      <td>NaN</td>\n",
       "      <td>1</td>\n",
       "      <td></td>\n",
       "      <td>之前 看过 草枕 ， 京东 购书 还是 不错 的 ， 特别 是 有 活动 的 时候 ， 99...</td>\n",
       "    </tr>\n",
       "    <tr>\n",
       "      <th>1</th>\n",
       "      <td>京东发货速度还是没个说的。这次活动很给力，一下选了40多本，大人小孩都够看一段时间了。书柜也...</td>\n",
       "      <td>了不起的盖茨比</td>\n",
       "      <td>NaN</td>\n",
       "      <td>1</td>\n",
       "      <td></td>\n",
       "      <td>京东 发货 速度 还是 没个 说 的 。 这次 活动 很 给 力 ， 一下 选 了 40 多...</td>\n",
       "    </tr>\n",
       "    <tr>\n",
       "      <th>2</th>\n",
       "      <td>京东品类丰富，物品保真，包装完善，价格公道，优惠活动多多。\\n产品品质有保证，款式新颖，自营...</td>\n",
       "      <td>鲁滨孙漂流记</td>\n",
       "      <td>NaN</td>\n",
       "      <td>1</td>\n",
       "      <td></td>\n",
       "      <td>京东 品类 丰富 ， 物品 保真 ， 包装 完善 ， 价格公道 ， 优惠活动 多多 。 \\n...</td>\n",
       "    </tr>\n",
       "    <tr>\n",
       "      <th>3</th>\n",
       "      <td>首先，发货算是挺及时。\\n其次，快递非常快，楼下有快递站，拿也挺方便的。包装也很好，没损坏。...</td>\n",
       "      <td>纳兰词</td>\n",
       "      <td>NaN</td>\n",
       "      <td>1</td>\n",
       "      <td></td>\n",
       "      <td>首先 ， 发货 算是 挺 及时 。 \\n 其次 ， 快递 非常 快 ， 楼下 有 快递 站 ...</td>\n",
       "    </tr>\n",
       "    <tr>\n",
       "      <th>4</th>\n",
       "      <td>书很不错，字体清晰大小合适，排班整洁易于阅读。很好读起来很畅快。书本身精彩有趣，笔触优美，很...</td>\n",
       "      <td>了不起的盖茨比</td>\n",
       "      <td>NaN</td>\n",
       "      <td>1</td>\n",
       "      <td></td>\n",
       "      <td>书 很 不错 ， 字体 清晰 大小 合适 ， 排班 整洁 易于 阅读 。 很 好 读 起来 ...</td>\n",
       "    </tr>\n",
       "    <tr>\n",
       "      <th>5</th>\n",
       "      <td>京东这个活动每年都参加，99买十本，而且包装特别好，送货特别快，书籍种类特别多，通过大家买的...</td>\n",
       "      <td>局外人</td>\n",
       "      <td>NaN</td>\n",
       "      <td>1</td>\n",
       "      <td></td>\n",
       "      <td>京东 这个 活动 每年 都 参加 ， 99 买 十本 ， 而且 包装 特别 好 ， 送货 特...</td>\n",
       "    </tr>\n",
       "    <tr>\n",
       "      <th>6</th>\n",
       "      <td>京东发货速度还是没个说的。这次活动很给力，一下选了40多本，大人小孩都够看一段时间了。书柜也...</td>\n",
       "      <td>纳兰词</td>\n",
       "      <td>NaN</td>\n",
       "      <td>1</td>\n",
       "      <td></td>\n",
       "      <td>京东 发货 速度 还是 没个 说 的 。 这次 活动 很 给 力 ， 一下 选 了 40 多...</td>\n",
       "    </tr>\n",
       "    <tr>\n",
       "      <th>7</th>\n",
       "      <td>孩子特别喜欢这本书，说非常喜欢，问了我很多问题，书是正版，印刷很好，无异味，值得购买</td>\n",
       "      <td>一只黑猩猩的宇宙史</td>\n",
       "      <td>NaN</td>\n",
       "      <td>1</td>\n",
       "      <td></td>\n",
       "      <td>孩子 特别 喜欢 这 本书 ， 说 非常 喜欢 ， 问 了 我 很多 问题 ， 书 是 正版...</td>\n",
       "    </tr>\n",
       "    <tr>\n",
       "      <th>8</th>\n",
       "      <td>买东西买书上京东，京东一下一时爽，一直京东一直爽。给力\\n啊！非常好的购物体验，又快，又好，...</td>\n",
       "      <td>罗生门</td>\n",
       "      <td>NaN</td>\n",
       "      <td>1</td>\n",
       "      <td></td>\n",
       "      <td>买 东西 买 书上 京东 ， 京东 一下 一时 爽 ， 一直 京东 一 直爽 。 给力 \\n...</td>\n",
       "    </tr>\n",
       "    <tr>\n",
       "      <th>9</th>\n",
       "      <td>一年一度的京东618活动又来了，把购物车里面积攒的书籍，趁着活动都给清仓了，拉上同事买了一小...</td>\n",
       "      <td>局外人</td>\n",
       "      <td>NaN</td>\n",
       "      <td>1</td>\n",
       "      <td></td>\n",
       "      <td>一年一度 的 京东 618 活动 又 来 了 ， 把 购物车 里面 积攒 的 书籍 ， 趁着...</td>\n",
       "    </tr>\n",
       "    <tr>\n",
       "      <th>10</th>\n",
       "      <td>评价</td>\n",
       "      <td>颜色</td>\n",
       "      <td>型号</td>\n",
       "      <td>1</td>\n",
       "      <td></td>\n",
       "      <td>评价</td>\n",
       "    </tr>\n",
       "    <tr>\n",
       "      <th>11</th>\n",
       "      <td>发货速度很快，包装精美，非常喜欢的店铺，经常来看看，图书特别漂亮，色彩靓丽，纸质厚实，内容丰...</td>\n",
       "      <td>我是猫</td>\n",
       "      <td>NaN</td>\n",
       "      <td>1</td>\n",
       "      <td></td>\n",
       "      <td>发货 速度 很快 ， 包装 精美 ， 非常 喜欢 的 店铺 ， 经常 来 看看 ， 图书 特...</td>\n",
       "    </tr>\n",
       "    <tr>\n",
       "      <th>12</th>\n",
       "      <td>京东品类丰富，物品保真，包装完善，价格公道，优惠活动多多。\\n产品品质有保证，款式新颖，自营...</td>\n",
       "      <td>局外人</td>\n",
       "      <td>NaN</td>\n",
       "      <td>1</td>\n",
       "      <td></td>\n",
       "      <td>京东 品类 丰富 ， 物品 保真 ， 包装 完善 ， 价格公道 ， 优惠活动 多多 。 \\n...</td>\n",
       "    </tr>\n",
       "    <tr>\n",
       "      <th>13</th>\n",
       "      <td>京东品类丰富，物品保真，包装完善，价格公道，优惠活动多多。\\n产品品质有保证，款式新颖，自营...</td>\n",
       "      <td>罗生门</td>\n",
       "      <td>NaN</td>\n",
       "      <td>1</td>\n",
       "      <td></td>\n",
       "      <td>京东 品类 丰富 ， 物品 保真 ， 包装 完善 ， 价格公道 ， 优惠活动 多多 。 \\n...</td>\n",
       "    </tr>\n",
       "    <tr>\n",
       "      <th>14</th>\n",
       "      <td>孩子一年级 拿到手里迫不及待的就看了起来。里面有穿插的图画彩页  内容写的也通俗易懂，孩子自...</td>\n",
       "      <td>一只黑猩猩的宇宙史</td>\n",
       "      <td>NaN</td>\n",
       "      <td>1</td>\n",
       "      <td></td>\n",
       "      <td>孩子 一年级   拿到 手里 迫不及待 的 就 看 了 起来 。 里面 有 穿插 的 图画 ...</td>\n",
       "    </tr>\n",
       "    <tr>\n",
       "      <th>15</th>\n",
       "      <td>非常感谢京东商城网购晒单平台打造全新品牌产品价格实惠质量保证的服务态度非常好??</td>\n",
       "      <td>罗生门</td>\n",
       "      <td>NaN</td>\n",
       "      <td>1</td>\n",
       "      <td></td>\n",
       "      <td>非常感谢 京东 商城 网购 晒 单 平台 打造 全新 品牌 产品价格 实惠 质量保证 的 服...</td>\n",
       "    </tr>\n",
       "    <tr>\n",
       "      <th>16</th>\n",
       "      <td>很早以前就想买这本书，这次京东搞活动正好买了，书本包装精美，印刷清晰，封面漂亮，迫不及待的拿...</td>\n",
       "      <td>局外人</td>\n",
       "      <td>NaN</td>\n",
       "      <td>1</td>\n",
       "      <td></td>\n",
       "      <td>很早以前 就 想 买 这 本书 ， 这次 京东 搞 活动 正好 买 了 ， 书本 包装 精美...</td>\n",
       "    </tr>\n",
       "    <tr>\n",
       "      <th>17</th>\n",
       "      <td>《纳兰词》一直听说过，但是都没有时间拜读，趁着活动买了这本书。还好没亏，书本用纸质量不错，纸...</td>\n",
       "      <td>纳兰词</td>\n",
       "      <td>NaN</td>\n",
       "      <td>1</td>\n",
       "      <td></td>\n",
       "      <td>《 纳兰词 》 一直 听说 过 ， 但是 都 没有 时间 拜读 ， 趁着 活动 买 了 这 ...</td>\n",
       "    </tr>\n",
       "    <tr>\n",
       "      <th>18</th>\n",
       "      <td>发货速度很快，包装精美，非常喜欢的店铺，经常来看看，书籍特别帅气，颜值高，大人小孩都喜欢！书...</td>\n",
       "      <td>一只黑猩猩的宇宙史</td>\n",
       "      <td>NaN</td>\n",
       "      <td>1</td>\n",
       "      <td></td>\n",
       "      <td>发货 速度 很快 ， 包装 精美 ， 非常 喜欢 的 店铺 ， 经常 来 看看 ， 书籍 特...</td>\n",
       "    </tr>\n",
       "    <tr>\n",
       "      <th>19</th>\n",
       "      <td>虽然这本书不厚，但感觉很适合小朋友看。有很多页都是彩色的，而且字也不算多。适合小学生作为课外...</td>\n",
       "      <td>一只黑猩猩的宇宙史</td>\n",
       "      <td>NaN</td>\n",
       "      <td>1</td>\n",
       "      <td></td>\n",
       "      <td>虽然 这 本书 不厚 ， 但 感觉 很 适合 小朋友 看 。 有 很多 页 都 是 彩色 的...</td>\n",
       "    </tr>\n",
       "  </tbody>\n",
       "</table>\n",
       "</div>"
      ],
      "text/plain": [
       "                                                   评价         颜色   型号  y  0  \\\n",
       "0   之前看过草枕，京东购书还是不错的，特别是有活动的时候，99块10本，选到自己喜欢的书籍，可以...        我是猫  NaN  1      \n",
       "1   京东发货速度还是没个说的。这次活动很给力，一下选了40多本，大人小孩都够看一段时间了。书柜也...    了不起的盖茨比  NaN  1      \n",
       "2   京东品类丰富，物品保真，包装完善，价格公道，优惠活动多多。\\n产品品质有保证，款式新颖，自营...     鲁滨孙漂流记  NaN  1      \n",
       "3   首先，发货算是挺及时。\\n其次，快递非常快，楼下有快递站，拿也挺方便的。包装也很好，没损坏。...        纳兰词  NaN  1      \n",
       "4   书很不错，字体清晰大小合适，排班整洁易于阅读。很好读起来很畅快。书本身精彩有趣，笔触优美，很...    了不起的盖茨比  NaN  1      \n",
       "5   京东这个活动每年都参加，99买十本，而且包装特别好，送货特别快，书籍种类特别多，通过大家买的...        局外人  NaN  1      \n",
       "6   京东发货速度还是没个说的。这次活动很给力，一下选了40多本，大人小孩都够看一段时间了。书柜也...        纳兰词  NaN  1      \n",
       "7          孩子特别喜欢这本书，说非常喜欢，问了我很多问题，书是正版，印刷很好，无异味，值得购买  一只黑猩猩的宇宙史  NaN  1      \n",
       "8   买东西买书上京东，京东一下一时爽，一直京东一直爽。给力\\n啊！非常好的购物体验，又快，又好，...        罗生门  NaN  1      \n",
       "9   一年一度的京东618活动又来了，把购物车里面积攒的书籍，趁着活动都给清仓了，拉上同事买了一小...        局外人  NaN  1      \n",
       "10                                                 评价         颜色   型号  1      \n",
       "11  发货速度很快，包装精美，非常喜欢的店铺，经常来看看，图书特别漂亮，色彩靓丽，纸质厚实，内容丰...        我是猫  NaN  1      \n",
       "12  京东品类丰富，物品保真，包装完善，价格公道，优惠活动多多。\\n产品品质有保证，款式新颖，自营...        局外人  NaN  1      \n",
       "13  京东品类丰富，物品保真，包装完善，价格公道，优惠活动多多。\\n产品品质有保证，款式新颖，自营...        罗生门  NaN  1      \n",
       "14  孩子一年级 拿到手里迫不及待的就看了起来。里面有穿插的图画彩页  内容写的也通俗易懂，孩子自...  一只黑猩猩的宇宙史  NaN  1      \n",
       "15           非常感谢京东商城网购晒单平台打造全新品牌产品价格实惠质量保证的服务态度非常好??        罗生门  NaN  1      \n",
       "16  很早以前就想买这本书，这次京东搞活动正好买了，书本包装精美，印刷清晰，封面漂亮，迫不及待的拿...        局外人  NaN  1      \n",
       "17  《纳兰词》一直听说过，但是都没有时间拜读，趁着活动买了这本书。还好没亏，书本用纸质量不错，纸...        纳兰词  NaN  1      \n",
       "18  发货速度很快，包装精美，非常喜欢的店铺，经常来看看，书籍特别帅气，颜值高，大人小孩都喜欢！书...  一只黑猩猩的宇宙史  NaN  1      \n",
       "19  虽然这本书不厚，但感觉很适合小朋友看。有很多页都是彩色的，而且字也不算多。适合小学生作为课外...  一只黑猩猩的宇宙史  NaN  1      \n",
       "\n",
       "                                           clean_text  \n",
       "0   之前 看过 草枕 ， 京东 购书 还是 不错 的 ， 特别 是 有 活动 的 时候 ， 99...  \n",
       "1   京东 发货 速度 还是 没个 说 的 。 这次 活动 很 给 力 ， 一下 选 了 40 多...  \n",
       "2   京东 品类 丰富 ， 物品 保真 ， 包装 完善 ， 价格公道 ， 优惠活动 多多 。 \\n...  \n",
       "3   首先 ， 发货 算是 挺 及时 。 \\n 其次 ， 快递 非常 快 ， 楼下 有 快递 站 ...  \n",
       "4   书 很 不错 ， 字体 清晰 大小 合适 ， 排班 整洁 易于 阅读 。 很 好 读 起来 ...  \n",
       "5   京东 这个 活动 每年 都 参加 ， 99 买 十本 ， 而且 包装 特别 好 ， 送货 特...  \n",
       "6   京东 发货 速度 还是 没个 说 的 。 这次 活动 很 给 力 ， 一下 选 了 40 多...  \n",
       "7   孩子 特别 喜欢 这 本书 ， 说 非常 喜欢 ， 问 了 我 很多 问题 ， 书 是 正版...  \n",
       "8   买 东西 买 书上 京东 ， 京东 一下 一时 爽 ， 一直 京东 一 直爽 。 给力 \\n...  \n",
       "9   一年一度 的 京东 618 活动 又 来 了 ， 把 购物车 里面 积攒 的 书籍 ， 趁着...  \n",
       "10                                                 评价  \n",
       "11  发货 速度 很快 ， 包装 精美 ， 非常 喜欢 的 店铺 ， 经常 来 看看 ， 图书 特...  \n",
       "12  京东 品类 丰富 ， 物品 保真 ， 包装 完善 ， 价格公道 ， 优惠活动 多多 。 \\n...  \n",
       "13  京东 品类 丰富 ， 物品 保真 ， 包装 完善 ， 价格公道 ， 优惠活动 多多 。 \\n...  \n",
       "14  孩子 一年级   拿到 手里 迫不及待 的 就 看 了 起来 。 里面 有 穿插 的 图画 ...  \n",
       "15  非常感谢 京东 商城 网购 晒 单 平台 打造 全新 品牌 产品价格 实惠 质量保证 的 服...  \n",
       "16  很早以前 就 想 买 这 本书 ， 这次 京东 搞 活动 正好 买 了 ， 书本 包装 精美...  \n",
       "17  《 纳兰词 》 一直 听说 过 ， 但是 都 没有 时间 拜读 ， 趁着 活动 买 了 这 ...  \n",
       "18  发货 速度 很快 ， 包装 精美 ， 非常 喜欢 的 店铺 ， 经常 来 看看 ， 书籍 特...  \n",
       "19  虽然 这 本书 不厚 ， 但 感觉 很 适合 小朋友 看 。 有 很多 页 都 是 彩色 的...  "
      ]
     },
     "execution_count": 8,
     "metadata": {},
     "output_type": "execute_result"
    }
   ],
   "source": [
    "comment_sum[\"clean_text\"] = comment_sum['评价'].apply(cut_word)\n",
    "comment_sum.head(20)"
   ]
  },
  {
   "cell_type": "markdown",
   "id": "04777362",
   "metadata": {},
   "source": [
    "导入feature_extraction库，将分词结果转化为向量矩阵"
   ]
  },
  {
   "cell_type": "code",
   "execution_count": 9,
   "id": "85db0361",
   "metadata": {},
   "outputs": [
    {
     "data": {
      "text/plain": [
       "<747x2891 sparse matrix of type '<class 'numpy.int64'>'\n",
       "\twith 12969 stored elements in Compressed Sparse Row format>"
      ]
     },
     "execution_count": 9,
     "metadata": {},
     "output_type": "execute_result"
    }
   ],
   "source": [
    "from sklearn.feature_extraction.text import CountVectorizer\n",
    "countvec = CountVectorizer(min_df = 1)\n",
    "\n",
    "wordmtx = countvec.fit_transform(comment_sum.clean_text)\n",
    "wordmtx"
   ]
  },
  {
   "cell_type": "markdown",
   "id": "46a687a9",
   "metadata": {},
   "source": [
    "生成训练集和测试集，按照30%来抽取测试集，生成了2891个矩阵"
   ]
  },
  {
   "cell_type": "code",
   "execution_count": 10,
   "id": "c8af8bb6",
   "metadata": {},
   "outputs": [
    {
     "data": {
      "text/plain": [
       "<1x2891 sparse matrix of type '<class 'numpy.int64'>'\n",
       "\twith 29 stored elements in Compressed Sparse Row format>"
      ]
     },
     "execution_count": 10,
     "metadata": {},
     "output_type": "execute_result"
    }
   ],
   "source": [
    "from sklearn.model_selection import train_test_split\n",
    "\n",
    "x_train,x_test,y_train,y_test = train_test_split(\n",
    "    wordmtx,\n",
    "    comment_sum.y,test_size=0.3\n",
    ")\n",
    "x_train[0]"
   ]
  },
  {
   "cell_type": "markdown",
   "id": "f6916cc5",
   "metadata": {},
   "source": [
    "使用SVM进行建模，模型评分为0.97，准确率较高"
   ]
  },
  {
   "cell_type": "code",
   "execution_count": 11,
   "id": "b3c4577f",
   "metadata": {
    "scrolled": true
   },
   "outputs": [
    {
     "name": "stdout",
     "output_type": "stream",
     "text": [
      "[LibSVM]"
     ]
    },
    {
     "data": {
      "text/plain": [
       "0.9770114942528736"
      ]
     },
     "execution_count": 11,
     "metadata": {},
     "output_type": "execute_result"
    }
   ],
   "source": [
    "from sklearn.svm import SVC\n",
    "clf = SVC(kernel = 'rbf',verbose = True)\n",
    "clf.fit(x_train,y_train)\n",
    "clf.score(x_train,y_train)"
   ]
  },
  {
   "cell_type": "markdown",
   "id": "044787e0",
   "metadata": {},
   "source": [
    "对模型效果进行评估，可以看出在预测上，正向结果和负向结果的精准度有较大的差别，说明该模型并不平衡，具有改进的空间"
   ]
  },
  {
   "cell_type": "code",
   "execution_count": 12,
   "id": "7f4821b2",
   "metadata": {
    "scrolled": true
   },
   "outputs": [
    {
     "name": "stdout",
     "output_type": "stream",
     "text": [
      "              precision    recall  f1-score   support\n",
      "\n",
      "           0       0.94      0.81      0.87        58\n",
      "           1       0.94      0.98      0.96       167\n",
      "\n",
      "    accuracy                           0.94       225\n",
      "   macro avg       0.94      0.90      0.91       225\n",
      "weighted avg       0.94      0.94      0.94       225\n",
      "\n"
     ]
    }
   ],
   "source": [
    "from sklearn.metrics import classification_report\n",
    "print(classification_report(y_test,clf.predict(x_test)))"
   ]
  },
  {
   "cell_type": "markdown",
   "id": "c9414c36",
   "metadata": {},
   "source": [
    "将数据集转成用于训练的向量"
   ]
  },
  {
   "cell_type": "code",
   "execution_count": 13,
   "id": "4612b05a",
   "metadata": {},
   "outputs": [
    {
     "data": {
      "text/plain": [
       "1"
      ]
     },
     "execution_count": 13,
     "metadata": {},
     "output_type": "execute_result"
    }
   ],
   "source": [
    "clf.predict(countvec.transform([comment_sum.clean_text[1]]))[0]"
   ]
  },
  {
   "cell_type": "markdown",
   "id": "a2679f3f",
   "metadata": {},
   "source": [
    "在comment栏输入相关评论，对模型进行预测"
   ]
  },
  {
   "cell_type": "code",
   "execution_count": 14,
   "id": "36199f25",
   "metadata": {},
   "outputs": [
    {
     "name": "stdout",
     "output_type": "stream",
     "text": [
      "说实话，这个99十本书有点坑。。。果然是便宜没好货，看着图片很不错，实际书都是那种劣质纸张做... : 负向\n"
     ]
    }
   ],
   "source": [
    "import jieba\n",
    "def m_pred(string,countvec,model):\n",
    "    words = \" \".join(jieba.lcut(string))\n",
    "    words_vecs = countvec.transform([words])\n",
    "    \n",
    "    result = model.predict(words_vecs)\n",
    "    \n",
    "    if int(result[0]) == 1:\n",
    "        print(string,\": 正向\")\n",
    "    else:\n",
    "        print(string,\": 负向\")\n",
    "\n",
    "comment = \"说实话，这个99十本书有点坑。。。果然是便宜没好货，看着图片很不错，实际书都是那种劣质纸张做...\"\n",
    "m_pred(comment,countvec,clf)"
   ]
  },
  {
   "cell_type": "code",
   "execution_count": 15,
   "id": "7d767701",
   "metadata": {
    "scrolled": true
   },
   "outputs": [
    {
     "name": "stdout",
     "output_type": "stream",
     "text": [
      "首先，发货算是挺及时。\n",
      "其次，快递非常快，楼下有快递站，拿也挺方便的。包装也很好，没损坏。 : 正向\n"
     ]
    }
   ],
   "source": [
    "comment2 = \"首先，发货算是挺及时。\\n其次，快递非常快，楼下有快递站，拿也挺方便的。包装也很好，没损坏。\"\n",
    "m_pred(comment2,countvec,clf)"
   ]
  },
  {
   "cell_type": "markdown",
   "id": "93410469",
   "metadata": {},
   "source": [
    "# 二、基于word2vec（分布式表达）的分析"
   ]
  },
  {
   "cell_type": "markdown",
   "id": "d4ff05d3",
   "metadata": {},
   "source": [
    "导入数据"
   ]
  },
  {
   "cell_type": "code",
   "execution_count": 16,
   "id": "f3361614",
   "metadata": {},
   "outputs": [
    {
     "data": {
      "text/html": [
       "<div>\n",
       "<style scoped>\n",
       "    .dataframe tbody tr th:only-of-type {\n",
       "        vertical-align: middle;\n",
       "    }\n",
       "\n",
       "    .dataframe tbody tr th {\n",
       "        vertical-align: top;\n",
       "    }\n",
       "\n",
       "    .dataframe thead th {\n",
       "        text-align: right;\n",
       "    }\n",
       "</style>\n",
       "<table border=\"1\" class=\"dataframe\">\n",
       "  <thead>\n",
       "    <tr style=\"text-align: right;\">\n",
       "      <th></th>\n",
       "      <th>Unnamed: 0</th>\n",
       "      <th>评价</th>\n",
       "      <th>颜色</th>\n",
       "      <th>型号</th>\n",
       "      <th>y</th>\n",
       "    </tr>\n",
       "  </thead>\n",
       "  <tbody>\n",
       "    <tr>\n",
       "      <th>0</th>\n",
       "      <td>1.0</td>\n",
       "      <td>之前看过草枕，京东购书还是不错的，特别是有活动的时候，99块10本，选到自己喜欢的书籍，可以...</td>\n",
       "      <td>我是猫</td>\n",
       "      <td>NaN</td>\n",
       "      <td>1</td>\n",
       "    </tr>\n",
       "    <tr>\n",
       "      <th>1</th>\n",
       "      <td>2.0</td>\n",
       "      <td>京东发货速度还是没个说的。这次活动很给力，一下选了40多本，大人小孩都够看一段时间了。书柜也...</td>\n",
       "      <td>了不起的盖茨比</td>\n",
       "      <td>NaN</td>\n",
       "      <td>1</td>\n",
       "    </tr>\n",
       "    <tr>\n",
       "      <th>2</th>\n",
       "      <td>3.0</td>\n",
       "      <td>京东品类丰富，物品保真，包装完善，价格公道，优惠活动多多。\\n产品品质有保证，款式新颖，自营...</td>\n",
       "      <td>鲁滨孙漂流记</td>\n",
       "      <td>NaN</td>\n",
       "      <td>1</td>\n",
       "    </tr>\n",
       "    <tr>\n",
       "      <th>3</th>\n",
       "      <td>4.0</td>\n",
       "      <td>首先，发货算是挺及时。\\n其次，快递非常快，楼下有快递站，拿也挺方便的。包装也很好，没损坏。...</td>\n",
       "      <td>纳兰词</td>\n",
       "      <td>NaN</td>\n",
       "      <td>1</td>\n",
       "    </tr>\n",
       "    <tr>\n",
       "      <th>4</th>\n",
       "      <td>5.0</td>\n",
       "      <td>书很不错，字体清晰大小合适，排班整洁易于阅读。很好读起来很畅快。书本身精彩有趣，笔触优美，很...</td>\n",
       "      <td>了不起的盖茨比</td>\n",
       "      <td>NaN</td>\n",
       "      <td>1</td>\n",
       "    </tr>\n",
       "    <tr>\n",
       "      <th>...</th>\n",
       "      <td>...</td>\n",
       "      <td>...</td>\n",
       "      <td>...</td>\n",
       "      <td>...</td>\n",
       "      <td>...</td>\n",
       "    </tr>\n",
       "    <tr>\n",
       "      <th>1468</th>\n",
       "      <td>NaN</td>\n",
       "      <td>为什么是删减版</td>\n",
       "      <td>双城记</td>\n",
       "      <td>NaN</td>\n",
       "      <td>0</td>\n",
       "    </tr>\n",
       "    <tr>\n",
       "      <th>1469</th>\n",
       "      <td>NaN</td>\n",
       "      <td>一点也不好</td>\n",
       "      <td>居里夫人自传</td>\n",
       "      <td>NaN</td>\n",
       "      <td>0</td>\n",
       "    </tr>\n",
       "    <tr>\n",
       "      <th>1470</th>\n",
       "      <td>NaN</td>\n",
       "      <td>差评，书写到一半就没了，连个句号都没有</td>\n",
       "      <td>居里夫人自传</td>\n",
       "      <td>NaN</td>\n",
       "      <td>0</td>\n",
       "    </tr>\n",
       "    <tr>\n",
       "      <th>1471</th>\n",
       "      <td>NaN</td>\n",
       "      <td>是短片小说，不好看，欣赏不来。</td>\n",
       "      <td>罗生门</td>\n",
       "      <td>NaN</td>\n",
       "      <td>0</td>\n",
       "    </tr>\n",
       "    <tr>\n",
       "      <th>1472</th>\n",
       "      <td>NaN</td>\n",
       "      <td>假书，从内容到外表，跟原版太差了，退货</td>\n",
       "      <td>居里夫人自传</td>\n",
       "      <td>NaN</td>\n",
       "      <td>0</td>\n",
       "    </tr>\n",
       "  </tbody>\n",
       "</table>\n",
       "<p>1473 rows × 5 columns</p>\n",
       "</div>"
      ],
      "text/plain": [
       "      Unnamed: 0                                                 评价       颜色  \\\n",
       "0            1.0  之前看过草枕，京东购书还是不错的，特别是有活动的时候，99块10本，选到自己喜欢的书籍，可以...      我是猫   \n",
       "1            2.0  京东发货速度还是没个说的。这次活动很给力，一下选了40多本，大人小孩都够看一段时间了。书柜也...  了不起的盖茨比   \n",
       "2            3.0  京东品类丰富，物品保真，包装完善，价格公道，优惠活动多多。\\n产品品质有保证，款式新颖，自营...   鲁滨孙漂流记   \n",
       "3            4.0  首先，发货算是挺及时。\\n其次，快递非常快，楼下有快递站，拿也挺方便的。包装也很好，没损坏。...      纳兰词   \n",
       "4            5.0  书很不错，字体清晰大小合适，排班整洁易于阅读。很好读起来很畅快。书本身精彩有趣，笔触优美，很...  了不起的盖茨比   \n",
       "...          ...                                                ...      ...   \n",
       "1468         NaN                                            为什么是删减版      双城记   \n",
       "1469         NaN                                              一点也不好   居里夫人自传   \n",
       "1470         NaN                                差评，书写到一半就没了，连个句号都没有   居里夫人自传   \n",
       "1471         NaN                                    是短片小说，不好看，欣赏不来。      罗生门   \n",
       "1472         NaN                                假书，从内容到外表，跟原版太差了，退货   居里夫人自传   \n",
       "\n",
       "       型号  y  \n",
       "0     NaN  1  \n",
       "1     NaN  1  \n",
       "2     NaN  1  \n",
       "3     NaN  1  \n",
       "4     NaN  1  \n",
       "...   ... ..  \n",
       "1468  NaN  0  \n",
       "1469  NaN  0  \n",
       "1470  NaN  0  \n",
       "1471  NaN  0  \n",
       "1472  NaN  0  \n",
       "\n",
       "[1473 rows x 5 columns]"
      ]
     },
     "execution_count": 16,
     "metadata": {},
     "output_type": "execute_result"
    }
   ],
   "source": [
    "dfpos = pd.read_csv('D:/jd_good_comment_max.csv',encoding=\"gb18030\")\n",
    "dfpos[\"y\"] = 1\n",
    "dfpos.drop([\"颜色\",'型号'],axis = 1)\n",
    "dfneg = pd.read_csv('D:/jd_bad_comment_max.csv',encoding=\"gb18030\")\n",
    "dfneg = comment_negative.drop_duplicates()\n",
    "dfneg['y'] = 0\n",
    "dfneg.drop(columns = [\"颜色\",\"型号\"],axis = 1)\n",
    "df_sum = dfpos.append(dfneg,ignore_index=True)\n",
    "df_sum"
   ]
  },
  {
   "cell_type": "markdown",
   "id": "3acf59e8",
   "metadata": {},
   "source": [
    "分词操作"
   ]
  },
  {
   "cell_type": "code",
   "execution_count": 17,
   "id": "92f7ea21",
   "metadata": {},
   "outputs": [
    {
     "data": {
      "text/html": [
       "<div>\n",
       "<style scoped>\n",
       "    .dataframe tbody tr th:only-of-type {\n",
       "        vertical-align: middle;\n",
       "    }\n",
       "\n",
       "    .dataframe tbody tr th {\n",
       "        vertical-align: top;\n",
       "    }\n",
       "\n",
       "    .dataframe thead th {\n",
       "        text-align: right;\n",
       "    }\n",
       "</style>\n",
       "<table border=\"1\" class=\"dataframe\">\n",
       "  <thead>\n",
       "    <tr style=\"text-align: right;\">\n",
       "      <th></th>\n",
       "      <th>Unnamed: 0</th>\n",
       "      <th>评价</th>\n",
       "      <th>y</th>\n",
       "      <th>cut</th>\n",
       "    </tr>\n",
       "  </thead>\n",
       "  <tbody>\n",
       "    <tr>\n",
       "      <th>0</th>\n",
       "      <td>1.0</td>\n",
       "      <td>之前看过草枕，京东购书还是不错的，特别是有活动的时候，99块10本，选到自己喜欢的书籍，可以...</td>\n",
       "      <td>1</td>\n",
       "      <td>[之前, 看过, 草枕, ，, 京东, 购书, 还是, 不错, 的, ，, 特别, 是, 有...</td>\n",
       "    </tr>\n",
       "    <tr>\n",
       "      <th>1</th>\n",
       "      <td>2.0</td>\n",
       "      <td>京东发货速度还是没个说的。这次活动很给力，一下选了40多本，大人小孩都够看一段时间了。书柜也...</td>\n",
       "      <td>1</td>\n",
       "      <td>[京东, 发货, 速度, 还是, 没个, 说, 的, 。, 这次, 活动, 很, 给, 力,...</td>\n",
       "    </tr>\n",
       "    <tr>\n",
       "      <th>2</th>\n",
       "      <td>3.0</td>\n",
       "      <td>京东品类丰富，物品保真，包装完善，价格公道，优惠活动多多。\\n产品品质有保证，款式新颖，自营...</td>\n",
       "      <td>1</td>\n",
       "      <td>[京东, 品类, 丰富, ，, 物品, 保真, ，, 包装, 完善, ，, 价格公道, ，,...</td>\n",
       "    </tr>\n",
       "    <tr>\n",
       "      <th>3</th>\n",
       "      <td>4.0</td>\n",
       "      <td>首先，发货算是挺及时。\\n其次，快递非常快，楼下有快递站，拿也挺方便的。包装也很好，没损坏。...</td>\n",
       "      <td>1</td>\n",
       "      <td>[首先, ，, 发货, 算是, 挺, 及时, 。, \\n, 其次, ，, 快递, 非常, 快...</td>\n",
       "    </tr>\n",
       "    <tr>\n",
       "      <th>4</th>\n",
       "      <td>5.0</td>\n",
       "      <td>书很不错，字体清晰大小合适，排班整洁易于阅读。很好读起来很畅快。书本身精彩有趣，笔触优美，很...</td>\n",
       "      <td>1</td>\n",
       "      <td>[书, 很, 不错, ，, 字体, 清晰, 大小, 合适, ，, 排班, 整洁, 易于, 阅...</td>\n",
       "    </tr>\n",
       "    <tr>\n",
       "      <th>...</th>\n",
       "      <td>...</td>\n",
       "      <td>...</td>\n",
       "      <td>...</td>\n",
       "      <td>...</td>\n",
       "    </tr>\n",
       "    <tr>\n",
       "      <th>1468</th>\n",
       "      <td>NaN</td>\n",
       "      <td>为什么是删减版</td>\n",
       "      <td>0</td>\n",
       "      <td>[为什么, 是, 删减, 版]</td>\n",
       "    </tr>\n",
       "    <tr>\n",
       "      <th>1469</th>\n",
       "      <td>NaN</td>\n",
       "      <td>一点也不好</td>\n",
       "      <td>0</td>\n",
       "      <td>[一点, 也, 不好]</td>\n",
       "    </tr>\n",
       "    <tr>\n",
       "      <th>1470</th>\n",
       "      <td>NaN</td>\n",
       "      <td>差评，书写到一半就没了，连个句号都没有</td>\n",
       "      <td>0</td>\n",
       "      <td>[差评, ，, 书写, 到, 一半, 就, 没, 了, ，, 连, 个, 句号, 都, 没有]</td>\n",
       "    </tr>\n",
       "    <tr>\n",
       "      <th>1471</th>\n",
       "      <td>NaN</td>\n",
       "      <td>是短片小说，不好看，欣赏不来。</td>\n",
       "      <td>0</td>\n",
       "      <td>[是, 短片, 小说, ，, 不, 好看, ，, 欣赏, 不, 来, 。]</td>\n",
       "    </tr>\n",
       "    <tr>\n",
       "      <th>1472</th>\n",
       "      <td>NaN</td>\n",
       "      <td>假书，从内容到外表，跟原版太差了，退货</td>\n",
       "      <td>0</td>\n",
       "      <td>[假书, ，, 从, 内容, 到, 外表, ，, 跟, 原版, 太差, 了, ，, 退货]</td>\n",
       "    </tr>\n",
       "  </tbody>\n",
       "</table>\n",
       "<p>1473 rows × 4 columns</p>\n",
       "</div>"
      ],
      "text/plain": [
       "      Unnamed: 0                                                 评价  y  \\\n",
       "0            1.0  之前看过草枕，京东购书还是不错的，特别是有活动的时候，99块10本，选到自己喜欢的书籍，可以...  1   \n",
       "1            2.0  京东发货速度还是没个说的。这次活动很给力，一下选了40多本，大人小孩都够看一段时间了。书柜也...  1   \n",
       "2            3.0  京东品类丰富，物品保真，包装完善，价格公道，优惠活动多多。\\n产品品质有保证，款式新颖，自营...  1   \n",
       "3            4.0  首先，发货算是挺及时。\\n其次，快递非常快，楼下有快递站，拿也挺方便的。包装也很好，没损坏。...  1   \n",
       "4            5.0  书很不错，字体清晰大小合适，排班整洁易于阅读。很好读起来很畅快。书本身精彩有趣，笔触优美，很...  1   \n",
       "...          ...                                                ... ..   \n",
       "1468         NaN                                            为什么是删减版  0   \n",
       "1469         NaN                                              一点也不好  0   \n",
       "1470         NaN                                差评，书写到一半就没了，连个句号都没有  0   \n",
       "1471         NaN                                    是短片小说，不好看，欣赏不来。  0   \n",
       "1472         NaN                                假书，从内容到外表，跟原版太差了，退货  0   \n",
       "\n",
       "                                                    cut  \n",
       "0     [之前, 看过, 草枕, ，, 京东, 购书, 还是, 不错, 的, ，, 特别, 是, 有...  \n",
       "1     [京东, 发货, 速度, 还是, 没个, 说, 的, 。, 这次, 活动, 很, 给, 力,...  \n",
       "2     [京东, 品类, 丰富, ，, 物品, 保真, ，, 包装, 完善, ，, 价格公道, ，,...  \n",
       "3     [首先, ，, 发货, 算是, 挺, 及时, 。, \\n, 其次, ，, 快递, 非常, 快...  \n",
       "4     [书, 很, 不错, ，, 字体, 清晰, 大小, 合适, ，, 排班, 整洁, 易于, 阅...  \n",
       "...                                                 ...  \n",
       "1468                                    [为什么, 是, 删减, 版]  \n",
       "1469                                        [一点, 也, 不好]  \n",
       "1470    [差评, ，, 书写, 到, 一半, 就, 没, 了, ，, 连, 个, 句号, 都, 没有]  \n",
       "1471              [是, 短片, 小说, ，, 不, 好看, ，, 欣赏, 不, 来, 。]  \n",
       "1472      [假书, ，, 从, 内容, 到, 外表, ，, 跟, 原版, 太差, 了, ，, 退货]  \n",
       "\n",
       "[1473 rows x 4 columns]"
      ]
     },
     "execution_count": 17,
     "metadata": {},
     "output_type": "execute_result"
    }
   ],
   "source": [
    "df_sum[\"cut\"] = df_sum['评价'].apply(jieba.lcut)\n",
    "df_sum.drop(['颜色','型号'],axis =1)"
   ]
  },
  {
   "cell_type": "markdown",
   "id": "56288a5d",
   "metadata": {},
   "source": [
    "以7:3的格式生成训练集和测试集"
   ]
  },
  {
   "cell_type": "code",
   "execution_count": 18,
   "id": "b1295991",
   "metadata": {},
   "outputs": [
    {
     "data": {
      "text/plain": [
       "388     [包装, 很, 好, ，, 各种, 书, 的, 纸张, 也, 都, 很, 好, ，, 已经,...\n",
       "720     [一直, 在, 京东, 买, 书, ，, 价格, 还, 算, 可以, ，, 所以, 基本, ...\n",
       "677     [包装, 精美, ，, 物流, 极快, 。, 书, 初中, 几天, 看过, ，, 情节, 却...\n",
       "860     [京东, 自营, 的, 书籍, 到货, 的, 速度, 非常, 的, 快, ，, 快递, 小哥...\n",
       "275     [春节, 搞, 活动, 买, 的, ，, 很, 划算, ，, 质量, 很, 好, ，, 物流...\n",
       "                              ...                        \n",
       "1161    [很小, 很, 薄, 一本, 物超所值, ，, 商品, 设计, 完美, ，, 外观, 也, ...\n",
       "511     [下学期, 的, 必读, 书目, ，, 孩子, 刚, 开始, 阅读, 这本, ，, 年前, ...\n",
       "1435                                      [盗版书, ，, 质量, 差]\n",
       "1229    [看书, 使人, 有, 知识, ，, 哈哈哈, 。, 收到, 货, 了, ，, 非常, 非常...\n",
       "995     [物超所值, ，, 商品, 设计, 完美, ，, 外观, 也, 很, 高大, 上, ，, 让...\n",
       "Name: cut, Length: 100, dtype: object"
      ]
     },
     "execution_count": 18,
     "metadata": {},
     "output_type": "execute_result"
    }
   ],
   "source": [
    "from sklearn.model_selection import train_test_split\n",
    "x_xunlian,x_ceshi,y_xunlian,y_ceshi = train_test_split(\n",
    "    df_sum.cut,df_sum.y,test_size=0.3\n",
    ")\n",
    "x_xunlian[0:100]"
   ]
  },
  {
   "cell_type": "markdown",
   "id": "4222444b",
   "metadata": {},
   "source": [
    "导入gensim包，设置w2v模型"
   ]
  },
  {
   "cell_type": "code",
   "execution_count": 19,
   "id": "d1567181",
   "metadata": {},
   "outputs": [],
   "source": [
    "from gensim.models.word2vec import Word2Vec\n",
    "\n",
    "n_dim = 50\n",
    "w2vmodel = Word2Vec(vector_size=n_dim ,min_count=1)\n",
    "w2vmodel.build_vocab(x_xunlian)"
   ]
  },
  {
   "cell_type": "markdown",
   "id": "9987ce74",
   "metadata": {},
   "source": [
    "### 在评论训练集上建模"
   ]
  },
  {
   "cell_type": "code",
   "execution_count": 20,
   "id": "bb1916cc",
   "metadata": {},
   "outputs": [
    {
     "name": "stdout",
     "output_type": "stream",
     "text": [
      "Wall time: 30.5 ms\n"
     ]
    },
    {
     "data": {
      "text/plain": [
       "(25976, 39010)"
      ]
     },
     "execution_count": 20,
     "metadata": {},
     "output_type": "execute_result"
    }
   ],
   "source": [
    "%time w2vmodel.train( x_xunlian, \\\n",
    "    total_examples=w2vmodel.corpus_count,epochs=1)"
   ]
  },
  {
   "cell_type": "markdown",
   "id": "1aa52cbe",
   "metadata": {},
   "source": [
    "### 判断情感词向量之间的相似度"
   ]
  },
  {
   "cell_type": "code",
   "execution_count": 21,
   "id": "de5c7c1c",
   "metadata": {},
   "outputs": [
    {
     "data": {
      "text/plain": [
       "[('，', 0.9973350167274475),\n",
       " ('的', 0.9973150491714478),\n",
       " ('。', 0.9972123503684998),\n",
       " ('！', 0.9971522092819214),\n",
       " ('很', 0.996793270111084),\n",
       " ('非常', 0.9967873692512512),\n",
       " ('都', 0.9966490864753723),\n",
       " ('有', 0.9966325759887695),\n",
       " ('京东', 0.9966232180595398),\n",
       " ('了', 0.9966062307357788)]"
      ]
     },
     "execution_count": 21,
     "metadata": {},
     "output_type": "execute_result"
    }
   ],
   "source": [
    "w2vmodel.wv.most_similar(\"好\")"
   ]
  },
  {
   "cell_type": "code",
   "execution_count": 22,
   "id": "1cb38dcd",
   "metadata": {},
   "outputs": [
    {
     "data": {
      "text/plain": [
       "[('，', 0.9964489340782166),\n",
       " ('的', 0.9964140057563782),\n",
       " ('都', 0.9962442517280579),\n",
       " ('就', 0.9961745142936707),\n",
       " ('很', 0.9960489273071289),\n",
       " ('了', 0.9960476756095886),\n",
       " ('！', 0.9957764744758606),\n",
       " ('也', 0.9957752823829651),\n",
       " ('京东', 0.9957454204559326),\n",
       " ('活动', 0.9956366419792175)]"
      ]
     },
     "execution_count": 22,
     "metadata": {},
     "output_type": "execute_result"
    }
   ],
   "source": [
    "w2vmodel.wv.most_similar(\"可以\")"
   ]
  },
  {
   "cell_type": "markdown",
   "id": "277fd8d5",
   "metadata": {},
   "source": [
    "### 生成整句向量用于情感词预测"
   ]
  },
  {
   "cell_type": "code",
   "execution_count": 23,
   "id": "400cf866",
   "metadata": {},
   "outputs": [
    {
     "data": {
      "text/html": [
       "<div>\n",
       "<style scoped>\n",
       "    .dataframe tbody tr th:only-of-type {\n",
       "        vertical-align: middle;\n",
       "    }\n",
       "\n",
       "    .dataframe tbody tr th {\n",
       "        vertical-align: top;\n",
       "    }\n",
       "\n",
       "    .dataframe thead th {\n",
       "        text-align: right;\n",
       "    }\n",
       "</style>\n",
       "<table border=\"1\" class=\"dataframe\">\n",
       "  <thead>\n",
       "    <tr style=\"text-align: right;\">\n",
       "      <th></th>\n",
       "      <th>0</th>\n",
       "      <th>1</th>\n",
       "      <th>2</th>\n",
       "      <th>3</th>\n",
       "      <th>4</th>\n",
       "      <th>5</th>\n",
       "      <th>6</th>\n",
       "      <th>7</th>\n",
       "      <th>8</th>\n",
       "      <th>9</th>\n",
       "      <th>...</th>\n",
       "      <th>40</th>\n",
       "      <th>41</th>\n",
       "      <th>42</th>\n",
       "      <th>43</th>\n",
       "      <th>44</th>\n",
       "      <th>45</th>\n",
       "      <th>46</th>\n",
       "      <th>47</th>\n",
       "      <th>48</th>\n",
       "      <th>49</th>\n",
       "    </tr>\n",
       "  </thead>\n",
       "  <tbody>\n",
       "    <tr>\n",
       "      <th>0</th>\n",
       "      <td>-0.001410</td>\n",
       "      <td>0.006051</td>\n",
       "      <td>-0.008279</td>\n",
       "      <td>-0.004127</td>\n",
       "      <td>-0.015434</td>\n",
       "      <td>-0.017579</td>\n",
       "      <td>0.017241</td>\n",
       "      <td>0.009999</td>\n",
       "      <td>-0.035109</td>\n",
       "      <td>-0.024994</td>\n",
       "      <td>...</td>\n",
       "      <td>-0.005810</td>\n",
       "      <td>-0.017907</td>\n",
       "      <td>-0.008996</td>\n",
       "      <td>-0.015269</td>\n",
       "      <td>0.046724</td>\n",
       "      <td>-0.020165</td>\n",
       "      <td>-0.008748</td>\n",
       "      <td>-0.016779</td>\n",
       "      <td>0.001046</td>\n",
       "      <td>0.017428</td>\n",
       "    </tr>\n",
       "    <tr>\n",
       "      <th>1</th>\n",
       "      <td>0.004313</td>\n",
       "      <td>-0.007952</td>\n",
       "      <td>-0.009507</td>\n",
       "      <td>0.034884</td>\n",
       "      <td>-0.018596</td>\n",
       "      <td>-0.002244</td>\n",
       "      <td>0.034578</td>\n",
       "      <td>0.058389</td>\n",
       "      <td>-0.043146</td>\n",
       "      <td>-0.002114</td>\n",
       "      <td>...</td>\n",
       "      <td>0.002688</td>\n",
       "      <td>-0.004783</td>\n",
       "      <td>-0.004666</td>\n",
       "      <td>0.003104</td>\n",
       "      <td>0.059380</td>\n",
       "      <td>-0.004562</td>\n",
       "      <td>0.003692</td>\n",
       "      <td>-0.031014</td>\n",
       "      <td>0.048787</td>\n",
       "      <td>0.027684</td>\n",
       "    </tr>\n",
       "    <tr>\n",
       "      <th>2</th>\n",
       "      <td>0.005441</td>\n",
       "      <td>0.006133</td>\n",
       "      <td>0.009451</td>\n",
       "      <td>-0.000092</td>\n",
       "      <td>-0.012893</td>\n",
       "      <td>0.007876</td>\n",
       "      <td>0.027070</td>\n",
       "      <td>0.010395</td>\n",
       "      <td>-0.019878</td>\n",
       "      <td>-0.019986</td>\n",
       "      <td>...</td>\n",
       "      <td>-0.004057</td>\n",
       "      <td>0.013558</td>\n",
       "      <td>-0.013200</td>\n",
       "      <td>0.005620</td>\n",
       "      <td>0.012965</td>\n",
       "      <td>0.012141</td>\n",
       "      <td>0.016246</td>\n",
       "      <td>0.014638</td>\n",
       "      <td>0.018241</td>\n",
       "      <td>0.010650</td>\n",
       "    </tr>\n",
       "    <tr>\n",
       "      <th>3</th>\n",
       "      <td>-0.072932</td>\n",
       "      <td>0.177108</td>\n",
       "      <td>-0.192800</td>\n",
       "      <td>0.402517</td>\n",
       "      <td>-0.688690</td>\n",
       "      <td>-0.539063</td>\n",
       "      <td>1.097962</td>\n",
       "      <td>1.054735</td>\n",
       "      <td>-0.817136</td>\n",
       "      <td>-0.343116</td>\n",
       "      <td>...</td>\n",
       "      <td>0.438874</td>\n",
       "      <td>-0.234401</td>\n",
       "      <td>-0.360598</td>\n",
       "      <td>0.112378</td>\n",
       "      <td>1.703761</td>\n",
       "      <td>-0.131309</td>\n",
       "      <td>-0.375161</td>\n",
       "      <td>-0.390739</td>\n",
       "      <td>0.782348</td>\n",
       "      <td>0.515111</td>\n",
       "    </tr>\n",
       "    <tr>\n",
       "      <th>4</th>\n",
       "      <td>-0.015464</td>\n",
       "      <td>0.061651</td>\n",
       "      <td>-0.088626</td>\n",
       "      <td>0.113570</td>\n",
       "      <td>-0.243066</td>\n",
       "      <td>-0.182168</td>\n",
       "      <td>0.379277</td>\n",
       "      <td>0.378033</td>\n",
       "      <td>-0.266770</td>\n",
       "      <td>-0.123801</td>\n",
       "      <td>...</td>\n",
       "      <td>0.142914</td>\n",
       "      <td>-0.086064</td>\n",
       "      <td>-0.120750</td>\n",
       "      <td>0.035210</td>\n",
       "      <td>0.608114</td>\n",
       "      <td>-0.045715</td>\n",
       "      <td>-0.112195</td>\n",
       "      <td>-0.156299</td>\n",
       "      <td>0.261668</td>\n",
       "      <td>0.160294</td>\n",
       "    </tr>\n",
       "    <tr>\n",
       "      <th>...</th>\n",
       "      <td>...</td>\n",
       "      <td>...</td>\n",
       "      <td>...</td>\n",
       "      <td>...</td>\n",
       "      <td>...</td>\n",
       "      <td>...</td>\n",
       "      <td>...</td>\n",
       "      <td>...</td>\n",
       "      <td>...</td>\n",
       "      <td>...</td>\n",
       "      <td>...</td>\n",
       "      <td>...</td>\n",
       "      <td>...</td>\n",
       "      <td>...</td>\n",
       "      <td>...</td>\n",
       "      <td>...</td>\n",
       "      <td>...</td>\n",
       "      <td>...</td>\n",
       "      <td>...</td>\n",
       "      <td>...</td>\n",
       "      <td>...</td>\n",
       "    </tr>\n",
       "    <tr>\n",
       "      <th>78</th>\n",
       "      <td>0.010975</td>\n",
       "      <td>-0.007608</td>\n",
       "      <td>0.010539</td>\n",
       "      <td>0.023471</td>\n",
       "      <td>-0.036067</td>\n",
       "      <td>-0.034904</td>\n",
       "      <td>0.053265</td>\n",
       "      <td>0.042510</td>\n",
       "      <td>-0.027904</td>\n",
       "      <td>-0.008375</td>\n",
       "      <td>...</td>\n",
       "      <td>0.014485</td>\n",
       "      <td>-0.026507</td>\n",
       "      <td>0.005043</td>\n",
       "      <td>0.021770</td>\n",
       "      <td>0.073040</td>\n",
       "      <td>-0.011552</td>\n",
       "      <td>-0.024387</td>\n",
       "      <td>-0.008966</td>\n",
       "      <td>0.021019</td>\n",
       "      <td>0.011732</td>\n",
       "    </tr>\n",
       "    <tr>\n",
       "      <th>79</th>\n",
       "      <td>0.000012</td>\n",
       "      <td>0.033266</td>\n",
       "      <td>-0.020835</td>\n",
       "      <td>0.047847</td>\n",
       "      <td>-0.080882</td>\n",
       "      <td>-0.072077</td>\n",
       "      <td>0.097358</td>\n",
       "      <td>0.089228</td>\n",
       "      <td>-0.098961</td>\n",
       "      <td>-0.023626</td>\n",
       "      <td>...</td>\n",
       "      <td>0.035399</td>\n",
       "      <td>-0.006493</td>\n",
       "      <td>-0.049579</td>\n",
       "      <td>0.027930</td>\n",
       "      <td>0.165218</td>\n",
       "      <td>-0.011999</td>\n",
       "      <td>-0.038550</td>\n",
       "      <td>-0.040607</td>\n",
       "      <td>0.093302</td>\n",
       "      <td>0.053453</td>\n",
       "    </tr>\n",
       "    <tr>\n",
       "      <th>80</th>\n",
       "      <td>0.002992</td>\n",
       "      <td>-0.000789</td>\n",
       "      <td>-0.038408</td>\n",
       "      <td>0.039798</td>\n",
       "      <td>-0.082932</td>\n",
       "      <td>-0.065233</td>\n",
       "      <td>0.115443</td>\n",
       "      <td>0.116705</td>\n",
       "      <td>-0.093090</td>\n",
       "      <td>-0.016406</td>\n",
       "      <td>...</td>\n",
       "      <td>0.064448</td>\n",
       "      <td>-0.025300</td>\n",
       "      <td>-0.032941</td>\n",
       "      <td>0.021461</td>\n",
       "      <td>0.153092</td>\n",
       "      <td>-0.013507</td>\n",
       "      <td>-0.032421</td>\n",
       "      <td>-0.025724</td>\n",
       "      <td>0.084115</td>\n",
       "      <td>0.044280</td>\n",
       "    </tr>\n",
       "    <tr>\n",
       "      <th>81</th>\n",
       "      <td>0.015922</td>\n",
       "      <td>0.008614</td>\n",
       "      <td>0.008495</td>\n",
       "      <td>-0.004164</td>\n",
       "      <td>-0.008716</td>\n",
       "      <td>-0.022544</td>\n",
       "      <td>0.057604</td>\n",
       "      <td>0.049963</td>\n",
       "      <td>-0.028815</td>\n",
       "      <td>-0.003875</td>\n",
       "      <td>...</td>\n",
       "      <td>-0.002053</td>\n",
       "      <td>0.002272</td>\n",
       "      <td>0.007337</td>\n",
       "      <td>0.017570</td>\n",
       "      <td>0.058375</td>\n",
       "      <td>-0.016730</td>\n",
       "      <td>-0.025762</td>\n",
       "      <td>-0.033631</td>\n",
       "      <td>0.015688</td>\n",
       "      <td>0.027141</td>\n",
       "    </tr>\n",
       "    <tr>\n",
       "      <th>82</th>\n",
       "      <td>-0.024915</td>\n",
       "      <td>0.068049</td>\n",
       "      <td>-0.096877</td>\n",
       "      <td>0.137538</td>\n",
       "      <td>-0.286615</td>\n",
       "      <td>-0.225028</td>\n",
       "      <td>0.428364</td>\n",
       "      <td>0.403833</td>\n",
       "      <td>-0.336141</td>\n",
       "      <td>-0.140243</td>\n",
       "      <td>...</td>\n",
       "      <td>0.174609</td>\n",
       "      <td>-0.084741</td>\n",
       "      <td>-0.116676</td>\n",
       "      <td>0.035437</td>\n",
       "      <td>0.694993</td>\n",
       "      <td>-0.043008</td>\n",
       "      <td>-0.132209</td>\n",
       "      <td>-0.162160</td>\n",
       "      <td>0.323150</td>\n",
       "      <td>0.179912</td>\n",
       "    </tr>\n",
       "  </tbody>\n",
       "</table>\n",
       "<p>83 rows × 50 columns</p>\n",
       "</div>"
      ],
      "text/plain": [
       "          0         1         2         3         4         5         6   \\\n",
       "0  -0.001410  0.006051 -0.008279 -0.004127 -0.015434 -0.017579  0.017241   \n",
       "1   0.004313 -0.007952 -0.009507  0.034884 -0.018596 -0.002244  0.034578   \n",
       "2   0.005441  0.006133  0.009451 -0.000092 -0.012893  0.007876  0.027070   \n",
       "3  -0.072932  0.177108 -0.192800  0.402517 -0.688690 -0.539063  1.097962   \n",
       "4  -0.015464  0.061651 -0.088626  0.113570 -0.243066 -0.182168  0.379277   \n",
       "..       ...       ...       ...       ...       ...       ...       ...   \n",
       "78  0.010975 -0.007608  0.010539  0.023471 -0.036067 -0.034904  0.053265   \n",
       "79  0.000012  0.033266 -0.020835  0.047847 -0.080882 -0.072077  0.097358   \n",
       "80  0.002992 -0.000789 -0.038408  0.039798 -0.082932 -0.065233  0.115443   \n",
       "81  0.015922  0.008614  0.008495 -0.004164 -0.008716 -0.022544  0.057604   \n",
       "82 -0.024915  0.068049 -0.096877  0.137538 -0.286615 -0.225028  0.428364   \n",
       "\n",
       "          7         8         9   ...        40        41        42        43  \\\n",
       "0   0.009999 -0.035109 -0.024994  ... -0.005810 -0.017907 -0.008996 -0.015269   \n",
       "1   0.058389 -0.043146 -0.002114  ...  0.002688 -0.004783 -0.004666  0.003104   \n",
       "2   0.010395 -0.019878 -0.019986  ... -0.004057  0.013558 -0.013200  0.005620   \n",
       "3   1.054735 -0.817136 -0.343116  ...  0.438874 -0.234401 -0.360598  0.112378   \n",
       "4   0.378033 -0.266770 -0.123801  ...  0.142914 -0.086064 -0.120750  0.035210   \n",
       "..       ...       ...       ...  ...       ...       ...       ...       ...   \n",
       "78  0.042510 -0.027904 -0.008375  ...  0.014485 -0.026507  0.005043  0.021770   \n",
       "79  0.089228 -0.098961 -0.023626  ...  0.035399 -0.006493 -0.049579  0.027930   \n",
       "80  0.116705 -0.093090 -0.016406  ...  0.064448 -0.025300 -0.032941  0.021461   \n",
       "81  0.049963 -0.028815 -0.003875  ... -0.002053  0.002272  0.007337  0.017570   \n",
       "82  0.403833 -0.336141 -0.140243  ...  0.174609 -0.084741 -0.116676  0.035437   \n",
       "\n",
       "          44        45        46        47        48        49  \n",
       "0   0.046724 -0.020165 -0.008748 -0.016779  0.001046  0.017428  \n",
       "1   0.059380 -0.004562  0.003692 -0.031014  0.048787  0.027684  \n",
       "2   0.012965  0.012141  0.016246  0.014638  0.018241  0.010650  \n",
       "3   1.703761 -0.131309 -0.375161 -0.390739  0.782348  0.515111  \n",
       "4   0.608114 -0.045715 -0.112195 -0.156299  0.261668  0.160294  \n",
       "..       ...       ...       ...       ...       ...       ...  \n",
       "78  0.073040 -0.011552 -0.024387 -0.008966  0.021019  0.011732  \n",
       "79  0.165218 -0.011999 -0.038550 -0.040607  0.093302  0.053453  \n",
       "80  0.153092 -0.013507 -0.032421 -0.025724  0.084115  0.044280  \n",
       "81  0.058375 -0.016730 -0.025762 -0.033631  0.015688  0.027141  \n",
       "82  0.694993 -0.043008 -0.132209 -0.162160  0.323150  0.179912  \n",
       "\n",
       "[83 rows x 50 columns]"
      ]
     },
     "execution_count": 23,
     "metadata": {},
     "output_type": "execute_result"
    }
   ],
   "source": [
    "a = pd.DataFrame([w2vmodel.wv[w] for w in df_sum.cut[0] if w in w2vmodel.wv])\n",
    "a"
   ]
  },
  {
   "cell_type": "markdown",
   "id": "e954b747",
   "metadata": {},
   "source": [
    "### 生成建模所用的矩阵"
   ]
  },
  {
   "cell_type": "code",
   "execution_count": 27,
   "id": "8ebbf465",
   "metadata": {},
   "outputs": [],
   "source": [
    "def m_avgvec(word , w2vmodel):\n",
    "    return a.agg('mean')"
   ]
  },
  {
   "cell_type": "code",
   "execution_count": 28,
   "id": "68bd5d9c",
   "metadata": {
    "scrolled": true
   },
   "outputs": [
    {
     "name": "stdout",
     "output_type": "stream",
     "text": [
      "Wall time: 465 ms\n"
     ]
    },
    {
     "data": {
      "text/html": [
       "<div>\n",
       "<style scoped>\n",
       "    .dataframe tbody tr th:only-of-type {\n",
       "        vertical-align: middle;\n",
       "    }\n",
       "\n",
       "    .dataframe tbody tr th {\n",
       "        vertical-align: top;\n",
       "    }\n",
       "\n",
       "    .dataframe thead th {\n",
       "        text-align: right;\n",
       "    }\n",
       "</style>\n",
       "<table border=\"1\" class=\"dataframe\">\n",
       "  <thead>\n",
       "    <tr style=\"text-align: right;\">\n",
       "      <th></th>\n",
       "      <th>0</th>\n",
       "      <th>1</th>\n",
       "      <th>2</th>\n",
       "      <th>3</th>\n",
       "      <th>4</th>\n",
       "      <th>5</th>\n",
       "      <th>6</th>\n",
       "      <th>7</th>\n",
       "      <th>8</th>\n",
       "      <th>9</th>\n",
       "      <th>...</th>\n",
       "      <th>40</th>\n",
       "      <th>41</th>\n",
       "      <th>42</th>\n",
       "      <th>43</th>\n",
       "      <th>44</th>\n",
       "      <th>45</th>\n",
       "      <th>46</th>\n",
       "      <th>47</th>\n",
       "      <th>48</th>\n",
       "      <th>49</th>\n",
       "    </tr>\n",
       "  </thead>\n",
       "  <tbody>\n",
       "    <tr>\n",
       "      <th>0</th>\n",
       "      <td>-0.022497</td>\n",
       "      <td>0.058977</td>\n",
       "      <td>-0.065446</td>\n",
       "      <td>0.129976</td>\n",
       "      <td>-0.223343</td>\n",
       "      <td>-0.177784</td>\n",
       "      <td>0.362696</td>\n",
       "      <td>0.346449</td>\n",
       "      <td>-0.271551</td>\n",
       "      <td>-0.110632</td>\n",
       "      <td>...</td>\n",
       "      <td>0.146945</td>\n",
       "      <td>-0.078648</td>\n",
       "      <td>-0.114538</td>\n",
       "      <td>0.038558</td>\n",
       "      <td>0.56674</td>\n",
       "      <td>-0.044061</td>\n",
       "      <td>-0.120648</td>\n",
       "      <td>-0.134869</td>\n",
       "      <td>0.254823</td>\n",
       "      <td>0.168339</td>\n",
       "    </tr>\n",
       "    <tr>\n",
       "      <th>1</th>\n",
       "      <td>-0.022497</td>\n",
       "      <td>0.058977</td>\n",
       "      <td>-0.065446</td>\n",
       "      <td>0.129976</td>\n",
       "      <td>-0.223343</td>\n",
       "      <td>-0.177784</td>\n",
       "      <td>0.362696</td>\n",
       "      <td>0.346449</td>\n",
       "      <td>-0.271551</td>\n",
       "      <td>-0.110632</td>\n",
       "      <td>...</td>\n",
       "      <td>0.146945</td>\n",
       "      <td>-0.078648</td>\n",
       "      <td>-0.114538</td>\n",
       "      <td>0.038558</td>\n",
       "      <td>0.56674</td>\n",
       "      <td>-0.044061</td>\n",
       "      <td>-0.120648</td>\n",
       "      <td>-0.134869</td>\n",
       "      <td>0.254823</td>\n",
       "      <td>0.168339</td>\n",
       "    </tr>\n",
       "    <tr>\n",
       "      <th>2</th>\n",
       "      <td>-0.022497</td>\n",
       "      <td>0.058977</td>\n",
       "      <td>-0.065446</td>\n",
       "      <td>0.129976</td>\n",
       "      <td>-0.223343</td>\n",
       "      <td>-0.177784</td>\n",
       "      <td>0.362696</td>\n",
       "      <td>0.346449</td>\n",
       "      <td>-0.271551</td>\n",
       "      <td>-0.110632</td>\n",
       "      <td>...</td>\n",
       "      <td>0.146945</td>\n",
       "      <td>-0.078648</td>\n",
       "      <td>-0.114538</td>\n",
       "      <td>0.038558</td>\n",
       "      <td>0.56674</td>\n",
       "      <td>-0.044061</td>\n",
       "      <td>-0.120648</td>\n",
       "      <td>-0.134869</td>\n",
       "      <td>0.254823</td>\n",
       "      <td>0.168339</td>\n",
       "    </tr>\n",
       "    <tr>\n",
       "      <th>3</th>\n",
       "      <td>-0.022497</td>\n",
       "      <td>0.058977</td>\n",
       "      <td>-0.065446</td>\n",
       "      <td>0.129976</td>\n",
       "      <td>-0.223343</td>\n",
       "      <td>-0.177784</td>\n",
       "      <td>0.362696</td>\n",
       "      <td>0.346449</td>\n",
       "      <td>-0.271551</td>\n",
       "      <td>-0.110632</td>\n",
       "      <td>...</td>\n",
       "      <td>0.146945</td>\n",
       "      <td>-0.078648</td>\n",
       "      <td>-0.114538</td>\n",
       "      <td>0.038558</td>\n",
       "      <td>0.56674</td>\n",
       "      <td>-0.044061</td>\n",
       "      <td>-0.120648</td>\n",
       "      <td>-0.134869</td>\n",
       "      <td>0.254823</td>\n",
       "      <td>0.168339</td>\n",
       "    </tr>\n",
       "    <tr>\n",
       "      <th>4</th>\n",
       "      <td>-0.022497</td>\n",
       "      <td>0.058977</td>\n",
       "      <td>-0.065446</td>\n",
       "      <td>0.129976</td>\n",
       "      <td>-0.223343</td>\n",
       "      <td>-0.177784</td>\n",
       "      <td>0.362696</td>\n",
       "      <td>0.346449</td>\n",
       "      <td>-0.271551</td>\n",
       "      <td>-0.110632</td>\n",
       "      <td>...</td>\n",
       "      <td>0.146945</td>\n",
       "      <td>-0.078648</td>\n",
       "      <td>-0.114538</td>\n",
       "      <td>0.038558</td>\n",
       "      <td>0.56674</td>\n",
       "      <td>-0.044061</td>\n",
       "      <td>-0.120648</td>\n",
       "      <td>-0.134869</td>\n",
       "      <td>0.254823</td>\n",
       "      <td>0.168339</td>\n",
       "    </tr>\n",
       "  </tbody>\n",
       "</table>\n",
       "<p>5 rows × 50 columns</p>\n",
       "</div>"
      ],
      "text/plain": [
       "         0         1         2         3         4         5         6   \\\n",
       "0 -0.022497  0.058977 -0.065446  0.129976 -0.223343 -0.177784  0.362696   \n",
       "1 -0.022497  0.058977 -0.065446  0.129976 -0.223343 -0.177784  0.362696   \n",
       "2 -0.022497  0.058977 -0.065446  0.129976 -0.223343 -0.177784  0.362696   \n",
       "3 -0.022497  0.058977 -0.065446  0.129976 -0.223343 -0.177784  0.362696   \n",
       "4 -0.022497  0.058977 -0.065446  0.129976 -0.223343 -0.177784  0.362696   \n",
       "\n",
       "         7         8         9   ...        40        41        42        43  \\\n",
       "0  0.346449 -0.271551 -0.110632  ...  0.146945 -0.078648 -0.114538  0.038558   \n",
       "1  0.346449 -0.271551 -0.110632  ...  0.146945 -0.078648 -0.114538  0.038558   \n",
       "2  0.346449 -0.271551 -0.110632  ...  0.146945 -0.078648 -0.114538  0.038558   \n",
       "3  0.346449 -0.271551 -0.110632  ...  0.146945 -0.078648 -0.114538  0.038558   \n",
       "4  0.346449 -0.271551 -0.110632  ...  0.146945 -0.078648 -0.114538  0.038558   \n",
       "\n",
       "        44        45        46        47        48        49  \n",
       "0  0.56674 -0.044061 -0.120648 -0.134869  0.254823  0.168339  \n",
       "1  0.56674 -0.044061 -0.120648 -0.134869  0.254823  0.168339  \n",
       "2  0.56674 -0.044061 -0.120648 -0.134869  0.254823  0.168339  \n",
       "3  0.56674 -0.044061 -0.120648 -0.134869  0.254823  0.168339  \n",
       "4  0.56674 -0.044061 -0.120648 -0.134869  0.254823  0.168339  \n",
       "\n",
       "[5 rows x 50 columns]"
      ]
     },
     "execution_count": 28,
     "metadata": {},
     "output_type": "execute_result"
    }
   ],
   "source": [
    "%time train_vecs = pd.DataFrame([m_avgvec(s,w2vmodel) for s in x_xunlian])\n",
    "train_vecs.head()"
   ]
  },
  {
   "cell_type": "markdown",
   "id": "ddf070cb",
   "metadata": {},
   "source": [
    "### 对情感分析模型进行优化拟合"
   ]
  },
  {
   "cell_type": "code",
   "execution_count": 29,
   "id": "65aa88a3",
   "metadata": {},
   "outputs": [
    {
     "name": "stdout",
     "output_type": "stream",
     "text": [
      "[LibSVM]"
     ]
    },
    {
     "data": {
      "text/plain": [
       "0.8554801163918526"
      ]
     },
     "execution_count": 29,
     "metadata": {},
     "output_type": "execute_result"
    }
   ],
   "source": [
    "from sklearn.svm import SVC\n",
    "clf2 = SVC(kernel = \"rbf\",verbose=True)\n",
    "clf2.fit(train_vecs,y_xunlian)\n",
    "clf2.score(train_vecs,y_xunlian)"
   ]
  },
  {
   "cell_type": "markdown",
   "id": "99d4cb1b",
   "metadata": {},
   "source": [
    "### 使用classification_report查看拟合效果"
   ]
  },
  {
   "cell_type": "code",
   "execution_count": 30,
   "id": "c13009b4",
   "metadata": {},
   "outputs": [
    {
     "name": "stdout",
     "output_type": "stream",
     "text": [
      "              precision    recall  f1-score   support\n",
      "\n",
      "           0       0.00      0.00      0.00       149\n",
      "           1       0.86      1.00      0.92       882\n",
      "\n",
      "    accuracy                           0.86      1031\n",
      "   macro avg       0.43      0.50      0.46      1031\n",
      "weighted avg       0.73      0.86      0.79      1031\n",
      "\n"
     ]
    },
    {
     "name": "stderr",
     "output_type": "stream",
     "text": [
      "D:\\Software\\python\\Lib\\site-packages\\sklearn\\metrics\\_classification.py:1248: UndefinedMetricWarning: Precision and F-score are ill-defined and being set to 0.0 in labels with no predicted samples. Use `zero_division` parameter to control this behavior.\n",
      "  _warn_prf(average, modifier, msg_start, len(result))\n",
      "D:\\Software\\python\\Lib\\site-packages\\sklearn\\metrics\\_classification.py:1248: UndefinedMetricWarning: Precision and F-score are ill-defined and being set to 0.0 in labels with no predicted samples. Use `zero_division` parameter to control this behavior.\n",
      "  _warn_prf(average, modifier, msg_start, len(result))\n",
      "D:\\Software\\python\\Lib\\site-packages\\sklearn\\metrics\\_classification.py:1248: UndefinedMetricWarning: Precision and F-score are ill-defined and being set to 0.0 in labels with no predicted samples. Use `zero_division` parameter to control this behavior.\n",
      "  _warn_prf(average, modifier, msg_start, len(result))\n"
     ]
    }
   ],
   "source": [
    "from sklearn.metrics import classification_report\n",
    "print(classification_report(y_xunlian,clf2.predict(train_vecs)))"
   ]
  },
  {
   "cell_type": "markdown",
   "id": "88625a0a",
   "metadata": {},
   "source": [
    "### 保存模型，方便日后调用"
   ]
  },
  {
   "cell_type": "code",
   "execution_count": 65,
   "id": "22c36c95",
   "metadata": {
    "scrolled": true
   },
   "outputs": [
    {
     "data": {
      "text/plain": [
       "['评论情感分析模型']"
      ]
     },
     "execution_count": 65,
     "metadata": {},
     "output_type": "execute_result"
    }
   ],
   "source": [
    "import joblib\n",
    "joblib.dump(clf2,\"评论情感分析模型\")"
   ]
  },
  {
   "cell_type": "markdown",
   "id": "89c3d5f0",
   "metadata": {},
   "source": [
    "### 对模型进行二次预测"
   ]
  },
  {
   "cell_type": "code",
   "execution_count": 68,
   "id": "985dd29d",
   "metadata": {
    "scrolled": true,
    "tags": []
   },
   "outputs": [
    {
     "name": "stdout",
     "output_type": "stream",
     "text": [
      "假书，从内容到外表，跟原版太差了，退货 : 正向\n"
     ]
    }
   ],
   "source": [
    "import jieba\n",
    "\n",
    "def w_pred(string,model):\n",
    "    words = jieba.lcut(string)\n",
    "    words_vecs = pd.DataFrame(m_avgvec(words,w2vmodel)).T\n",
    "    \n",
    "    result = model.predict(words_vecs)\n",
    "    \n",
    "    if int(result[0]) == 1:\n",
    "        print(string,\": 正向\")\n",
    "    else:\n",
    "        print(string,\": 负向\")\n",
    "\n",
    "comment = \"假书，从内容到外表，跟原版太差了，退货\"\n",
    "w_pred(comment,clf2)"
   ]
  },
  {
   "cell_type": "markdown",
   "id": "b3bd2d18",
   "metadata": {},
   "source": [
    "# 三、评论词云图展现"
   ]
  },
  {
   "cell_type": "code",
   "execution_count": 33,
   "id": "bf413599",
   "metadata": {
    "jupyter": {
     "outputs_hidden": true
    },
    "tags": []
   },
   "outputs": [
    {
     "data": {
      "text/plain": [
       "['[', \"'\", '书', '都', '快', '出来', '了', '！', '！', '！']"
      ]
     },
     "execution_count": 33,
     "metadata": {},
     "output_type": "execute_result"
    }
   ],
   "source": [
    "#首先使用jieba进行分词处理\n",
    "cut_words = jieba.lcut(str(comment_negative['评价'].values),cut_all = False)\n",
    "cut_words[:10]"
   ]
  },
  {
   "cell_type": "code",
   "execution_count": 37,
   "id": "feba3e02",
   "metadata": {
    "jupyter": {
     "outputs_hidden": true
    },
    "tags": []
   },
   "outputs": [
    {
     "data": {
      "text/plain": [
       "['书',\n",
       " '买',\n",
       " '本书',\n",
       " '本书',\n",
       " '质量',\n",
       " '最差',\n",
       " '无数',\n",
       " '空白页',\n",
       " '一看',\n",
       " '盗版',\n",
       " '他家',\n",
       " '买书',\n",
       " '真的',\n",
       " '不敢恭维',\n",
       " '告诉',\n",
       " '保证',\n",
       " '正版',\n",
       " '图书',\n",
       " '纸张',\n",
       " '薄']"
      ]
     },
     "execution_count": 37,
     "metadata": {},
     "output_type": "execute_result"
    }
   ],
   "source": [
    "#导入停用词\n",
    "with open('D:/系统默认/桌面/停用词.txt',encoding=\"utf-8\") as f:\n",
    "    stop_word = f.read()\n",
    "\n",
    "new_comment = [] #新定义一个空列表\n",
    "for word in cut_words:\n",
    "    if word not in stop_word:\n",
    "        new_comment.append(word) #将不在停用词里的评论导入到空列表中\n",
    "new_comment[:20]"
   ]
  },
  {
   "cell_type": "markdown",
   "id": "fe60c6bb",
   "metadata": {
    "collapsed": true,
    "jupyter": {
     "outputs_hidden": true
    },
    "tags": []
   },
   "source": [
    "### 使用FreqDist和most_common_words找出最常出现的评论"
   ]
  },
  {
   "cell_type": "code",
   "execution_count": 44,
   "id": "417aba3b",
   "metadata": {
    "jupyter": {
     "outputs_hidden": true
    },
    "tags": []
   },
   "outputs": [
    {
     "data": {
      "text/plain": [
       "[('买', 44), ('书', 26), ('标价', 22), ('虚高', 22), ('薄', 20)]"
      ]
     },
     "execution_count": 44,
     "metadata": {},
     "output_type": "execute_result"
    }
   ],
   "source": [
    "freq_list = FreqDist(new_comment)\n",
    "most_common_words = freq_list.most_common(5)\n",
    "most_common_words"
   ]
  },
  {
   "cell_type": "markdown",
   "id": "5003dcf8",
   "metadata": {},
   "source": [
    "### 绘制词云图"
   ]
  },
  {
   "cell_type": "code",
   "execution_count": 45,
   "id": "cb4f1391",
   "metadata": {},
   "outputs": [
    {
     "data": {
      "image/png": "[encoded data removed]",
      "text/plain": [
       "<Figure size 432x288 with 1 Axes>"
      ]
     },
     "metadata": {
      "needs_background": "light"
     },
     "output_type": "display_data"
    },
    {
     "data": {
      "text/plain": [
       "<wordcloud.wordcloud.WordCloud at 0x1893f469040>"
      ]
     },
     "execution_count": 45,
     "metadata": {},
     "output_type": "execute_result"
    }
   ],
   "source": [
    "w = WordCloud(\n",
    "    font_path='C:\\Windows\\Fonts\\STZHONGS.TTF',\n",
    "    background_color=\"white\",\n",
    "    height=500,\n",
    "    width = 1000,\n",
    "    max_words=50,\n",
    "    max_font_size= 150,\n",
    "    #mask=mask\n",
    ")\n",
    "w_image = w.generate(\" \".join(new_comment))\n",
    "plt.imshow(w_image)\n",
    "plt.axis(\"off\")\n",
    "plt.show()\n",
    "w_image.to_file(\"京东图书评论.png\")"
   ]
  }
 ],
 "metadata": {
  "kernelspec": {
   "display_name": "Python 3",
   "language": "python",
   "name": "python3"
  },
  "language_info": {
   "codemirror_mode": {
    "name": "ipython",
    "version": 3
   },
   "file_extension": ".py",
   "mimetype": "text/x-python",
   "name": "python",
   "nbconvert_exporter": "python",
   "pygments_lexer": "ipython3",
   "version": "3.8.5"
  }
 },
 "nbformat": 4,
 "nbformat_minor": 5
}
