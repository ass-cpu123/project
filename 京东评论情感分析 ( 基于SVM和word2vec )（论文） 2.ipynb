{
 "cells": [
  {
   "cell_type": "markdown",
   "id": "eb5deb4b",
   "metadata": {},
   "source": [
    "# 一、基于词袋模型（SVM）"
   ]
  },
  {
   "cell_type": "markdown",
   "id": "10ae03cd",
   "metadata": {},
   "source": [
    "## 导入相关的库"
   ]
  },
  {
   "cell_type": "code",
   "execution_count": 10,
   "id": "c50957a4",
   "metadata": {},
   "outputs": [
    {
     "name": "stderr",
     "output_type": "stream",
     "text": [
      "D:\\Software\\python\\Lib\\site-packages\\gensim\\similarities\\__init__.py:15: UserWarning: The gensim.similarities.levenshtein submodule is disabled, because the optional Levenshtein package <https://pypi.org/project/python-Levenshtein/> is unavailable. Install Levenhstein (e.g. `pip install python-Levenshtein`) to suppress this warning.\n",
      "  warnings.warn(msg)\n"
     ]
    }
   ],
   "source": [
    "import pandas as pd \n",
    "import numpy as np\n",
    "import nltk\n",
    "from nltk.corpus import brown\n",
    "from nltk import WordNetLemmatizer\n",
    "from nltk.stem import SnowballStemmer\n",
    "from nltk import FreqDist\n",
    "from gensim.models.word2vec import Word2Vec\n",
    "import joblib\n",
    "import jieba\n",
    "from nltk.corpus import stopwords\n",
    "#词云图必备库\n",
    "import wordcloud\n",
    "from wordcloud import WordCloud\n",
    "import matplotlib as plt\n",
    "from matplotlib import pyplot as plt\n",
    "import imageio"
   ]
  },
  {
   "cell_type": "markdown",
   "id": "1a6a9194",
   "metadata": {},
   "source": [
    "## 导入爬取的数据"
   ]
  },
  {
   "cell_type": "code",
   "execution_count": 11,
   "id": "ead339b8",
   "metadata": {},
   "outputs": [
    {
     "data": {
      "text/html": [
       "<div>\n",
       "<style scoped>\n",
       "    .dataframe tbody tr th:only-of-type {\n",
       "        vertical-align: middle;\n",
       "    }\n",
       "\n",
       "    .dataframe tbody tr th {\n",
       "        vertical-align: top;\n",
       "    }\n",
       "\n",
       "    .dataframe thead th {\n",
       "        text-align: right;\n",
       "    }\n",
       "</style>\n",
       "<table border=\"1\" class=\"dataframe\">\n",
       "  <thead>\n",
       "    <tr style=\"text-align: right;\">\n",
       "      <th></th>\n",
       "      <th>评价</th>\n",
       "      <th>y</th>\n",
       "    </tr>\n",
       "  </thead>\n",
       "  <tbody>\n",
       "    <tr>\n",
       "      <th>0</th>\n",
       "      <td>之前看过草枕，京东购书还是不错的，特别是有活动的时候，99块10本，选到自己喜欢的书籍，可以...</td>\n",
       "      <td>1</td>\n",
       "    </tr>\n",
       "    <tr>\n",
       "      <th>1</th>\n",
       "      <td>京东发货速度还是没个说的。这次活动很给力，一下选了40多本，大人小孩都够看一段时间了。书柜也...</td>\n",
       "      <td>1</td>\n",
       "    </tr>\n",
       "    <tr>\n",
       "      <th>2</th>\n",
       "      <td>京东品类丰富，物品保真，包装完善，价格公道，优惠活动多多。\\n产品品质有保证，款式新颖，自营...</td>\n",
       "      <td>1</td>\n",
       "    </tr>\n",
       "    <tr>\n",
       "      <th>3</th>\n",
       "      <td>首先，发货算是挺及时。\\n其次，快递非常快，楼下有快递站，拿也挺方便的。包装也很好，没损坏。...</td>\n",
       "      <td>1</td>\n",
       "    </tr>\n",
       "    <tr>\n",
       "      <th>4</th>\n",
       "      <td>书很不错，字体清晰大小合适，排班整洁易于阅读。很好读起来很畅快。书本身精彩有趣，笔触优美，很...</td>\n",
       "      <td>1</td>\n",
       "    </tr>\n",
       "    <tr>\n",
       "      <th>...</th>\n",
       "      <td>...</td>\n",
       "      <td>...</td>\n",
       "    </tr>\n",
       "    <tr>\n",
       "      <th>544</th>\n",
       "      <td>一直在京东买书，价格还算可以，所以基本没带孩子如果书店，这个比较失败。家里有小宝宝，真心走不...</td>\n",
       "      <td>1</td>\n",
       "    </tr>\n",
       "    <tr>\n",
       "      <th>545</th>\n",
       "      <td>希望宝宝可以喜欢这些书    养成看书的好习惯   书的质量非常好  值得购买</td>\n",
       "      <td>1</td>\n",
       "    </tr>\n",
       "    <tr>\n",
       "      <th>546</th>\n",
       "      <td>书的质量很好，是正版，快递一天就到了。黑泽明的电影看过了，看看书</td>\n",
       "      <td>1</td>\n",
       "    </tr>\n",
       "    <tr>\n",
       "      <th>547</th>\n",
       "      <td>京东物流很快，购物方便，活动时间买书很划算，书也不错，好评！</td>\n",
       "      <td>1</td>\n",
       "    </tr>\n",
       "    <tr>\n",
       "      <th>548</th>\n",
       "      <td>好书一本，一到就看了，纸质很好</td>\n",
       "      <td>1</td>\n",
       "    </tr>\n",
       "  </tbody>\n",
       "</table>\n",
       "<p>549 rows × 2 columns</p>\n",
       "</div>"
      ],
      "text/plain": [
       "                                                    评价  y\n",
       "0    之前看过草枕，京东购书还是不错的，特别是有活动的时候，99块10本，选到自己喜欢的书籍，可以...  1\n",
       "1    京东发货速度还是没个说的。这次活动很给力，一下选了40多本，大人小孩都够看一段时间了。书柜也...  1\n",
       "2    京东品类丰富，物品保真，包装完善，价格公道，优惠活动多多。\\n产品品质有保证，款式新颖，自营...  1\n",
       "3    首先，发货算是挺及时。\\n其次，快递非常快，楼下有快递站，拿也挺方便的。包装也很好，没损坏。...  1\n",
       "4    书很不错，字体清晰大小合适，排班整洁易于阅读。很好读起来很畅快。书本身精彩有趣，笔触优美，很...  1\n",
       "..                                                 ... ..\n",
       "544  一直在京东买书，价格还算可以，所以基本没带孩子如果书店，这个比较失败。家里有小宝宝，真心走不...  1\n",
       "545            希望宝宝可以喜欢这些书    养成看书的好习惯   书的质量非常好  值得购买  1\n",
       "546                   书的质量很好，是正版，快递一天就到了。黑泽明的电影看过了，看看书  1\n",
       "547                     京东物流很快，购物方便，活动时间买书很划算，书也不错，好评！  1\n",
       "548                                    好书一本，一到就看了，纸质很好  1\n",
       "\n",
       "[549 rows x 2 columns]"
      ]
     },
     "execution_count": 11,
     "metadata": {},
     "output_type": "execute_result"
    }
   ],
   "source": [
    "comment_positive = pd.read_csv('D:/jd_good_comment.csv',encoding=\"gb18030\")\n",
    "comment_positive[\"y\"] = 1\n",
    "comment_positive.drop([\"颜色\",'型号'],axis = 1)\n",
    "# df0 = comment_positive.append()"
   ]
  },
  {
   "cell_type": "code",
   "execution_count": 12,
   "id": "3e167d43",
   "metadata": {},
   "outputs": [
    {
     "data": {
      "text/html": [
       "<div>\n",
       "<style scoped>\n",
       "    .dataframe tbody tr th:only-of-type {\n",
       "        vertical-align: middle;\n",
       "    }\n",
       "\n",
       "    .dataframe tbody tr th {\n",
       "        vertical-align: top;\n",
       "    }\n",
       "\n",
       "    .dataframe thead th {\n",
       "        text-align: right;\n",
       "    }\n",
       "</style>\n",
       "<table border=\"1\" class=\"dataframe\">\n",
       "  <thead>\n",
       "    <tr style=\"text-align: right;\">\n",
       "      <th></th>\n",
       "      <th>评价</th>\n",
       "      <th>y</th>\n",
       "    </tr>\n",
       "  </thead>\n",
       "  <tbody>\n",
       "    <tr>\n",
       "      <th>0</th>\n",
       "      <td>书都快出来了！！！</td>\n",
       "      <td>0</td>\n",
       "    </tr>\n",
       "    <tr>\n",
       "      <th>1</th>\n",
       "      <td>一次买了十本书，就这本书质量最差，无数的空白页，一看就是盗版，决不要在他家买书了！！！</td>\n",
       "      <td>0</td>\n",
       "    </tr>\n",
       "    <tr>\n",
       "      <th>2</th>\n",
       "      <td>真的不敢恭维，你告诉我这是保证正版图书？纸张薄的要命，内容还有串了的，如果不是过了你们自己所...</td>\n",
       "      <td>0</td>\n",
       "    </tr>\n",
       "    <tr>\n",
       "      <th>3</th>\n",
       "      <td>说实话，这个99十本书有点坑。。。果然是便宜没好货，看着图片很不错，实际书都是那种劣质纸张做...</td>\n",
       "      <td>0</td>\n",
       "    </tr>\n",
       "    <tr>\n",
       "      <th>4</th>\n",
       "      <td>一言难尽不知道你懂不懂，这盗版书不能再盗版了，99十本书有点坑。看着图片不错，实际书都是那种...</td>\n",
       "      <td>0</td>\n",
       "    </tr>\n",
       "    <tr>\n",
       "      <th>...</th>\n",
       "      <td>...</td>\n",
       "      <td>...</td>\n",
       "    </tr>\n",
       "    <tr>\n",
       "      <th>247</th>\n",
       "      <td>为什么是删减版</td>\n",
       "      <td>0</td>\n",
       "    </tr>\n",
       "    <tr>\n",
       "      <th>248</th>\n",
       "      <td>一点也不好</td>\n",
       "      <td>0</td>\n",
       "    </tr>\n",
       "    <tr>\n",
       "      <th>249</th>\n",
       "      <td>差评，书写到一半就没了，连个句号都没有</td>\n",
       "      <td>0</td>\n",
       "    </tr>\n",
       "    <tr>\n",
       "      <th>250</th>\n",
       "      <td>是短片小说，不好看，欣赏不来。</td>\n",
       "      <td>0</td>\n",
       "    </tr>\n",
       "    <tr>\n",
       "      <th>251</th>\n",
       "      <td>假书，从内容到外表，跟原版太差了，退货</td>\n",
       "      <td>0</td>\n",
       "    </tr>\n",
       "  </tbody>\n",
       "</table>\n",
       "<p>198 rows × 2 columns</p>\n",
       "</div>"
      ],
      "text/plain": [
       "                                                    评价  y\n",
       "0                                            书都快出来了！！！  0\n",
       "1          一次买了十本书，就这本书质量最差，无数的空白页，一看就是盗版，决不要在他家买书了！！！  0\n",
       "2    真的不敢恭维，你告诉我这是保证正版图书？纸张薄的要命，内容还有串了的，如果不是过了你们自己所...  0\n",
       "3    说实话，这个99十本书有点坑。。。果然是便宜没好货，看着图片很不错，实际书都是那种劣质纸张做...  0\n",
       "4    一言难尽不知道你懂不懂，这盗版书不能再盗版了，99十本书有点坑。看着图片不错，实际书都是那种...  0\n",
       "..                                                 ... ..\n",
       "247                                            为什么是删减版  0\n",
       "248                                              一点也不好  0\n",
       "249                                差评，书写到一半就没了，连个句号都没有  0\n",
       "250                                    是短片小说，不好看，欣赏不来。  0\n",
       "251                                假书，从内容到外表，跟原版太差了，退货  0\n",
       "\n",
       "[198 rows x 2 columns]"
      ]
     },
     "execution_count": 12,
     "metadata": {},
     "output_type": "execute_result"
    }
   ],
   "source": [
    "comment_negative = pd.read_csv('D:/jd_bad_comment.csv',encoding=\"gb18030\")\n",
    "comment_negative = comment_negative.drop_duplicates()\n",
    "comment_negative['y'] = 0\n",
    "comment_negative\n",
    "comment_negative.drop(columns = [\"颜色\",\"型号\"],axis = 1)"
   ]
  },
  {
   "cell_type": "markdown",
   "id": "6788f742",
   "metadata": {},
   "source": [
    "将好评和差评数据合并到一个表格中"
   ]
  },
  {
   "cell_type": "code",
   "execution_count": 13,
   "id": "a2b330db",
   "metadata": {
    "scrolled": true
   },
   "outputs": [
    {
     "data": {
      "text/html": [
       "<div>\n",
       "<style scoped>\n",
       "    .dataframe tbody tr th:only-of-type {\n",
       "        vertical-align: middle;\n",
       "    }\n",
       "\n",
       "    .dataframe tbody tr th {\n",
       "        vertical-align: top;\n",
       "    }\n",
       "\n",
       "    .dataframe thead th {\n",
       "        text-align: right;\n",
       "    }\n",
       "</style>\n",
       "<table border=\"1\" class=\"dataframe\">\n",
       "  <thead>\n",
       "    <tr style=\"text-align: right;\">\n",
       "      <th></th>\n",
       "      <th>评价</th>\n",
       "      <th>颜色</th>\n",
       "      <th>型号</th>\n",
       "      <th>y</th>\n",
       "      <th>0</th>\n",
       "    </tr>\n",
       "  </thead>\n",
       "  <tbody>\n",
       "    <tr>\n",
       "      <th>0</th>\n",
       "      <td>之前看过草枕，京东购书还是不错的，特别是有活动的时候，99块10本，选到自己喜欢的书籍，可以...</td>\n",
       "      <td>我是猫</td>\n",
       "      <td>NaN</td>\n",
       "      <td>1</td>\n",
       "      <td></td>\n",
       "    </tr>\n",
       "    <tr>\n",
       "      <th>1</th>\n",
       "      <td>京东发货速度还是没个说的。这次活动很给力，一下选了40多本，大人小孩都够看一段时间了。书柜也...</td>\n",
       "      <td>了不起的盖茨比</td>\n",
       "      <td>NaN</td>\n",
       "      <td>1</td>\n",
       "      <td></td>\n",
       "    </tr>\n",
       "    <tr>\n",
       "      <th>2</th>\n",
       "      <td>京东品类丰富，物品保真，包装完善，价格公道，优惠活动多多。\\n产品品质有保证，款式新颖，自营...</td>\n",
       "      <td>鲁滨孙漂流记</td>\n",
       "      <td>NaN</td>\n",
       "      <td>1</td>\n",
       "      <td></td>\n",
       "    </tr>\n",
       "    <tr>\n",
       "      <th>3</th>\n",
       "      <td>首先，发货算是挺及时。\\n其次，快递非常快，楼下有快递站，拿也挺方便的。包装也很好，没损坏。...</td>\n",
       "      <td>纳兰词</td>\n",
       "      <td>NaN</td>\n",
       "      <td>1</td>\n",
       "      <td></td>\n",
       "    </tr>\n",
       "    <tr>\n",
       "      <th>4</th>\n",
       "      <td>书很不错，字体清晰大小合适，排班整洁易于阅读。很好读起来很畅快。书本身精彩有趣，笔触优美，很...</td>\n",
       "      <td>了不起的盖茨比</td>\n",
       "      <td>NaN</td>\n",
       "      <td>1</td>\n",
       "      <td></td>\n",
       "    </tr>\n",
       "    <tr>\n",
       "      <th>...</th>\n",
       "      <td>...</td>\n",
       "      <td>...</td>\n",
       "      <td>...</td>\n",
       "      <td>...</td>\n",
       "      <td>...</td>\n",
       "    </tr>\n",
       "    <tr>\n",
       "      <th>742</th>\n",
       "      <td>为什么是删减版</td>\n",
       "      <td>双城记</td>\n",
       "      <td>NaN</td>\n",
       "      <td>0</td>\n",
       "      <td></td>\n",
       "    </tr>\n",
       "    <tr>\n",
       "      <th>743</th>\n",
       "      <td>一点也不好</td>\n",
       "      <td>居里夫人自传</td>\n",
       "      <td>NaN</td>\n",
       "      <td>0</td>\n",
       "      <td></td>\n",
       "    </tr>\n",
       "    <tr>\n",
       "      <th>744</th>\n",
       "      <td>差评，书写到一半就没了，连个句号都没有</td>\n",
       "      <td>居里夫人自传</td>\n",
       "      <td>NaN</td>\n",
       "      <td>0</td>\n",
       "      <td></td>\n",
       "    </tr>\n",
       "    <tr>\n",
       "      <th>745</th>\n",
       "      <td>是短片小说，不好看，欣赏不来。</td>\n",
       "      <td>罗生门</td>\n",
       "      <td>NaN</td>\n",
       "      <td>0</td>\n",
       "      <td></td>\n",
       "    </tr>\n",
       "    <tr>\n",
       "      <th>746</th>\n",
       "      <td>假书，从内容到外表，跟原版太差了，退货</td>\n",
       "      <td>居里夫人自传</td>\n",
       "      <td>NaN</td>\n",
       "      <td>0</td>\n",
       "      <td></td>\n",
       "    </tr>\n",
       "  </tbody>\n",
       "</table>\n",
       "<p>747 rows × 5 columns</p>\n",
       "</div>"
      ],
      "text/plain": [
       "                                                    评价       颜色   型号  y  0\n",
       "0    之前看过草枕，京东购书还是不错的，特别是有活动的时候，99块10本，选到自己喜欢的书籍，可以...      我是猫  NaN  1   \n",
       "1    京东发货速度还是没个说的。这次活动很给力，一下选了40多本，大人小孩都够看一段时间了。书柜也...  了不起的盖茨比  NaN  1   \n",
       "2    京东品类丰富，物品保真，包装完善，价格公道，优惠活动多多。\\n产品品质有保证，款式新颖，自营...   鲁滨孙漂流记  NaN  1   \n",
       "3    首先，发货算是挺及时。\\n其次，快递非常快，楼下有快递站，拿也挺方便的。包装也很好，没损坏。...      纳兰词  NaN  1   \n",
       "4    书很不错，字体清晰大小合适，排班整洁易于阅读。很好读起来很畅快。书本身精彩有趣，笔触优美，很...  了不起的盖茨比  NaN  1   \n",
       "..                                                 ...      ...  ... .. ..\n",
       "742                                            为什么是删减版      双城记  NaN  0   \n",
       "743                                              一点也不好   居里夫人自传  NaN  0   \n",
       "744                                差评，书写到一半就没了，连个句号都没有   居里夫人自传  NaN  0   \n",
       "745                                    是短片小说，不好看，欣赏不来。      罗生门  NaN  0   \n",
       "746                                假书，从内容到外表，跟原版太差了，退货   居里夫人自传  NaN  0   \n",
       "\n",
       "[747 rows x 5 columns]"
      ]
     },
     "execution_count": 13,
     "metadata": {},
     "output_type": "execute_result"
    }
   ],
   "source": [
    "comment_sum = comment_positive.append(comment_negative,ignore_index=True)\n",
    "comment_sum[\"0\"] = \" \"\n",
    "comment_sum"
   ]
  },
  {
   "cell_type": "markdown",
   "id": "83ceb83e",
   "metadata": {},
   "source": [
    "使用jieba.lcut()进行分词处理，由于很多语气词也算情感词，因此这里不导入停用词"
   ]
  },
  {
   "cell_type": "code",
   "execution_count": 14,
   "id": "6da4aed5",
   "metadata": {},
   "outputs": [
    {
     "data": {
      "text/plain": [
       "<function __main__.<lambda>(x)>"
      ]
     },
     "execution_count": 14,
     "metadata": {},
     "output_type": "execute_result"
    }
   ],
   "source": [
    "cut_word = lambda x :\" \".join(jieba.lcut(x))\n",
    "cut_word"
   ]
  },
  {
   "cell_type": "markdown",
   "id": "18f38ee2",
   "metadata": {},
   "source": [
    "将分词结果导入到表表格中"
   ]
  },
  {
   "cell_type": "code",
   "execution_count": 15,
   "id": "0771bb39",
   "metadata": {
    "tags": []
   },
   "outputs": [
    {
     "name": "stderr",
     "output_type": "stream",
     "text": [
      "Building prefix dict from the default dictionary ...\n",
      "Loading model from cache D:\\temps\\jieba.cache\n",
      "Loading model cost 0.623 seconds.\n",
      "Prefix dict has been built successfully.\n"
     ]
    },
    {
     "data": {
      "text/html": [
       "<div>\n",
       "<style scoped>\n",
       "    .dataframe tbody tr th:only-of-type {\n",
       "        vertical-align: middle;\n",
       "    }\n",
       "\n",
       "    .dataframe tbody tr th {\n",
       "        vertical-align: top;\n",
       "    }\n",
       "\n",
       "    .dataframe thead th {\n",
       "        text-align: right;\n",
       "    }\n",
       "</style>\n",
       "<table border=\"1\" class=\"dataframe\">\n",
       "  <thead>\n",
       "    <tr style=\"text-align: right;\">\n",
       "      <th></th>\n",
       "      <th>评价</th>\n",
       "      <th>颜色</th>\n",
       "      <th>型号</th>\n",
       "      <th>y</th>\n",
       "      <th>0</th>\n",
       "      <th>clean_text</th>\n",
       "    </tr>\n",
       "  </thead>\n",
       "  <tbody>\n",
       "    <tr>\n",
       "      <th>0</th>\n",
       "      <td>之前看过草枕，京东购书还是不错的，特别是有活动的时候，99块10本，选到自己喜欢的书籍，可以...</td>\n",
       "      <td>我是猫</td>\n",
       "      <td>NaN</td>\n",
       "      <td>1</td>\n",
       "      <td></td>\n",
       "      <td>之前 看过 草枕 ， 京东 购书 还是 不错 的 ， 特别 是 有 活动 的 时候 ， 99...</td>\n",
       "    </tr>\n",
       "    <tr>\n",
       "      <th>1</th>\n",
       "      <td>京东发货速度还是没个说的。这次活动很给力，一下选了40多本，大人小孩都够看一段时间了。书柜也...</td>\n",
       "      <td>了不起的盖茨比</td>\n",
       "      <td>NaN</td>\n",
       "      <td>1</td>\n",
       "      <td></td>\n",
       "      <td>京东 发货 速度 还是 没个 说 的 。 这次 活动 很 给 力 ， 一下 选 了 40 多...</td>\n",
       "    </tr>\n",
       "    <tr>\n",
       "      <th>2</th>\n",
       "      <td>京东品类丰富，物品保真，包装完善，价格公道，优惠活动多多。\\n产品品质有保证，款式新颖，自营...</td>\n",
       "      <td>鲁滨孙漂流记</td>\n",
       "      <td>NaN</td>\n",
       "      <td>1</td>\n",
       "      <td></td>\n",
       "      <td>京东 品类 丰富 ， 物品 保真 ， 包装 完善 ， 价格公道 ， 优惠活动 多多 。 \\n...</td>\n",
       "    </tr>\n",
       "    <tr>\n",
       "      <th>3</th>\n",
       "      <td>首先，发货算是挺及时。\\n其次，快递非常快，楼下有快递站，拿也挺方便的。包装也很好，没损坏。...</td>\n",
       "      <td>纳兰词</td>\n",
       "      <td>NaN</td>\n",
       "      <td>1</td>\n",
       "      <td></td>\n",
       "      <td>首先 ， 发货 算是 挺 及时 。 \\n 其次 ， 快递 非常 快 ， 楼下 有 快递 站 ...</td>\n",
       "    </tr>\n",
       "    <tr>\n",
       "      <th>4</th>\n",
       "      <td>书很不错，字体清晰大小合适，排班整洁易于阅读。很好读起来很畅快。书本身精彩有趣，笔触优美，很...</td>\n",
       "      <td>了不起的盖茨比</td>\n",
       "      <td>NaN</td>\n",
       "      <td>1</td>\n",
       "      <td></td>\n",
       "      <td>书 很 不错 ， 字体 清晰 大小 合适 ， 排班 整洁 易于 阅读 。 很 好 读 起来 ...</td>\n",
       "    </tr>\n",
       "    <tr>\n",
       "      <th>5</th>\n",
       "      <td>京东这个活动每年都参加，99买十本，而且包装特别好，送货特别快，书籍种类特别多，通过大家买的...</td>\n",
       "      <td>局外人</td>\n",
       "      <td>NaN</td>\n",
       "      <td>1</td>\n",
       "      <td></td>\n",
       "      <td>京东 这个 活动 每年 都 参加 ， 99 买 十本 ， 而且 包装 特别 好 ， 送货 特...</td>\n",
       "    </tr>\n",
       "    <tr>\n",
       "      <th>6</th>\n",
       "      <td>京东发货速度还是没个说的。这次活动很给力，一下选了40多本，大人小孩都够看一段时间了。书柜也...</td>\n",
       "      <td>纳兰词</td>\n",
       "      <td>NaN</td>\n",
       "      <td>1</td>\n",
       "      <td></td>\n",
       "      <td>京东 发货 速度 还是 没个 说 的 。 这次 活动 很 给 力 ， 一下 选 了 40 多...</td>\n",
       "    </tr>\n",
       "    <tr>\n",
       "      <th>7</th>\n",
       "      <td>孩子特别喜欢这本书，说非常喜欢，问了我很多问题，书是正版，印刷很好，无异味，值得购买</td>\n",
       "      <td>一只黑猩猩的宇宙史</td>\n",
       "      <td>NaN</td>\n",
       "      <td>1</td>\n",
       "      <td></td>\n",
       "      <td>孩子 特别 喜欢 这 本书 ， 说 非常 喜欢 ， 问 了 我 很多 问题 ， 书 是 正版...</td>\n",
       "    </tr>\n",
       "    <tr>\n",
       "      <th>8</th>\n",
       "      <td>买东西买书上京东，京东一下一时爽，一直京东一直爽。给力\\n啊！非常好的购物体验，又快，又好，...</td>\n",
       "      <td>罗生门</td>\n",
       "      <td>NaN</td>\n",
       "      <td>1</td>\n",
       "      <td></td>\n",
       "      <td>买 东西 买 书上 京东 ， 京东 一下 一时 爽 ， 一直 京东 一 直爽 。 给力 \\n...</td>\n",
       "    </tr>\n",
       "    <tr>\n",
       "      <th>9</th>\n",
       "      <td>一年一度的京东618活动又来了，把购物车里面积攒的书籍，趁着活动都给清仓了，拉上同事买了一小...</td>\n",
       "      <td>局外人</td>\n",
       "      <td>NaN</td>\n",
       "      <td>1</td>\n",
       "      <td></td>\n",
       "      <td>一年一度 的 京东 618 活动 又 来 了 ， 把 购物车 里面 积攒 的 书籍 ， 趁着...</td>\n",
       "    </tr>\n",
       "    <tr>\n",
       "      <th>10</th>\n",
       "      <td>评价</td>\n",
       "      <td>颜色</td>\n",
       "      <td>型号</td>\n",
       "      <td>1</td>\n",
       "      <td></td>\n",
       "      <td>评价</td>\n",
       "    </tr>\n",
       "    <tr>\n",
       "      <th>11</th>\n",
       "      <td>发货速度很快，包装精美，非常喜欢的店铺，经常来看看，图书特别漂亮，色彩靓丽，纸质厚实，内容丰...</td>\n",
       "      <td>我是猫</td>\n",
       "      <td>NaN</td>\n",
       "      <td>1</td>\n",
       "      <td></td>\n",
       "      <td>发货 速度 很快 ， 包装 精美 ， 非常 喜欢 的 店铺 ， 经常 来 看看 ， 图书 特...</td>\n",
       "    </tr>\n",
       "    <tr>\n",
       "      <th>12</th>\n",
       "      <td>京东品类丰富，物品保真，包装完善，价格公道，优惠活动多多。\\n产品品质有保证，款式新颖，自营...</td>\n",
       "      <td>局外人</td>\n",
       "      <td>NaN</td>\n",
       "      <td>1</td>\n",
       "      <td></td>\n",
       "      <td>京东 品类 丰富 ， 物品 保真 ， 包装 完善 ， 价格公道 ， 优惠活动 多多 。 \\n...</td>\n",
       "    </tr>\n",
       "    <tr>\n",
       "      <th>13</th>\n",
       "      <td>京东品类丰富，物品保真，包装完善，价格公道，优惠活动多多。\\n产品品质有保证，款式新颖，自营...</td>\n",
       "      <td>罗生门</td>\n",
       "      <td>NaN</td>\n",
       "      <td>1</td>\n",
       "      <td></td>\n",
       "      <td>京东 品类 丰富 ， 物品 保真 ， 包装 完善 ， 价格公道 ， 优惠活动 多多 。 \\n...</td>\n",
       "    </tr>\n",
       "    <tr>\n",
       "      <th>14</th>\n",
       "      <td>孩子一年级 拿到手里迫不及待的就看了起来。里面有穿插的图画彩页  内容写的也通俗易懂，孩子自...</td>\n",
       "      <td>一只黑猩猩的宇宙史</td>\n",
       "      <td>NaN</td>\n",
       "      <td>1</td>\n",
       "      <td></td>\n",
       "      <td>孩子 一年级   拿到 手里 迫不及待 的 就 看 了 起来 。 里面 有 穿插 的 图画 ...</td>\n",
       "    </tr>\n",
       "    <tr>\n",
       "      <th>15</th>\n",
       "      <td>非常感谢京东商城网购晒单平台打造全新品牌产品价格实惠质量保证的服务态度非常好??</td>\n",
       "      <td>罗生门</td>\n",
       "      <td>NaN</td>\n",
       "      <td>1</td>\n",
       "      <td></td>\n",
       "      <td>非常感谢 京东 商城 网购 晒 单 平台 打造 全新 品牌 产品价格 实惠 质量保证 的 服...</td>\n",
       "    </tr>\n",
       "    <tr>\n",
       "      <th>16</th>\n",
       "      <td>很早以前就想买这本书，这次京东搞活动正好买了，书本包装精美，印刷清晰，封面漂亮，迫不及待的拿...</td>\n",
       "      <td>局外人</td>\n",
       "      <td>NaN</td>\n",
       "      <td>1</td>\n",
       "      <td></td>\n",
       "      <td>很早以前 就 想 买 这 本书 ， 这次 京东 搞 活动 正好 买 了 ， 书本 包装 精美...</td>\n",
       "    </tr>\n",
       "    <tr>\n",
       "      <th>17</th>\n",
       "      <td>《纳兰词》一直听说过，但是都没有时间拜读，趁着活动买了这本书。还好没亏，书本用纸质量不错，纸...</td>\n",
       "      <td>纳兰词</td>\n",
       "      <td>NaN</td>\n",
       "      <td>1</td>\n",
       "      <td></td>\n",
       "      <td>《 纳兰词 》 一直 听说 过 ， 但是 都 没有 时间 拜读 ， 趁着 活动 买 了 这 ...</td>\n",
       "    </tr>\n",
       "    <tr>\n",
       "      <th>18</th>\n",
       "      <td>发货速度很快，包装精美，非常喜欢的店铺，经常来看看，书籍特别帅气，颜值高，大人小孩都喜欢！书...</td>\n",
       "      <td>一只黑猩猩的宇宙史</td>\n",
       "      <td>NaN</td>\n",
       "      <td>1</td>\n",
       "      <td></td>\n",
       "      <td>发货 速度 很快 ， 包装 精美 ， 非常 喜欢 的 店铺 ， 经常 来 看看 ， 书籍 特...</td>\n",
       "    </tr>\n",
       "    <tr>\n",
       "      <th>19</th>\n",
       "      <td>虽然这本书不厚，但感觉很适合小朋友看。有很多页都是彩色的，而且字也不算多。适合小学生作为课外...</td>\n",
       "      <td>一只黑猩猩的宇宙史</td>\n",
       "      <td>NaN</td>\n",
       "      <td>1</td>\n",
       "      <td></td>\n",
       "      <td>虽然 这 本书 不厚 ， 但 感觉 很 适合 小朋友 看 。 有 很多 页 都 是 彩色 的...</td>\n",
       "    </tr>\n",
       "  </tbody>\n",
       "</table>\n",
       "</div>"
      ],
      "text/plain": [
       "                                                   评价         颜色   型号  y  0  \\\n",
       "0   之前看过草枕，京东购书还是不错的，特别是有活动的时候，99块10本，选到自己喜欢的书籍，可以...        我是猫  NaN  1      \n",
       "1   京东发货速度还是没个说的。这次活动很给力，一下选了40多本，大人小孩都够看一段时间了。书柜也...    了不起的盖茨比  NaN  1      \n",
       "2   京东品类丰富，物品保真，包装完善，价格公道，优惠活动多多。\\n产品品质有保证，款式新颖，自营...     鲁滨孙漂流记  NaN  1      \n",
       "3   首先，发货算是挺及时。\\n其次，快递非常快，楼下有快递站，拿也挺方便的。包装也很好，没损坏。...        纳兰词  NaN  1      \n",
       "4   书很不错，字体清晰大小合适，排班整洁易于阅读。很好读起来很畅快。书本身精彩有趣，笔触优美，很...    了不起的盖茨比  NaN  1      \n",
       "5   京东这个活动每年都参加，99买十本，而且包装特别好，送货特别快，书籍种类特别多，通过大家买的...        局外人  NaN  1      \n",
       "6   京东发货速度还是没个说的。这次活动很给力，一下选了40多本，大人小孩都够看一段时间了。书柜也...        纳兰词  NaN  1      \n",
       "7          孩子特别喜欢这本书，说非常喜欢，问了我很多问题，书是正版，印刷很好，无异味，值得购买  一只黑猩猩的宇宙史  NaN  1      \n",
       "8   买东西买书上京东，京东一下一时爽，一直京东一直爽。给力\\n啊！非常好的购物体验，又快，又好，...        罗生门  NaN  1      \n",
       "9   一年一度的京东618活动又来了，把购物车里面积攒的书籍，趁着活动都给清仓了，拉上同事买了一小...        局外人  NaN  1      \n",
       "10                                                 评价         颜色   型号  1      \n",
       "11  发货速度很快，包装精美，非常喜欢的店铺，经常来看看，图书特别漂亮，色彩靓丽，纸质厚实，内容丰...        我是猫  NaN  1      \n",
       "12  京东品类丰富，物品保真，包装完善，价格公道，优惠活动多多。\\n产品品质有保证，款式新颖，自营...        局外人  NaN  1      \n",
       "13  京东品类丰富，物品保真，包装完善，价格公道，优惠活动多多。\\n产品品质有保证，款式新颖，自营...        罗生门  NaN  1      \n",
       "14  孩子一年级 拿到手里迫不及待的就看了起来。里面有穿插的图画彩页  内容写的也通俗易懂，孩子自...  一只黑猩猩的宇宙史  NaN  1      \n",
       "15           非常感谢京东商城网购晒单平台打造全新品牌产品价格实惠质量保证的服务态度非常好??        罗生门  NaN  1      \n",
       "16  很早以前就想买这本书，这次京东搞活动正好买了，书本包装精美，印刷清晰，封面漂亮，迫不及待的拿...        局外人  NaN  1      \n",
       "17  《纳兰词》一直听说过，但是都没有时间拜读，趁着活动买了这本书。还好没亏，书本用纸质量不错，纸...        纳兰词  NaN  1      \n",
       "18  发货速度很快，包装精美，非常喜欢的店铺，经常来看看，书籍特别帅气，颜值高，大人小孩都喜欢！书...  一只黑猩猩的宇宙史  NaN  1      \n",
       "19  虽然这本书不厚，但感觉很适合小朋友看。有很多页都是彩色的，而且字也不算多。适合小学生作为课外...  一只黑猩猩的宇宙史  NaN  1      \n",
       "\n",
       "                                           clean_text  \n",
       "0   之前 看过 草枕 ， 京东 购书 还是 不错 的 ， 特别 是 有 活动 的 时候 ， 99...  \n",
       "1   京东 发货 速度 还是 没个 说 的 。 这次 活动 很 给 力 ， 一下 选 了 40 多...  \n",
       "2   京东 品类 丰富 ， 物品 保真 ， 包装 完善 ， 价格公道 ， 优惠活动 多多 。 \\n...  \n",
       "3   首先 ， 发货 算是 挺 及时 。 \\n 其次 ， 快递 非常 快 ， 楼下 有 快递 站 ...  \n",
       "4   书 很 不错 ， 字体 清晰 大小 合适 ， 排班 整洁 易于 阅读 。 很 好 读 起来 ...  \n",
       "5   京东 这个 活动 每年 都 参加 ， 99 买 十本 ， 而且 包装 特别 好 ， 送货 特...  \n",
       "6   京东 发货 速度 还是 没个 说 的 。 这次 活动 很 给 力 ， 一下 选 了 40 多...  \n",
       "7   孩子 特别 喜欢 这 本书 ， 说 非常 喜欢 ， 问 了 我 很多 问题 ， 书 是 正版...  \n",
       "8   买 东西 买 书上 京东 ， 京东 一下 一时 爽 ， 一直 京东 一 直爽 。 给力 \\n...  \n",
       "9   一年一度 的 京东 618 活动 又 来 了 ， 把 购物车 里面 积攒 的 书籍 ， 趁着...  \n",
       "10                                                 评价  \n",
       "11  发货 速度 很快 ， 包装 精美 ， 非常 喜欢 的 店铺 ， 经常 来 看看 ， 图书 特...  \n",
       "12  京东 品类 丰富 ， 物品 保真 ， 包装 完善 ， 价格公道 ， 优惠活动 多多 。 \\n...  \n",
       "13  京东 品类 丰富 ， 物品 保真 ， 包装 完善 ， 价格公道 ， 优惠活动 多多 。 \\n...  \n",
       "14  孩子 一年级   拿到 手里 迫不及待 的 就 看 了 起来 。 里面 有 穿插 的 图画 ...  \n",
       "15  非常感谢 京东 商城 网购 晒 单 平台 打造 全新 品牌 产品价格 实惠 质量保证 的 服...  \n",
       "16  很早以前 就 想 买 这 本书 ， 这次 京东 搞 活动 正好 买 了 ， 书本 包装 精美...  \n",
       "17  《 纳兰词 》 一直 听说 过 ， 但是 都 没有 时间 拜读 ， 趁着 活动 买 了 这 ...  \n",
       "18  发货 速度 很快 ， 包装 精美 ， 非常 喜欢 的 店铺 ， 经常 来 看看 ， 书籍 特...  \n",
       "19  虽然 这 本书 不厚 ， 但 感觉 很 适合 小朋友 看 。 有 很多 页 都 是 彩色 的...  "
      ]
     },
     "execution_count": 15,
     "metadata": {},
     "output_type": "execute_result"
    }
   ],
   "source": [
    "comment_sum[\"clean_text\"] = comment_sum['评价'].apply(cut_word)\n",
    "comment_sum.head(20)"
   ]
  },
  {
   "cell_type": "markdown",
   "id": "04777362",
   "metadata": {},
   "source": [
    "导入feature_extraction库，将分词结果转化为向量矩阵"
   ]
  },
  {
   "cell_type": "code",
   "execution_count": 16,
   "id": "85db0361",
   "metadata": {},
   "outputs": [
    {
     "data": {
      "text/plain": [
       "<747x2891 sparse matrix of type '<class 'numpy.int64'>'\n",
       "\twith 12969 stored elements in Compressed Sparse Row format>"
      ]
     },
     "execution_count": 16,
     "metadata": {},
     "output_type": "execute_result"
    }
   ],
   "source": [
    "from sklearn.feature_extraction.text import CountVectorizer\n",
    "countvec = CountVectorizer(min_df = 1)\n",
    "\n",
    "wordmtx = countvec.fit_transform(comment_sum.clean_text)\n",
    "wordmtx"
   ]
  },
  {
   "cell_type": "markdown",
   "id": "46a687a9",
   "metadata": {},
   "source": [
    "生成训练集和测试集，按照30%来抽取测试集，生成了2891个矩阵"
   ]
  },
  {
   "cell_type": "code",
   "execution_count": 17,
   "id": "c8af8bb6",
   "metadata": {},
   "outputs": [
    {
     "data": {
      "text/plain": [
       "<1x2891 sparse matrix of type '<class 'numpy.int64'>'\n",
       "\twith 10 stored elements in Compressed Sparse Row format>"
      ]
     },
     "execution_count": 17,
     "metadata": {},
     "output_type": "execute_result"
    }
   ],
   "source": [
    "from sklearn.model_selection import train_test_split\n",
    "\n",
    "x_train,x_test,y_train,y_test = train_test_split(\n",
    "    wordmtx,\n",
    "    comment_sum.y,test_size=0.3\n",
    ")\n",
    "x_train[0]"
   ]
  },
  {
   "cell_type": "markdown",
   "id": "f6916cc5",
   "metadata": {},
   "source": [
    "使用SVM进行建模，模型评分为0.97，准确率较高"
   ]
  },
  {
   "cell_type": "code",
   "execution_count": 18,
   "id": "b3c4577f",
   "metadata": {
    "scrolled": true
   },
   "outputs": [
    {
     "name": "stdout",
     "output_type": "stream",
     "text": [
      "[LibSVM]"
     ]
    },
    {
     "data": {
      "text/plain": [
       "0.9885057471264368"
      ]
     },
     "execution_count": 18,
     "metadata": {},
     "output_type": "execute_result"
    }
   ],
   "source": [
    "from sklearn.svm import SVC\n",
    "clf = SVC(kernel = 'rbf',verbose = True)\n",
    "clf.fit(x_train,y_train)\n",
    "clf.score(x_train,y_train)"
   ]
  },
  {
   "cell_type": "markdown",
   "id": "044787e0",
   "metadata": {},
   "source": [
    "对模型效果进行评估，可以看出在预测上，正向结果和负向结果的精准度有较大的差别，说明该模型并不平衡，具有改进的空间"
   ]
  },
  {
   "cell_type": "code",
   "execution_count": 19,
   "id": "7f4821b2",
   "metadata": {
    "scrolled": true
   },
   "outputs": [
    {
     "name": "stdout",
     "output_type": "stream",
     "text": [
      "              precision    recall  f1-score   support\n",
      "\n",
      "           0       0.86      0.80      0.83        64\n",
      "           1       0.92      0.95      0.94       161\n",
      "\n",
      "    accuracy                           0.91       225\n",
      "   macro avg       0.89      0.87      0.88       225\n",
      "weighted avg       0.91      0.91      0.91       225\n",
      "\n"
     ]
    }
   ],
   "source": [
    "from sklearn.metrics import classification_report\n",
    "print(classification_report(y_test,clf.predict(x_test)))"
   ]
  },
  {
   "cell_type": "markdown",
   "id": "c9414c36",
   "metadata": {},
   "source": [
    "将数据集转成用于训练的向量"
   ]
  },
  {
   "cell_type": "code",
   "execution_count": 20,
   "id": "4612b05a",
   "metadata": {},
   "outputs": [
    {
     "data": {
      "text/plain": [
       "1"
      ]
     },
     "execution_count": 20,
     "metadata": {},
     "output_type": "execute_result"
    }
   ],
   "source": [
    "clf.predict(countvec.transform([comment_sum.clean_text[1]]))[0]"
   ]
  },
  {
   "cell_type": "markdown",
   "id": "a2679f3f",
   "metadata": {},
   "source": [
    "在comment栏输入相关评论，对模型进行预测"
   ]
  },
  {
   "cell_type": "code",
   "execution_count": 21,
   "id": "36199f25",
   "metadata": {},
   "outputs": [
    {
     "name": "stdout",
     "output_type": "stream",
     "text": [
      "说实话，这个99十本书有点坑。。。果然是便宜没好货，看着图片很不错，实际书都是那种劣质纸张做... : 负向\n"
     ]
    }
   ],
   "source": [
    "import jieba\n",
    "def m_pred(string,countvec,model):\n",
    "    words = \" \".join(jieba.lcut(string))\n",
    "    words_vecs = countvec.transform([words])\n",
    "    \n",
    "    result = model.predict(words_vecs)\n",
    "    \n",
    "    if int(result[0]) == 1:\n",
    "        print(string,\": 正向\")\n",
    "    else:\n",
    "        print(string,\": 负向\")\n",
    "\n",
    "comment = \"说实话，这个99十本书有点坑。。。果然是便宜没好货，看着图片很不错，实际书都是那种劣质纸张做...\"\n",
    "m_pred(comment,countvec,clf)"
   ]
  },
  {
   "cell_type": "code",
   "execution_count": 22,
   "id": "7d767701",
   "metadata": {
    "scrolled": true
   },
   "outputs": [
    {
     "name": "stdout",
     "output_type": "stream",
     "text": [
      "首先，发货算是挺及时。\n",
      "其次，快递非常快，楼下有快递站，拿也挺方便的。包装也很好，没损坏。 : 正向\n"
     ]
    }
   ],
   "source": [
    "comment2 = \"首先，发货算是挺及时。\\n其次，快递非常快，楼下有快递站，拿也挺方便的。包装也很好，没损坏。\"\n",
    "m_pred(comment2,countvec,clf)"
   ]
  },
  {
   "cell_type": "markdown",
   "id": "93410469",
   "metadata": {},
   "source": [
    "# 二、基于word2vec（分布式表达）的分析"
   ]
  },
  {
   "cell_type": "markdown",
   "id": "d4ff05d3",
   "metadata": {},
   "source": [
    "导入数据"
   ]
  },
  {
   "cell_type": "code",
   "execution_count": 23,
   "id": "f3361614",
   "metadata": {},
   "outputs": [
    {
     "data": {
      "text/html": [
       "<div>\n",
       "<style scoped>\n",
       "    .dataframe tbody tr th:only-of-type {\n",
       "        vertical-align: middle;\n",
       "    }\n",
       "\n",
       "    .dataframe tbody tr th {\n",
       "        vertical-align: top;\n",
       "    }\n",
       "\n",
       "    .dataframe thead th {\n",
       "        text-align: right;\n",
       "    }\n",
       "</style>\n",
       "<table border=\"1\" class=\"dataframe\">\n",
       "  <thead>\n",
       "    <tr style=\"text-align: right;\">\n",
       "      <th></th>\n",
       "      <th>Unnamed: 0</th>\n",
       "      <th>评价</th>\n",
       "      <th>颜色</th>\n",
       "      <th>型号</th>\n",
       "      <th>y</th>\n",
       "    </tr>\n",
       "  </thead>\n",
       "  <tbody>\n",
       "    <tr>\n",
       "      <th>0</th>\n",
       "      <td>1.0</td>\n",
       "      <td>之前看过草枕，京东购书还是不错的，特别是有活动的时候，99块10本，选到自己喜欢的书籍，可以...</td>\n",
       "      <td>我是猫</td>\n",
       "      <td>NaN</td>\n",
       "      <td>1</td>\n",
       "    </tr>\n",
       "    <tr>\n",
       "      <th>1</th>\n",
       "      <td>2.0</td>\n",
       "      <td>京东发货速度还是没个说的。这次活动很给力，一下选了40多本，大人小孩都够看一段时间了。书柜也...</td>\n",
       "      <td>了不起的盖茨比</td>\n",
       "      <td>NaN</td>\n",
       "      <td>1</td>\n",
       "    </tr>\n",
       "    <tr>\n",
       "      <th>2</th>\n",
       "      <td>3.0</td>\n",
       "      <td>京东品类丰富，物品保真，包装完善，价格公道，优惠活动多多。\\n产品品质有保证，款式新颖，自营...</td>\n",
       "      <td>鲁滨孙漂流记</td>\n",
       "      <td>NaN</td>\n",
       "      <td>1</td>\n",
       "    </tr>\n",
       "    <tr>\n",
       "      <th>3</th>\n",
       "      <td>4.0</td>\n",
       "      <td>首先，发货算是挺及时。\\n其次，快递非常快，楼下有快递站，拿也挺方便的。包装也很好，没损坏。...</td>\n",
       "      <td>纳兰词</td>\n",
       "      <td>NaN</td>\n",
       "      <td>1</td>\n",
       "    </tr>\n",
       "    <tr>\n",
       "      <th>4</th>\n",
       "      <td>5.0</td>\n",
       "      <td>书很不错，字体清晰大小合适，排班整洁易于阅读。很好读起来很畅快。书本身精彩有趣，笔触优美，很...</td>\n",
       "      <td>了不起的盖茨比</td>\n",
       "      <td>NaN</td>\n",
       "      <td>1</td>\n",
       "    </tr>\n",
       "    <tr>\n",
       "      <th>...</th>\n",
       "      <td>...</td>\n",
       "      <td>...</td>\n",
       "      <td>...</td>\n",
       "      <td>...</td>\n",
       "      <td>...</td>\n",
       "    </tr>\n",
       "    <tr>\n",
       "      <th>1468</th>\n",
       "      <td>NaN</td>\n",
       "      <td>为什么是删减版</td>\n",
       "      <td>双城记</td>\n",
       "      <td>NaN</td>\n",
       "      <td>0</td>\n",
       "    </tr>\n",
       "    <tr>\n",
       "      <th>1469</th>\n",
       "      <td>NaN</td>\n",
       "      <td>一点也不好</td>\n",
       "      <td>居里夫人自传</td>\n",
       "      <td>NaN</td>\n",
       "      <td>0</td>\n",
       "    </tr>\n",
       "    <tr>\n",
       "      <th>1470</th>\n",
       "      <td>NaN</td>\n",
       "      <td>差评，书写到一半就没了，连个句号都没有</td>\n",
       "      <td>居里夫人自传</td>\n",
       "      <td>NaN</td>\n",
       "      <td>0</td>\n",
       "    </tr>\n",
       "    <tr>\n",
       "      <th>1471</th>\n",
       "      <td>NaN</td>\n",
       "      <td>是短片小说，不好看，欣赏不来。</td>\n",
       "      <td>罗生门</td>\n",
       "      <td>NaN</td>\n",
       "      <td>0</td>\n",
       "    </tr>\n",
       "    <tr>\n",
       "      <th>1472</th>\n",
       "      <td>NaN</td>\n",
       "      <td>假书，从内容到外表，跟原版太差了，退货</td>\n",
       "      <td>居里夫人自传</td>\n",
       "      <td>NaN</td>\n",
       "      <td>0</td>\n",
       "    </tr>\n",
       "  </tbody>\n",
       "</table>\n",
       "<p>1473 rows × 5 columns</p>\n",
       "</div>"
      ],
      "text/plain": [
       "      Unnamed: 0                                                 评价       颜色  \\\n",
       "0            1.0  之前看过草枕，京东购书还是不错的，特别是有活动的时候，99块10本，选到自己喜欢的书籍，可以...      我是猫   \n",
       "1            2.0  京东发货速度还是没个说的。这次活动很给力，一下选了40多本，大人小孩都够看一段时间了。书柜也...  了不起的盖茨比   \n",
       "2            3.0  京东品类丰富，物品保真，包装完善，价格公道，优惠活动多多。\\n产品品质有保证，款式新颖，自营...   鲁滨孙漂流记   \n",
       "3            4.0  首先，发货算是挺及时。\\n其次，快递非常快，楼下有快递站，拿也挺方便的。包装也很好，没损坏。...      纳兰词   \n",
       "4            5.0  书很不错，字体清晰大小合适，排班整洁易于阅读。很好读起来很畅快。书本身精彩有趣，笔触优美，很...  了不起的盖茨比   \n",
       "...          ...                                                ...      ...   \n",
       "1468         NaN                                            为什么是删减版      双城记   \n",
       "1469         NaN                                              一点也不好   居里夫人自传   \n",
       "1470         NaN                                差评，书写到一半就没了，连个句号都没有   居里夫人自传   \n",
       "1471         NaN                                    是短片小说，不好看，欣赏不来。      罗生门   \n",
       "1472         NaN                                假书，从内容到外表，跟原版太差了，退货   居里夫人自传   \n",
       "\n",
       "       型号  y  \n",
       "0     NaN  1  \n",
       "1     NaN  1  \n",
       "2     NaN  1  \n",
       "3     NaN  1  \n",
       "4     NaN  1  \n",
       "...   ... ..  \n",
       "1468  NaN  0  \n",
       "1469  NaN  0  \n",
       "1470  NaN  0  \n",
       "1471  NaN  0  \n",
       "1472  NaN  0  \n",
       "\n",
       "[1473 rows x 5 columns]"
      ]
     },
     "execution_count": 23,
     "metadata": {},
     "output_type": "execute_result"
    }
   ],
   "source": [
    "dfpos = pd.read_csv('D:/jd_good_comment_max.csv',encoding=\"gb18030\")\n",
    "dfpos[\"y\"] = 1\n",
    "dfpos.drop([\"颜色\",'型号'],axis = 1)\n",
    "dfneg = pd.read_csv('D:/jd_bad_comment_max.csv',encoding=\"gb18030\")\n",
    "dfneg = comment_negative.drop_duplicates()\n",
    "dfneg['y'] = 0\n",
    "dfneg.drop(columns = [\"颜色\",\"型号\"],axis = 1)\n",
    "df_sum = dfpos.append(dfneg,ignore_index=True)\n",
    "df_sum"
   ]
  },
  {
   "cell_type": "markdown",
   "id": "3acf59e8",
   "metadata": {},
   "source": [
    "分词操作"
   ]
  },
  {
   "cell_type": "code",
   "execution_count": 24,
   "id": "92f7ea21",
   "metadata": {},
   "outputs": [
    {
     "data": {
      "text/html": [
       "<div>\n",
       "<style scoped>\n",
       "    .dataframe tbody tr th:only-of-type {\n",
       "        vertical-align: middle;\n",
       "    }\n",
       "\n",
       "    .dataframe tbody tr th {\n",
       "        vertical-align: top;\n",
       "    }\n",
       "\n",
       "    .dataframe thead th {\n",
       "        text-align: right;\n",
       "    }\n",
       "</style>\n",
       "<table border=\"1\" class=\"dataframe\">\n",
       "  <thead>\n",
       "    <tr style=\"text-align: right;\">\n",
       "      <th></th>\n",
       "      <th>Unnamed: 0</th>\n",
       "      <th>评价</th>\n",
       "      <th>y</th>\n",
       "      <th>cut</th>\n",
       "    </tr>\n",
       "  </thead>\n",
       "  <tbody>\n",
       "    <tr>\n",
       "      <th>0</th>\n",
       "      <td>1.0</td>\n",
       "      <td>之前看过草枕，京东购书还是不错的，特别是有活动的时候，99块10本，选到自己喜欢的书籍，可以...</td>\n",
       "      <td>1</td>\n",
       "      <td>[之前, 看过, 草枕, ，, 京东, 购书, 还是, 不错, 的, ，, 特别, 是, 有...</td>\n",
       "    </tr>\n",
       "    <tr>\n",
       "      <th>1</th>\n",
       "      <td>2.0</td>\n",
       "      <td>京东发货速度还是没个说的。这次活动很给力，一下选了40多本，大人小孩都够看一段时间了。书柜也...</td>\n",
       "      <td>1</td>\n",
       "      <td>[京东, 发货, 速度, 还是, 没个, 说, 的, 。, 这次, 活动, 很, 给, 力,...</td>\n",
       "    </tr>\n",
       "    <tr>\n",
       "      <th>2</th>\n",
       "      <td>3.0</td>\n",
       "      <td>京东品类丰富，物品保真，包装完善，价格公道，优惠活动多多。\\n产品品质有保证，款式新颖，自营...</td>\n",
       "      <td>1</td>\n",
       "      <td>[京东, 品类, 丰富, ，, 物品, 保真, ，, 包装, 完善, ，, 价格公道, ，,...</td>\n",
       "    </tr>\n",
       "    <tr>\n",
       "      <th>3</th>\n",
       "      <td>4.0</td>\n",
       "      <td>首先，发货算是挺及时。\\n其次，快递非常快，楼下有快递站，拿也挺方便的。包装也很好，没损坏。...</td>\n",
       "      <td>1</td>\n",
       "      <td>[首先, ，, 发货, 算是, 挺, 及时, 。, \\n, 其次, ，, 快递, 非常, 快...</td>\n",
       "    </tr>\n",
       "    <tr>\n",
       "      <th>4</th>\n",
       "      <td>5.0</td>\n",
       "      <td>书很不错，字体清晰大小合适，排班整洁易于阅读。很好读起来很畅快。书本身精彩有趣，笔触优美，很...</td>\n",
       "      <td>1</td>\n",
       "      <td>[书, 很, 不错, ，, 字体, 清晰, 大小, 合适, ，, 排班, 整洁, 易于, 阅...</td>\n",
       "    </tr>\n",
       "    <tr>\n",
       "      <th>...</th>\n",
       "      <td>...</td>\n",
       "      <td>...</td>\n",
       "      <td>...</td>\n",
       "      <td>...</td>\n",
       "    </tr>\n",
       "    <tr>\n",
       "      <th>1468</th>\n",
       "      <td>NaN</td>\n",
       "      <td>为什么是删减版</td>\n",
       "      <td>0</td>\n",
       "      <td>[为什么, 是, 删减, 版]</td>\n",
       "    </tr>\n",
       "    <tr>\n",
       "      <th>1469</th>\n",
       "      <td>NaN</td>\n",
       "      <td>一点也不好</td>\n",
       "      <td>0</td>\n",
       "      <td>[一点, 也, 不好]</td>\n",
       "    </tr>\n",
       "    <tr>\n",
       "      <th>1470</th>\n",
       "      <td>NaN</td>\n",
       "      <td>差评，书写到一半就没了，连个句号都没有</td>\n",
       "      <td>0</td>\n",
       "      <td>[差评, ，, 书写, 到, 一半, 就, 没, 了, ，, 连, 个, 句号, 都, 没有]</td>\n",
       "    </tr>\n",
       "    <tr>\n",
       "      <th>1471</th>\n",
       "      <td>NaN</td>\n",
       "      <td>是短片小说，不好看，欣赏不来。</td>\n",
       "      <td>0</td>\n",
       "      <td>[是, 短片, 小说, ，, 不, 好看, ，, 欣赏, 不, 来, 。]</td>\n",
       "    </tr>\n",
       "    <tr>\n",
       "      <th>1472</th>\n",
       "      <td>NaN</td>\n",
       "      <td>假书，从内容到外表，跟原版太差了，退货</td>\n",
       "      <td>0</td>\n",
       "      <td>[假书, ，, 从, 内容, 到, 外表, ，, 跟, 原版, 太差, 了, ，, 退货]</td>\n",
       "    </tr>\n",
       "  </tbody>\n",
       "</table>\n",
       "<p>1473 rows × 4 columns</p>\n",
       "</div>"
      ],
      "text/plain": [
       "      Unnamed: 0                                                 评价  y  \\\n",
       "0            1.0  之前看过草枕，京东购书还是不错的，特别是有活动的时候，99块10本，选到自己喜欢的书籍，可以...  1   \n",
       "1            2.0  京东发货速度还是没个说的。这次活动很给力，一下选了40多本，大人小孩都够看一段时间了。书柜也...  1   \n",
       "2            3.0  京东品类丰富，物品保真，包装完善，价格公道，优惠活动多多。\\n产品品质有保证，款式新颖，自营...  1   \n",
       "3            4.0  首先，发货算是挺及时。\\n其次，快递非常快，楼下有快递站，拿也挺方便的。包装也很好，没损坏。...  1   \n",
       "4            5.0  书很不错，字体清晰大小合适，排班整洁易于阅读。很好读起来很畅快。书本身精彩有趣，笔触优美，很...  1   \n",
       "...          ...                                                ... ..   \n",
       "1468         NaN                                            为什么是删减版  0   \n",
       "1469         NaN                                              一点也不好  0   \n",
       "1470         NaN                                差评，书写到一半就没了，连个句号都没有  0   \n",
       "1471         NaN                                    是短片小说，不好看，欣赏不来。  0   \n",
       "1472         NaN                                假书，从内容到外表，跟原版太差了，退货  0   \n",
       "\n",
       "                                                    cut  \n",
       "0     [之前, 看过, 草枕, ，, 京东, 购书, 还是, 不错, 的, ，, 特别, 是, 有...  \n",
       "1     [京东, 发货, 速度, 还是, 没个, 说, 的, 。, 这次, 活动, 很, 给, 力,...  \n",
       "2     [京东, 品类, 丰富, ，, 物品, 保真, ，, 包装, 完善, ，, 价格公道, ，,...  \n",
       "3     [首先, ，, 发货, 算是, 挺, 及时, 。, \\n, 其次, ，, 快递, 非常, 快...  \n",
       "4     [书, 很, 不错, ，, 字体, 清晰, 大小, 合适, ，, 排班, 整洁, 易于, 阅...  \n",
       "...                                                 ...  \n",
       "1468                                    [为什么, 是, 删减, 版]  \n",
       "1469                                        [一点, 也, 不好]  \n",
       "1470    [差评, ，, 书写, 到, 一半, 就, 没, 了, ，, 连, 个, 句号, 都, 没有]  \n",
       "1471              [是, 短片, 小说, ，, 不, 好看, ，, 欣赏, 不, 来, 。]  \n",
       "1472      [假书, ，, 从, 内容, 到, 外表, ，, 跟, 原版, 太差, 了, ，, 退货]  \n",
       "\n",
       "[1473 rows x 4 columns]"
      ]
     },
     "execution_count": 24,
     "metadata": {},
     "output_type": "execute_result"
    }
   ],
   "source": [
    "df_sum[\"cut\"] = df_sum['评价'].apply(jieba.lcut)\n",
    "df_sum.drop(['颜色','型号'],axis =1)"
   ]
  },
  {
   "cell_type": "markdown",
   "id": "56288a5d",
   "metadata": {},
   "source": [
    "以7:3的格式生成训练集和测试集"
   ]
  },
  {
   "cell_type": "code",
   "execution_count": 25,
   "id": "b1295991",
   "metadata": {},
   "outputs": [
    {
     "data": {
      "text/plain": [
       "1243    [特别, 好, 的, 书, ，, 简直, 是, 物美价廉, 。, 可以, 学习, 和, 了解...\n",
       "212     [这么, 多书, ，, 可, 算是, 收到, 了, ，, 卖家, 发货, 很快, ，, 物流...\n",
       "1282    [这本, 城堡, 可以, 说, 非常, 差, 了, ，, 你们, 看看, 排班, 就, 知道...\n",
       "1306                           [此, 用户, 未, 及时, 填写, 评价, 内容]\n",
       "741     [京东, 图书, 双十, 一, 活动, ，, 价格, 相当, 用心, 了, ，, 各种, 叠...\n",
       "                              ...                        \n",
       "1127              [包装, 很, 精美, ，, 物流, 也, 很快, ！, 急切, 拜读, ！]\n",
       "732            [很, 不错, 的, 书, ，, 小朋友, 很, 喜欢, ，, 配送, 速度, 快]\n",
       "1235    [京东, 自营, 的, 图书, ，, 价格, 很, 美丽, 。, 买, 了, 好多, 呢, ...\n",
       "1101    [反, 乌托邦, 三部曲, 买全, 了, ，, 京东, 打折, 优惠, 力度, 很大, ，, 赞]\n",
       "340                                                  [评价]\n",
       "Name: cut, Length: 100, dtype: object"
      ]
     },
     "execution_count": 25,
     "metadata": {},
     "output_type": "execute_result"
    }
   ],
   "source": [
    "from sklearn.model_selection import train_test_split\n",
    "x_xunlian,x_ceshi,y_xunlian,y_ceshi = train_test_split(\n",
    "    df_sum.cut,df_sum.y,test_size=0.3\n",
    ")\n",
    "x_xunlian[0:100]"
   ]
  },
  {
   "cell_type": "markdown",
   "id": "4222444b",
   "metadata": {},
   "source": [
    "导入gensim包，设置w2v模型"
   ]
  },
  {
   "cell_type": "code",
   "execution_count": 26,
   "id": "d1567181",
   "metadata": {},
   "outputs": [],
   "source": [
    "from gensim.models.word2vec import Word2Vec\n",
    "\n",
    "n_dim = 50\n",
    "w2vmodel = Word2Vec(vector_size=n_dim ,min_count=1)\n",
    "w2vmodel.build_vocab(x_xunlian)"
   ]
  },
  {
   "cell_type": "markdown",
   "id": "9987ce74",
   "metadata": {},
   "source": [
    "### 在评论训练集上建模"
   ]
  },
  {
   "cell_type": "code",
   "execution_count": 27,
   "id": "bb1916cc",
   "metadata": {},
   "outputs": [
    {
     "name": "stdout",
     "output_type": "stream",
     "text": [
      "Wall time: 24.5 ms\n"
     ]
    },
    {
     "data": {
      "text/plain": [
       "(25963, 39027)"
      ]
     },
     "execution_count": 27,
     "metadata": {},
     "output_type": "execute_result"
    }
   ],
   "source": [
    "%time w2vmodel.train( x_xunlian, \\\n",
    "    total_examples=w2vmodel.corpus_count,epochs=1)"
   ]
  },
  {
   "cell_type": "markdown",
   "id": "1aa52cbe",
   "metadata": {},
   "source": [
    "### 判断情感词向量之间的相似度"
   ]
  },
  {
   "cell_type": "code",
   "execution_count": 28,
   "id": "de5c7c1c",
   "metadata": {},
   "outputs": [
    {
     "data": {
      "text/plain": [
       "[('的', 0.9979045987129211),\n",
       " ('，', 0.9978995323181152),\n",
       " ('。', 0.9977269768714905),\n",
       " ('！', 0.9975091218948364),\n",
       " ('京东', 0.9973722100257874),\n",
       " ('了', 0.9973372220993042),\n",
       " ('是', 0.9972596764564514),\n",
       " ('很', 0.9971070289611816),\n",
       " ('都', 0.9970918297767639),\n",
       " ('也', 0.9968633651733398)]"
      ]
     },
     "execution_count": 28,
     "metadata": {},
     "output_type": "execute_result"
    }
   ],
   "source": [
    "w2vmodel.wv.most_similar(\"好\")"
   ]
  },
  {
   "cell_type": "code",
   "execution_count": 29,
   "id": "1cb38dcd",
   "metadata": {},
   "outputs": [
    {
     "data": {
      "text/plain": [
       "[('的', 0.9971006512641907),\n",
       " ('，', 0.9970983862876892),\n",
       " ('都', 0.9969091415405273),\n",
       " ('了', 0.9968224763870239),\n",
       " ('京东', 0.9966505169868469),\n",
       " ('很', 0.9965073466300964),\n",
       " ('！', 0.9964559674263),\n",
       " ('也', 0.9963604807853699),\n",
       " ('是', 0.9963380098342896),\n",
       " ('活动', 0.9962599277496338)]"
      ]
     },
     "execution_count": 29,
     "metadata": {},
     "output_type": "execute_result"
    }
   ],
   "source": [
    "w2vmodel.wv.most_similar(\"可以\")"
   ]
  },
  {
   "cell_type": "markdown",
   "id": "277fd8d5",
   "metadata": {},
   "source": [
    "### 生成整句向量用于情感词预测"
   ]
  },
  {
   "cell_type": "code",
   "execution_count": 30,
   "id": "400cf866",
   "metadata": {},
   "outputs": [
    {
     "data": {
      "text/html": [
       "<div>\n",
       "<style scoped>\n",
       "    .dataframe tbody tr th:only-of-type {\n",
       "        vertical-align: middle;\n",
       "    }\n",
       "\n",
       "    .dataframe tbody tr th {\n",
       "        vertical-align: top;\n",
       "    }\n",
       "\n",
       "    .dataframe thead th {\n",
       "        text-align: right;\n",
       "    }\n",
       "</style>\n",
       "<table border=\"1\" class=\"dataframe\">\n",
       "  <thead>\n",
       "    <tr style=\"text-align: right;\">\n",
       "      <th></th>\n",
       "      <th>0</th>\n",
       "      <th>1</th>\n",
       "      <th>2</th>\n",
       "      <th>3</th>\n",
       "      <th>4</th>\n",
       "      <th>5</th>\n",
       "      <th>6</th>\n",
       "      <th>7</th>\n",
       "      <th>8</th>\n",
       "      <th>9</th>\n",
       "      <th>...</th>\n",
       "      <th>40</th>\n",
       "      <th>41</th>\n",
       "      <th>42</th>\n",
       "      <th>43</th>\n",
       "      <th>44</th>\n",
       "      <th>45</th>\n",
       "      <th>46</th>\n",
       "      <th>47</th>\n",
       "      <th>48</th>\n",
       "      <th>49</th>\n",
       "    </tr>\n",
       "  </thead>\n",
       "  <tbody>\n",
       "    <tr>\n",
       "      <th>0</th>\n",
       "      <td>-0.002719</td>\n",
       "      <td>-0.011818</td>\n",
       "      <td>0.016423</td>\n",
       "      <td>0.005245</td>\n",
       "      <td>-0.009219</td>\n",
       "      <td>0.003074</td>\n",
       "      <td>0.013577</td>\n",
       "      <td>0.023160</td>\n",
       "      <td>0.001390</td>\n",
       "      <td>-0.025841</td>\n",
       "      <td>...</td>\n",
       "      <td>0.009896</td>\n",
       "      <td>0.015136</td>\n",
       "      <td>-0.004366</td>\n",
       "      <td>0.012651</td>\n",
       "      <td>0.016593</td>\n",
       "      <td>0.010369</td>\n",
       "      <td>-0.016997</td>\n",
       "      <td>0.007290</td>\n",
       "      <td>0.014640</td>\n",
       "      <td>0.021764</td>\n",
       "    </tr>\n",
       "    <tr>\n",
       "      <th>1</th>\n",
       "      <td>-0.008406</td>\n",
       "      <td>-0.011891</td>\n",
       "      <td>0.017645</td>\n",
       "      <td>0.002486</td>\n",
       "      <td>-0.025997</td>\n",
       "      <td>-0.025640</td>\n",
       "      <td>0.050415</td>\n",
       "      <td>0.044956</td>\n",
       "      <td>-0.042756</td>\n",
       "      <td>-0.010869</td>\n",
       "      <td>...</td>\n",
       "      <td>0.000749</td>\n",
       "      <td>-0.007871</td>\n",
       "      <td>-0.021541</td>\n",
       "      <td>0.009767</td>\n",
       "      <td>0.039747</td>\n",
       "      <td>0.012628</td>\n",
       "      <td>0.004076</td>\n",
       "      <td>-0.035864</td>\n",
       "      <td>0.010925</td>\n",
       "      <td>0.021204</td>\n",
       "    </tr>\n",
       "    <tr>\n",
       "      <th>2</th>\n",
       "      <td>-0.002322</td>\n",
       "      <td>0.004921</td>\n",
       "      <td>-0.014018</td>\n",
       "      <td>0.000818</td>\n",
       "      <td>-0.020432</td>\n",
       "      <td>0.011299</td>\n",
       "      <td>0.004815</td>\n",
       "      <td>0.020172</td>\n",
       "      <td>0.006132</td>\n",
       "      <td>0.000816</td>\n",
       "      <td>...</td>\n",
       "      <td>-0.018945</td>\n",
       "      <td>0.005738</td>\n",
       "      <td>0.004288</td>\n",
       "      <td>0.019892</td>\n",
       "      <td>-0.006822</td>\n",
       "      <td>-0.019526</td>\n",
       "      <td>-0.019676</td>\n",
       "      <td>0.000466</td>\n",
       "      <td>0.013602</td>\n",
       "      <td>0.018096</td>\n",
       "    </tr>\n",
       "    <tr>\n",
       "      <th>3</th>\n",
       "      <td>0.174623</td>\n",
       "      <td>-0.023553</td>\n",
       "      <td>0.217905</td>\n",
       "      <td>0.183120</td>\n",
       "      <td>-0.237240</td>\n",
       "      <td>-0.565647</td>\n",
       "      <td>0.818398</td>\n",
       "      <td>1.274845</td>\n",
       "      <td>-1.016531</td>\n",
       "      <td>-0.445074</td>\n",
       "      <td>...</td>\n",
       "      <td>0.292316</td>\n",
       "      <td>0.049560</td>\n",
       "      <td>-0.088239</td>\n",
       "      <td>0.313914</td>\n",
       "      <td>0.980936</td>\n",
       "      <td>-0.052374</td>\n",
       "      <td>-0.130661</td>\n",
       "      <td>-0.504107</td>\n",
       "      <td>0.373079</td>\n",
       "      <td>0.668292</td>\n",
       "    </tr>\n",
       "    <tr>\n",
       "      <th>4</th>\n",
       "      <td>0.083741</td>\n",
       "      <td>-0.011110</td>\n",
       "      <td>0.068336</td>\n",
       "      <td>0.050456</td>\n",
       "      <td>-0.104924</td>\n",
       "      <td>-0.233803</td>\n",
       "      <td>0.347471</td>\n",
       "      <td>0.553488</td>\n",
       "      <td>-0.417727</td>\n",
       "      <td>-0.194440</td>\n",
       "      <td>...</td>\n",
       "      <td>0.119342</td>\n",
       "      <td>0.013017</td>\n",
       "      <td>-0.031104</td>\n",
       "      <td>0.131230</td>\n",
       "      <td>0.436906</td>\n",
       "      <td>-0.022533</td>\n",
       "      <td>-0.038539</td>\n",
       "      <td>-0.237955</td>\n",
       "      <td>0.149920</td>\n",
       "      <td>0.264168</td>\n",
       "    </tr>\n",
       "    <tr>\n",
       "      <th>...</th>\n",
       "      <td>...</td>\n",
       "      <td>...</td>\n",
       "      <td>...</td>\n",
       "      <td>...</td>\n",
       "      <td>...</td>\n",
       "      <td>...</td>\n",
       "      <td>...</td>\n",
       "      <td>...</td>\n",
       "      <td>...</td>\n",
       "      <td>...</td>\n",
       "      <td>...</td>\n",
       "      <td>...</td>\n",
       "      <td>...</td>\n",
       "      <td>...</td>\n",
       "      <td>...</td>\n",
       "      <td>...</td>\n",
       "      <td>...</td>\n",
       "      <td>...</td>\n",
       "      <td>...</td>\n",
       "      <td>...</td>\n",
       "      <td>...</td>\n",
       "    </tr>\n",
       "    <tr>\n",
       "      <th>78</th>\n",
       "      <td>0.006135</td>\n",
       "      <td>-0.018129</td>\n",
       "      <td>-0.013512</td>\n",
       "      <td>0.004722</td>\n",
       "      <td>-0.003894</td>\n",
       "      <td>-0.011442</td>\n",
       "      <td>0.032502</td>\n",
       "      <td>0.034514</td>\n",
       "      <td>-0.029510</td>\n",
       "      <td>-0.016291</td>\n",
       "      <td>...</td>\n",
       "      <td>-0.006287</td>\n",
       "      <td>0.012422</td>\n",
       "      <td>-0.015539</td>\n",
       "      <td>-0.000584</td>\n",
       "      <td>0.013338</td>\n",
       "      <td>-0.005418</td>\n",
       "      <td>0.004667</td>\n",
       "      <td>0.005623</td>\n",
       "      <td>-0.012916</td>\n",
       "      <td>-0.006834</td>\n",
       "    </tr>\n",
       "    <tr>\n",
       "      <th>79</th>\n",
       "      <td>0.011647</td>\n",
       "      <td>-0.012592</td>\n",
       "      <td>0.000541</td>\n",
       "      <td>-0.004369</td>\n",
       "      <td>-0.009547</td>\n",
       "      <td>-0.056180</td>\n",
       "      <td>0.056668</td>\n",
       "      <td>0.095647</td>\n",
       "      <td>-0.071976</td>\n",
       "      <td>-0.025581</td>\n",
       "      <td>...</td>\n",
       "      <td>0.018952</td>\n",
       "      <td>0.014057</td>\n",
       "      <td>-0.023691</td>\n",
       "      <td>0.027703</td>\n",
       "      <td>0.092709</td>\n",
       "      <td>-0.019264</td>\n",
       "      <td>-0.004662</td>\n",
       "      <td>-0.052450</td>\n",
       "      <td>0.045687</td>\n",
       "      <td>0.055846</td>\n",
       "    </tr>\n",
       "    <tr>\n",
       "      <th>80</th>\n",
       "      <td>0.012585</td>\n",
       "      <td>-0.009308</td>\n",
       "      <td>0.010816</td>\n",
       "      <td>0.015669</td>\n",
       "      <td>-0.035260</td>\n",
       "      <td>-0.080370</td>\n",
       "      <td>0.101397</td>\n",
       "      <td>0.155294</td>\n",
       "      <td>-0.128561</td>\n",
       "      <td>-0.062186</td>\n",
       "      <td>...</td>\n",
       "      <td>0.043932</td>\n",
       "      <td>0.019446</td>\n",
       "      <td>-0.001843</td>\n",
       "      <td>0.061448</td>\n",
       "      <td>0.152789</td>\n",
       "      <td>0.002338</td>\n",
       "      <td>-0.028741</td>\n",
       "      <td>-0.057953</td>\n",
       "      <td>0.031271</td>\n",
       "      <td>0.079007</td>\n",
       "    </tr>\n",
       "    <tr>\n",
       "      <th>81</th>\n",
       "      <td>0.000819</td>\n",
       "      <td>-0.018310</td>\n",
       "      <td>-0.004395</td>\n",
       "      <td>0.018492</td>\n",
       "      <td>-0.019286</td>\n",
       "      <td>-0.017154</td>\n",
       "      <td>0.037234</td>\n",
       "      <td>0.093925</td>\n",
       "      <td>-0.047382</td>\n",
       "      <td>-0.022748</td>\n",
       "      <td>...</td>\n",
       "      <td>0.012297</td>\n",
       "      <td>0.000779</td>\n",
       "      <td>0.004801</td>\n",
       "      <td>0.024003</td>\n",
       "      <td>0.066294</td>\n",
       "      <td>0.014062</td>\n",
       "      <td>-0.024765</td>\n",
       "      <td>-0.046814</td>\n",
       "      <td>0.009905</td>\n",
       "      <td>0.028072</td>\n",
       "    </tr>\n",
       "    <tr>\n",
       "      <th>82</th>\n",
       "      <td>0.077952</td>\n",
       "      <td>-0.015868</td>\n",
       "      <td>0.075915</td>\n",
       "      <td>0.053868</td>\n",
       "      <td>-0.111634</td>\n",
       "      <td>-0.250178</td>\n",
       "      <td>0.343460</td>\n",
       "      <td>0.532028</td>\n",
       "      <td>-0.449158</td>\n",
       "      <td>-0.196887</td>\n",
       "      <td>...</td>\n",
       "      <td>0.125923</td>\n",
       "      <td>0.027885</td>\n",
       "      <td>-0.011041</td>\n",
       "      <td>0.132142</td>\n",
       "      <td>0.438647</td>\n",
       "      <td>-0.008945</td>\n",
       "      <td>-0.039806</td>\n",
       "      <td>-0.223347</td>\n",
       "      <td>0.175109</td>\n",
       "      <td>0.264830</td>\n",
       "    </tr>\n",
       "  </tbody>\n",
       "</table>\n",
       "<p>83 rows × 50 columns</p>\n",
       "</div>"
      ],
      "text/plain": [
       "          0         1         2         3         4         5         6   \\\n",
       "0  -0.002719 -0.011818  0.016423  0.005245 -0.009219  0.003074  0.013577   \n",
       "1  -0.008406 -0.011891  0.017645  0.002486 -0.025997 -0.025640  0.050415   \n",
       "2  -0.002322  0.004921 -0.014018  0.000818 -0.020432  0.011299  0.004815   \n",
       "3   0.174623 -0.023553  0.217905  0.183120 -0.237240 -0.565647  0.818398   \n",
       "4   0.083741 -0.011110  0.068336  0.050456 -0.104924 -0.233803  0.347471   \n",
       "..       ...       ...       ...       ...       ...       ...       ...   \n",
       "78  0.006135 -0.018129 -0.013512  0.004722 -0.003894 -0.011442  0.032502   \n",
       "79  0.011647 -0.012592  0.000541 -0.004369 -0.009547 -0.056180  0.056668   \n",
       "80  0.012585 -0.009308  0.010816  0.015669 -0.035260 -0.080370  0.101397   \n",
       "81  0.000819 -0.018310 -0.004395  0.018492 -0.019286 -0.017154  0.037234   \n",
       "82  0.077952 -0.015868  0.075915  0.053868 -0.111634 -0.250178  0.343460   \n",
       "\n",
       "          7         8         9   ...        40        41        42        43  \\\n",
       "0   0.023160  0.001390 -0.025841  ...  0.009896  0.015136 -0.004366  0.012651   \n",
       "1   0.044956 -0.042756 -0.010869  ...  0.000749 -0.007871 -0.021541  0.009767   \n",
       "2   0.020172  0.006132  0.000816  ... -0.018945  0.005738  0.004288  0.019892   \n",
       "3   1.274845 -1.016531 -0.445074  ...  0.292316  0.049560 -0.088239  0.313914   \n",
       "4   0.553488 -0.417727 -0.194440  ...  0.119342  0.013017 -0.031104  0.131230   \n",
       "..       ...       ...       ...  ...       ...       ...       ...       ...   \n",
       "78  0.034514 -0.029510 -0.016291  ... -0.006287  0.012422 -0.015539 -0.000584   \n",
       "79  0.095647 -0.071976 -0.025581  ...  0.018952  0.014057 -0.023691  0.027703   \n",
       "80  0.155294 -0.128561 -0.062186  ...  0.043932  0.019446 -0.001843  0.061448   \n",
       "81  0.093925 -0.047382 -0.022748  ...  0.012297  0.000779  0.004801  0.024003   \n",
       "82  0.532028 -0.449158 -0.196887  ...  0.125923  0.027885 -0.011041  0.132142   \n",
       "\n",
       "          44        45        46        47        48        49  \n",
       "0   0.016593  0.010369 -0.016997  0.007290  0.014640  0.021764  \n",
       "1   0.039747  0.012628  0.004076 -0.035864  0.010925  0.021204  \n",
       "2  -0.006822 -0.019526 -0.019676  0.000466  0.013602  0.018096  \n",
       "3   0.980936 -0.052374 -0.130661 -0.504107  0.373079  0.668292  \n",
       "4   0.436906 -0.022533 -0.038539 -0.237955  0.149920  0.264168  \n",
       "..       ...       ...       ...       ...       ...       ...  \n",
       "78  0.013338 -0.005418  0.004667  0.005623 -0.012916 -0.006834  \n",
       "79  0.092709 -0.019264 -0.004662 -0.052450  0.045687  0.055846  \n",
       "80  0.152789  0.002338 -0.028741 -0.057953  0.031271  0.079007  \n",
       "81  0.066294  0.014062 -0.024765 -0.046814  0.009905  0.028072  \n",
       "82  0.438647 -0.008945 -0.039806 -0.223347  0.175109  0.264830  \n",
       "\n",
       "[83 rows x 50 columns]"
      ]
     },
     "execution_count": 30,
     "metadata": {},
     "output_type": "execute_result"
    }
   ],
   "source": [
    "a = pd.DataFrame([w2vmodel.wv[w] for w in df_sum.cut[0] if w in w2vmodel.wv])\n",
    "a"
   ]
  },
  {
   "cell_type": "markdown",
   "id": "e954b747",
   "metadata": {},
   "source": [
    "### 生成建模所用的矩阵"
   ]
  },
  {
   "cell_type": "code",
   "execution_count": 31,
   "id": "8ebbf465",
   "metadata": {},
   "outputs": [],
   "source": [
    "def m_avgvec(word , w2vmodel):\n",
    "    return a.agg('mean')"
   ]
  },
  {
   "cell_type": "code",
   "execution_count": 32,
   "id": "68bd5d9c",
   "metadata": {
    "scrolled": true
   },
   "outputs": [
    {
     "name": "stdout",
     "output_type": "stream",
     "text": [
      "Wall time: 472 ms\n"
     ]
    },
    {
     "data": {
      "text/html": [
       "<div>\n",
       "<style scoped>\n",
       "    .dataframe tbody tr th:only-of-type {\n",
       "        vertical-align: middle;\n",
       "    }\n",
       "\n",
       "    .dataframe tbody tr th {\n",
       "        vertical-align: top;\n",
       "    }\n",
       "\n",
       "    .dataframe thead th {\n",
       "        text-align: right;\n",
       "    }\n",
       "</style>\n",
       "<table border=\"1\" class=\"dataframe\">\n",
       "  <thead>\n",
       "    <tr style=\"text-align: right;\">\n",
       "      <th></th>\n",
       "      <th>0</th>\n",
       "      <th>1</th>\n",
       "      <th>2</th>\n",
       "      <th>3</th>\n",
       "      <th>4</th>\n",
       "      <th>5</th>\n",
       "      <th>6</th>\n",
       "      <th>7</th>\n",
       "      <th>8</th>\n",
       "      <th>9</th>\n",
       "      <th>...</th>\n",
       "      <th>40</th>\n",
       "      <th>41</th>\n",
       "      <th>42</th>\n",
       "      <th>43</th>\n",
       "      <th>44</th>\n",
       "      <th>45</th>\n",
       "      <th>46</th>\n",
       "      <th>47</th>\n",
       "      <th>48</th>\n",
       "      <th>49</th>\n",
       "    </tr>\n",
       "  </thead>\n",
       "  <tbody>\n",
       "    <tr>\n",
       "      <th>0</th>\n",
       "      <td>0.061072</td>\n",
       "      <td>-0.009056</td>\n",
       "      <td>0.0747</td>\n",
       "      <td>0.060978</td>\n",
       "      <td>-0.080048</td>\n",
       "      <td>-0.193779</td>\n",
       "      <td>0.285566</td>\n",
       "      <td>0.442638</td>\n",
       "      <td>-0.356194</td>\n",
       "      <td>-0.153846</td>\n",
       "      <td>...</td>\n",
       "      <td>0.106169</td>\n",
       "      <td>0.015279</td>\n",
       "      <td>-0.027914</td>\n",
       "      <td>0.11165</td>\n",
       "      <td>0.344924</td>\n",
       "      <td>-0.016161</td>\n",
       "      <td>-0.043191</td>\n",
       "      <td>-0.182148</td>\n",
       "      <td>0.126877</td>\n",
       "      <td>0.229932</td>\n",
       "    </tr>\n",
       "    <tr>\n",
       "      <th>1</th>\n",
       "      <td>0.061072</td>\n",
       "      <td>-0.009056</td>\n",
       "      <td>0.0747</td>\n",
       "      <td>0.060978</td>\n",
       "      <td>-0.080048</td>\n",
       "      <td>-0.193779</td>\n",
       "      <td>0.285566</td>\n",
       "      <td>0.442638</td>\n",
       "      <td>-0.356194</td>\n",
       "      <td>-0.153846</td>\n",
       "      <td>...</td>\n",
       "      <td>0.106169</td>\n",
       "      <td>0.015279</td>\n",
       "      <td>-0.027914</td>\n",
       "      <td>0.11165</td>\n",
       "      <td>0.344924</td>\n",
       "      <td>-0.016161</td>\n",
       "      <td>-0.043191</td>\n",
       "      <td>-0.182148</td>\n",
       "      <td>0.126877</td>\n",
       "      <td>0.229932</td>\n",
       "    </tr>\n",
       "    <tr>\n",
       "      <th>2</th>\n",
       "      <td>0.061072</td>\n",
       "      <td>-0.009056</td>\n",
       "      <td>0.0747</td>\n",
       "      <td>0.060978</td>\n",
       "      <td>-0.080048</td>\n",
       "      <td>-0.193779</td>\n",
       "      <td>0.285566</td>\n",
       "      <td>0.442638</td>\n",
       "      <td>-0.356194</td>\n",
       "      <td>-0.153846</td>\n",
       "      <td>...</td>\n",
       "      <td>0.106169</td>\n",
       "      <td>0.015279</td>\n",
       "      <td>-0.027914</td>\n",
       "      <td>0.11165</td>\n",
       "      <td>0.344924</td>\n",
       "      <td>-0.016161</td>\n",
       "      <td>-0.043191</td>\n",
       "      <td>-0.182148</td>\n",
       "      <td>0.126877</td>\n",
       "      <td>0.229932</td>\n",
       "    </tr>\n",
       "    <tr>\n",
       "      <th>3</th>\n",
       "      <td>0.061072</td>\n",
       "      <td>-0.009056</td>\n",
       "      <td>0.0747</td>\n",
       "      <td>0.060978</td>\n",
       "      <td>-0.080048</td>\n",
       "      <td>-0.193779</td>\n",
       "      <td>0.285566</td>\n",
       "      <td>0.442638</td>\n",
       "      <td>-0.356194</td>\n",
       "      <td>-0.153846</td>\n",
       "      <td>...</td>\n",
       "      <td>0.106169</td>\n",
       "      <td>0.015279</td>\n",
       "      <td>-0.027914</td>\n",
       "      <td>0.11165</td>\n",
       "      <td>0.344924</td>\n",
       "      <td>-0.016161</td>\n",
       "      <td>-0.043191</td>\n",
       "      <td>-0.182148</td>\n",
       "      <td>0.126877</td>\n",
       "      <td>0.229932</td>\n",
       "    </tr>\n",
       "    <tr>\n",
       "      <th>4</th>\n",
       "      <td>0.061072</td>\n",
       "      <td>-0.009056</td>\n",
       "      <td>0.0747</td>\n",
       "      <td>0.060978</td>\n",
       "      <td>-0.080048</td>\n",
       "      <td>-0.193779</td>\n",
       "      <td>0.285566</td>\n",
       "      <td>0.442638</td>\n",
       "      <td>-0.356194</td>\n",
       "      <td>-0.153846</td>\n",
       "      <td>...</td>\n",
       "      <td>0.106169</td>\n",
       "      <td>0.015279</td>\n",
       "      <td>-0.027914</td>\n",
       "      <td>0.11165</td>\n",
       "      <td>0.344924</td>\n",
       "      <td>-0.016161</td>\n",
       "      <td>-0.043191</td>\n",
       "      <td>-0.182148</td>\n",
       "      <td>0.126877</td>\n",
       "      <td>0.229932</td>\n",
       "    </tr>\n",
       "  </tbody>\n",
       "</table>\n",
       "<p>5 rows × 50 columns</p>\n",
       "</div>"
      ],
      "text/plain": [
       "         0         1       2         3         4         5         6   \\\n",
       "0  0.061072 -0.009056  0.0747  0.060978 -0.080048 -0.193779  0.285566   \n",
       "1  0.061072 -0.009056  0.0747  0.060978 -0.080048 -0.193779  0.285566   \n",
       "2  0.061072 -0.009056  0.0747  0.060978 -0.080048 -0.193779  0.285566   \n",
       "3  0.061072 -0.009056  0.0747  0.060978 -0.080048 -0.193779  0.285566   \n",
       "4  0.061072 -0.009056  0.0747  0.060978 -0.080048 -0.193779  0.285566   \n",
       "\n",
       "         7         8         9   ...        40        41        42       43  \\\n",
       "0  0.442638 -0.356194 -0.153846  ...  0.106169  0.015279 -0.027914  0.11165   \n",
       "1  0.442638 -0.356194 -0.153846  ...  0.106169  0.015279 -0.027914  0.11165   \n",
       "2  0.442638 -0.356194 -0.153846  ...  0.106169  0.015279 -0.027914  0.11165   \n",
       "3  0.442638 -0.356194 -0.153846  ...  0.106169  0.015279 -0.027914  0.11165   \n",
       "4  0.442638 -0.356194 -0.153846  ...  0.106169  0.015279 -0.027914  0.11165   \n",
       "\n",
       "         44        45        46        47        48        49  \n",
       "0  0.344924 -0.016161 -0.043191 -0.182148  0.126877  0.229932  \n",
       "1  0.344924 -0.016161 -0.043191 -0.182148  0.126877  0.229932  \n",
       "2  0.344924 -0.016161 -0.043191 -0.182148  0.126877  0.229932  \n",
       "3  0.344924 -0.016161 -0.043191 -0.182148  0.126877  0.229932  \n",
       "4  0.344924 -0.016161 -0.043191 -0.182148  0.126877  0.229932  \n",
       "\n",
       "[5 rows x 50 columns]"
      ]
     },
     "execution_count": 32,
     "metadata": {},
     "output_type": "execute_result"
    }
   ],
   "source": [
    "%time train_vecs = pd.DataFrame([m_avgvec(s,w2vmodel) for s in x_xunlian])\n",
    "train_vecs.head()"
   ]
  },
  {
   "cell_type": "markdown",
   "id": "ddf070cb",
   "metadata": {},
   "source": [
    "### 对情感分析模型进行优化拟合"
   ]
  },
  {
   "cell_type": "code",
   "execution_count": 33,
   "id": "65aa88a3",
   "metadata": {},
   "outputs": [
    {
     "name": "stdout",
     "output_type": "stream",
     "text": [
      "[LibSVM]"
     ]
    },
    {
     "data": {
      "text/plain": [
       "0.8651794374393792"
      ]
     },
     "execution_count": 33,
     "metadata": {},
     "output_type": "execute_result"
    }
   ],
   "source": [
    "from sklearn.svm import SVC\n",
    "clf2 = SVC(kernel = \"rbf\",verbose=True)\n",
    "clf2.fit(train_vecs,y_xunlian)\n",
    "clf2.score(train_vecs,y_xunlian)"
   ]
  },
  {
   "cell_type": "markdown",
   "id": "99d4cb1b",
   "metadata": {},
   "source": [
    "### 使用classification_report查看拟合效果"
   ]
  },
  {
   "cell_type": "code",
   "execution_count": 34,
   "id": "c13009b4",
   "metadata": {},
   "outputs": [
    {
     "name": "stdout",
     "output_type": "stream",
     "text": [
      "              precision    recall  f1-score   support\n",
      "\n",
      "           0       0.00      0.00      0.00       139\n",
      "           1       0.87      1.00      0.93       892\n",
      "\n",
      "    accuracy                           0.87      1031\n",
      "   macro avg       0.43      0.50      0.46      1031\n",
      "weighted avg       0.75      0.87      0.80      1031\n",
      "\n"
     ]
    },
    {
     "name": "stderr",
     "output_type": "stream",
     "text": [
      "D:\\Software\\python\\Lib\\site-packages\\sklearn\\metrics\\_classification.py:1248: UndefinedMetricWarning: Precision and F-score are ill-defined and being set to 0.0 in labels with no predicted samples. Use `zero_division` parameter to control this behavior.\n",
      "  _warn_prf(average, modifier, msg_start, len(result))\n",
      "D:\\Software\\python\\Lib\\site-packages\\sklearn\\metrics\\_classification.py:1248: UndefinedMetricWarning: Precision and F-score are ill-defined and being set to 0.0 in labels with no predicted samples. Use `zero_division` parameter to control this behavior.\n",
      "  _warn_prf(average, modifier, msg_start, len(result))\n",
      "D:\\Software\\python\\Lib\\site-packages\\sklearn\\metrics\\_classification.py:1248: UndefinedMetricWarning: Precision and F-score are ill-defined and being set to 0.0 in labels with no predicted samples. Use `zero_division` parameter to control this behavior.\n",
      "  _warn_prf(average, modifier, msg_start, len(result))\n"
     ]
    }
   ],
   "source": [
    "from sklearn.metrics import classification_report\n",
    "print(classification_report(y_xunlian,clf2.predict(train_vecs)))"
   ]
  },
  {
   "cell_type": "markdown",
   "id": "88625a0a",
   "metadata": {},
   "source": [
    "### 保存模型，方便日后调用"
   ]
  },
  {
   "cell_type": "code",
   "execution_count": 35,
   "id": "22c36c95",
   "metadata": {
    "scrolled": true
   },
   "outputs": [
    {
     "data": {
      "text/plain": [
       "['评论情感分析模型']"
      ]
     },
     "execution_count": 35,
     "metadata": {},
     "output_type": "execute_result"
    }
   ],
   "source": [
    "import joblib\n",
    "joblib.dump(clf2,\"评论情感分析模型\")"
   ]
  },
  {
   "cell_type": "markdown",
   "id": "89c3d5f0",
   "metadata": {},
   "source": [
    "### 对模型进行二次预测"
   ]
  },
  {
   "cell_type": "code",
   "execution_count": 37,
   "id": "985dd29d",
   "metadata": {
    "scrolled": true,
    "tags": []
   },
   "outputs": [
    {
     "name": "stdout",
     "output_type": "stream",
     "text": [
      "假书，从内容到外表，跟原版太差了，退货 : 正向\n",
      "京东品类丰富，物品保真，包装完善，价格公道，优惠活动多多 : 正向\n",
      "None None\n"
     ]
    }
   ],
   "source": [
    "import jieba\n",
    "\n",
    "def w_pred(string,model):\n",
    "    words = jieba.lcut(string)\n",
    "    words_vecs = pd.DataFrame(m_avgvec(words,w2vmodel)).T\n",
    "    \n",
    "    result = model.predict(words_vecs)\n",
    "    \n",
    "    if int(result[0]) == 1:\n",
    "        print(string,\": 正向\")\n",
    "    else:\n",
    "        print(string,\": 负向\")\n",
    "\n",
    "comment1 = \"假书，从内容到外表，跟原版太差了，退货\"\n",
    "comment2 = \"京东品类丰富，物品保真，包装完善，价格公道，优惠活动多多\"\n",
    "\n",
    "print(w_pred(comment1,clf2)\n",
    "      ,w_pred(comment2,clf2))"
   ]
  },
  {
   "cell_type": "markdown",
   "id": "c72aaab9",
   "metadata": {},
   "source": [
    "### word2vec小结\n",
    "- word2vec模型要想起作用，需要大量的语料文本分析作为基础，来进行建模。本次爬取的负向评论样本量不足，因此对于负向评论模型预测的准确率很低"
   ]
  },
  {
   "cell_type": "markdown",
   "id": "b3bd2d18",
   "metadata": {},
   "source": [
    "# 三、评论词云图展现"
   ]
  },
  {
   "cell_type": "code",
   "execution_count": 38,
   "id": "bf413599",
   "metadata": {
    "jupyter": {
     "outputs_hidden": true
    },
    "tags": []
   },
   "outputs": [
    {
     "data": {
      "text/plain": [
       "['[', \"'\", '书', '都', '快', '出来', '了', '！', '！', '！']"
      ]
     },
     "execution_count": 38,
     "metadata": {},
     "output_type": "execute_result"
    }
   ],
   "source": [
    "#首先使用jieba进行分词处理\n",
    "cut_words = jieba.lcut(str(comment_negative['评价'].values),cut_all = False)\n",
    "cut_words[:10]"
   ]
  },
  {
   "cell_type": "code",
   "execution_count": 39,
   "id": "feba3e02",
   "metadata": {
    "jupyter": {
     "outputs_hidden": true
    },
    "tags": []
   },
   "outputs": [
    {
     "data": {
      "text/plain": [
       "['书',\n",
       " '买',\n",
       " '本书',\n",
       " '本书',\n",
       " '质量',\n",
       " '最差',\n",
       " '无数',\n",
       " '空白页',\n",
       " '一看',\n",
       " '盗版',\n",
       " '他家',\n",
       " '买书',\n",
       " '真的',\n",
       " '不敢恭维',\n",
       " '告诉',\n",
       " '保证',\n",
       " '正版',\n",
       " '图书',\n",
       " '纸张',\n",
       " '薄']"
      ]
     },
     "execution_count": 39,
     "metadata": {},
     "output_type": "execute_result"
    }
   ],
   "source": [
    "#导入停用词\n",
    "with open('D:/系统默认/桌面/停用词.txt',encoding=\"utf-8\") as f:\n",
    "    stop_word = f.read()\n",
    "\n",
    "new_comment = [] #新定义一个空列表\n",
    "for word in cut_words:\n",
    "    if word not in stop_word:\n",
    "        new_comment.append(word) #将不在停用词里的评论导入到空列表中\n",
    "new_comment[:20]"
   ]
  },
  {
   "cell_type": "markdown",
   "id": "fe60c6bb",
   "metadata": {
    "collapsed": true,
    "jupyter": {
     "outputs_hidden": true
    },
    "tags": []
   },
   "source": [
    "### 使用FreqDist和most_common_words找出最常出现的评论"
   ]
  },
  {
   "cell_type": "code",
   "execution_count": 40,
   "id": "417aba3b",
   "metadata": {
    "jupyter": {
     "outputs_hidden": true
    },
    "tags": []
   },
   "outputs": [
    {
     "data": {
      "text/plain": [
       "[('买', 44), ('书', 26), ('标价', 22), ('虚高', 22), ('薄', 20)]"
      ]
     },
     "execution_count": 40,
     "metadata": {},
     "output_type": "execute_result"
    }
   ],
   "source": [
    "freq_list = FreqDist(new_comment)\n",
    "most_common_words = freq_list.most_common(5)\n",
    "most_common_words"
   ]
  },
  {
   "cell_type": "markdown",
   "id": "5003dcf8",
   "metadata": {},
   "source": [
    "### 绘制词云图"
   ]
  },
  {
   "cell_type": "code",
   "execution_count": null,
   "id": "4fbfbe1e",
   "metadata": {},
   "outputs": [],
   "source": [
    "from PIL import Image\n",
    "import numpy as np\n",
    "import wordcloud\n",
    "from wordcloud import WordCloud\n",
    " "
   ]
  },
  {
   "cell_type": "code",
   "execution_count": 72,
   "id": "3d102f0c",
   "metadata": {},
   "outputs": [],
   "source": [
    "JD = plt.imread(r'D:\\系统默认\\桌面\\京东.jpg')"
   ]
  },
  {
   "cell_type": "code",
   "execution_count": 89,
   "id": "f35bfa73",
   "metadata": {},
   "outputs": [
    {
     "data": {
      "text/plain": [
       "<matplotlib.image.AxesImage at 0x2718c3012b0>"
      ]
     },
     "execution_count": 89,
     "metadata": {},
     "output_type": "execute_result"
    },
    {
     "data": {
      "image/png": "[encoded data removed]",
      "text/plain": [
       "<Figure size 360x360 with 1 Axes>"
      ]
     },
     "metadata": {
      "needs_background": "light"
     },
     "output_type": "display_data"
    }
   ],
   "source": [
    "plt.figure(figsize=(5,5))\n",
    "plt.imshow(JD)"
   ]
  },
  {
   "cell_type": "code",
   "execution_count": 87,
   "id": "c90ecee7",
   "metadata": {},
   "outputs": [
    {
     "data": {
      "image/png": "[encoded data removed]",
      "text/plain": [
       "<Figure size 432x288 with 1 Axes>"
      ]
     },
     "metadata": {
      "needs_background": "light"
     },
     "output_type": "display_data"
    },
    {
     "data": {
      "text/plain": [
       "<wordcloud.wordcloud.WordCloud at 0x2718c69de20>"
      ]
     },
     "execution_count": 87,
     "metadata": {},
     "output_type": "execute_result"
    }
   ],
   "source": [
    "mask = JD\n",
    "w = WordCloud(\n",
    "    font_path='C:\\Windows\\Fonts\\STZHONGS.TTF',\n",
    "    background_color=\"white\",\n",
    "    height=1000,\n",
    "    width =2000,\n",
    "    max_words = 30,\n",
    "    max_font_size= 300,\n",
    "    mask=mask\n",
    ")\n",
    "\n",
    "plt.imshow(w.generate(\" \".join(new_comment)))\n",
    "\n",
    "plt.axis(\"off\")\n",
    "plt.show()\n",
    "w_image.to_file(\"京东图书评论3.png\")"
   ]
  },
  {
   "cell_type": "code",
   "execution_count": 95,
   "id": "aec1b98e",
   "metadata": {},
   "outputs": [
    {
     "data": {
      "image/png": "[encoded data removed]",
      "text/plain": [
       "<Figure size 432x288 with 1 Axes>"
      ]
     },
     "metadata": {
      "needs_background": "light"
     },
     "output_type": "display_data"
    },
    {
     "data": {
      "text/plain": [
       "<wordcloud.wordcloud.WordCloud at 0x2718c69de20>"
      ]
     },
     "execution_count": 95,
     "metadata": {},
     "output_type": "execute_result"
    }
   ],
   "source": [
    "w = WordCloud(\n",
    "    font_path='C:\\Windows\\Fonts\\STZHONGS.TTF',\n",
    "    background_color=\"white\",\n",
    "    height=1000,\n",
    "    width =2000,\n",
    "    max_words = 30,\n",
    "    max_font_size= 400,\n",
    "    #mask=mask\n",
    ")\n",
    "\n",
    "plt.imshow(w.generate(\" \".join(new_comment)))\n",
    "\n",
    "plt.axis(\"off\")\n",
    "plt.show()\n",
    "w_image.to_file(\"京东图书评论3.png\")"
   ]
  }
 ],
 "metadata": {
  "kernelspec": {
   "display_name": "Python 3",
   "language": "python",
   "name": "python3"
  },
  "language_info": {
   "codemirror_mode": {
    "name": "ipython",
    "version": 3
   },
   "file_extension": ".py",
   "mimetype": "text/x-python",
   "name": "python",
   "nbconvert_exporter": "python",
   "pygments_lexer": "ipython3",
   "version": "3.8.5"
  }
 },
 "nbformat": 4,
 "nbformat_minor": 5
}
